{
 "cells": [
  {
   "cell_type": "code",
   "execution_count": null,
   "id": "cf74b50c-0b3b-42c0-b831-36ef0827af6e",
   "metadata": {},
   "outputs": [],
   "source": []
  },
  {
   "cell_type": "code",
   "execution_count": 1,
   "id": "5081e9b3-0a9f-45f7-8eea-52053edb6151",
   "metadata": {},
   "outputs": [],
   "source": [
    "# data management\n",
    "import pandas as pd\n",
    "from scipy.io import mmread\n",
    "import scanpy as sc\n",
    "import pickle\n",
    "import numpy as np\n",
    "\n",
    "# scaler\n",
    "from sklearn.preprocessing import StandardScaler\n",
    "\n",
    "# models\n",
    "from sklearn.linear_model import LogisticRegression\n",
    "from sklearn.ensemble import RandomForestClassifier\n",
    "\n",
    "# addition to models\n",
    "from sklearn.calibration import CalibratedClassifierCV\n",
    "\n",
    "# data splitting\n",
    "from sklearn.model_selection import train_test_split\n",
    "\n",
    "# scoring\n",
    "from sklearn.metrics import f1_score\n",
    "from sklearn.metrics import precision_recall_fscore_support\n",
    "\n",
    "# time execution\n",
    "import time\n",
    "\n",
    "ncores = 32"
   ]
  },
  {
   "cell_type": "code",
   "execution_count": null,
   "id": "e1b80837-b5ab-44b0-a872-89b9345dfe01",
   "metadata": {},
   "outputs": [],
   "source": []
  },
  {
   "cell_type": "code",
   "execution_count": 2,
   "id": "ed8a4f85-004a-4bff-8942-7b6c69ec447e",
   "metadata": {},
   "outputs": [],
   "source": [
    "exp_ax = mmread(\"../data/processed/ax_regions_data.mtx\").tocsr().transpose()\n",
    "meta_ax = pd.read_csv(\"../data/processed/ax_regions_meta.csv\", index_col = 0)"
   ]
  },
  {
   "cell_type": "code",
   "execution_count": null,
   "id": "48898d0a-ea54-4e49-9ad3-837096fac33c",
   "metadata": {},
   "outputs": [],
   "source": []
  },
  {
   "cell_type": "code",
   "execution_count": 3,
   "id": "732b26e3-ede8-467a-ab99-db6666e05105",
   "metadata": {},
   "outputs": [
    {
     "name": "stderr",
     "output_type": "stream",
     "text": [
      "<ipython-input-3-9bd861fb29a0>:9: SettingWithCopyWarning: \n",
      "A value is trying to be set on a copy of a slice from a DataFrame.\n",
      "Try using .loc[row_indexer,col_indexer] = value instead\n",
      "\n",
      "See the caveats in the documentation: https://pandas.pydata.org/pandas-docs/stable/user_guide/indexing.html#returning-a-view-versus-a-copy\n",
      "  meta_reg[\"cc_reg\"] = meta_reg.cellclusters+\"..\"+meta_reg.regions\n"
     ]
    }
   ],
   "source": [
    "meta_reg = meta_ax.loc[meta_ax.regions!=\"whole pallium\",:]\n",
    "exp_reg = exp_ax[:,meta_ax.regions!=\"whole pallium\"]\n",
    "# make genes uniform\n",
    "g_use = np.asarray(exp_reg.sum(axis = 1)>0)[:,0]\n",
    "exp_reg = exp_reg[g_use,:].transpose()\n",
    "exp_wp = exp_ax[:,meta_ax.regions==\"whole pallium\"]\n",
    "exp_wp = exp_wp[g_use,:].transpose()\n",
    "# variable for startification\n",
    "meta_reg[\"cc_reg\"] = meta_reg.cellclusters+\"..\"+meta_reg.regions"
   ]
  },
  {
   "cell_type": "code",
   "execution_count": null,
   "id": "88e8c122-9ec1-4ebb-86fb-a78cd717a1c1",
   "metadata": {},
   "outputs": [],
   "source": []
  },
  {
   "cell_type": "code",
   "execution_count": 4,
   "id": "5f2c11a5-c3e0-4604-b598-f0cd1f4c763c",
   "metadata": {},
   "outputs": [
    {
     "name": "stderr",
     "output_type": "stream",
     "text": [
      "/home/tpires/bin/miniconda3/envs/scgen-env/lib/python3.9/site-packages/pandas/core/indexing.py:1676: SettingWithCopyWarning: \n",
      "A value is trying to be set on a copy of a slice from a DataFrame.\n",
      "Try using .loc[row_indexer,col_indexer] = value instead\n",
      "\n",
      "See the caveats in the documentation: https://pandas.pydata.org/pandas-docs/stable/user_guide/indexing.html#returning-a-view-versus-a-copy\n",
      "  self._setitem_single_column(ilocs[0], value, pi)\n"
     ]
    }
   ],
   "source": [
    "ct_regs = [x.split(\"..\")[0] for x in meta_reg[\"cc_reg\"].value_counts().index.values[meta_reg[\"cc_reg\"].value_counts()<5]]\n",
    "meta_reg.loc[[x in ct_regs for x in meta_reg.cellclusters],\"cc_reg\"] = meta_reg.loc[[x in ct_regs for x in meta_reg.cellclusters],\"regions\"].values"
   ]
  },
  {
   "cell_type": "code",
   "execution_count": null,
   "id": "ab1ac000-3da4-47f7-ac80-a3344df14a7f",
   "metadata": {},
   "outputs": [],
   "source": []
  },
  {
   "cell_type": "code",
   "execution_count": 24,
   "id": "4b3f5443-4462-4c3f-a9fb-6db7526743e5",
   "metadata": {},
   "outputs": [
    {
     "name": "stderr",
     "output_type": "stream",
     "text": [
      "<ipython-input-24-33461497c638>:1: SettingWithCopyWarning: \n",
      "A value is trying to be set on a copy of a slice from a DataFrame.\n",
      "Try using .loc[row_indexer,col_indexer] = value instead\n",
      "\n",
      "See the caveats in the documentation: https://pandas.pydata.org/pandas-docs/stable/user_guide/indexing.html#returning-a-view-versus-a-copy\n",
      "  meta_reg[\"regions_ord\"] = pd.Categorical(meta_reg.regions, categories=[\"medial\", \"dorsal\", \"lateral\"]).codes\n"
     ]
    }
   ],
   "source": [
    "meta_reg[\"regions_ord\"] = pd.Categorical(meta_reg.regions, categories=[\"medial\", \"dorsal\", \"lateral\"]).codes"
   ]
  },
  {
   "cell_type": "code",
   "execution_count": null,
   "id": "e83fda25-cfc2-434f-a1ed-cf3ba57f6ab3",
   "metadata": {},
   "outputs": [],
   "source": []
  },
  {
   "cell_type": "code",
   "execution_count": 26,
   "id": "69d59454-8f3f-4806-8cb6-880e6fe22c56",
   "metadata": {},
   "outputs": [],
   "source": [
    "X_train, X_test, y_train, y_test = train_test_split(exp_reg, meta_reg[\"regions_ord\"], test_size=0.2, \n",
    "                                                    random_state=42, stratify = meta_reg[\"cc_reg\"].values)"
   ]
  },
  {
   "cell_type": "code",
   "execution_count": null,
   "id": "fce34d98-984c-4d35-94cc-30a03236fa14",
   "metadata": {},
   "outputs": [],
   "source": []
  },
  {
   "cell_type": "code",
   "execution_count": 27,
   "id": "af4c88c6-9354-43f5-abed-f0faab5d6263",
   "metadata": {},
   "outputs": [],
   "source": [
    "scaler = StandardScaler(with_mean = False)\n",
    "scaler.fit(X_train)\n",
    "\n",
    "# scale\n",
    "X_train_sc = scaler.transform(X_train)\n",
    "X_test_sc = scaler.transform(X_test)"
   ]
  },
  {
   "cell_type": "code",
   "execution_count": null,
   "id": "16336e69-60a3-44e2-9965-ad5130b8cb98",
   "metadata": {},
   "outputs": [],
   "source": []
  },
  {
   "cell_type": "code",
   "execution_count": 28,
   "id": "58f977a2-5b18-4eb3-9c2a-d3933cadb867",
   "metadata": {},
   "outputs": [],
   "source": [
    "from sklearn.base import clone\n",
    "\n",
    "\n",
    "class OrdinalClassifier():\n",
    "    \n",
    "    def __init__(self, clf):\n",
    "        self.clf = clf\n",
    "        self.clfs = {}\n",
    "    \n",
    "    def fit(self, X, y):\n",
    "        self.unique_class = np.sort(np.unique(y))\n",
    "        if self.unique_class.shape[0] > 2:\n",
    "            for i in range(self.unique_class.shape[0]-1):\n",
    "                # for each k - 1 ordinal value we fit a binary classification problem\n",
    "                binary_y = (y > self.unique_class[i]).astype(np.uint8)\n",
    "                clf = clone(self.clf)\n",
    "                clf.fit(X, binary_y)\n",
    "                self.clfs[i] = clf\n",
    "    \n",
    "    def predict_proba(self, X):\n",
    "        clfs_predict = {k:self.clfs[k].predict_proba(X) for k in self.clfs}\n",
    "        predicted = []\n",
    "        for i,y in enumerate(self.unique_class):\n",
    "            if i == 0:\n",
    "                # V1 = 1 - Pr(y > V1)\n",
    "                predicted.append(1 - clfs_predict[y][:,1])\n",
    "            elif y in clfs_predict:\n",
    "                # Vi = Pr(y > Vi-1) - Pr(y > Vi)\n",
    "                 predicted.append(clfs_predict[y-1][:,1] - clfs_predict[y][:,1])\n",
    "            else:\n",
    "                # Vk = Pr(y > Vk-1)\n",
    "                predicted.append(clfs_predict[y-1][:,1])\n",
    "        return np.vstack(predicted).T\n",
    "    \n",
    "    def predict(self, X):\n",
    "        return np.argmax(self.predict_proba(X), axis=1)"
   ]
  },
  {
   "cell_type": "code",
   "execution_count": null,
   "id": "3e072bf9-f710-4cb9-a97c-627180508d74",
   "metadata": {},
   "outputs": [],
   "source": []
  },
  {
   "cell_type": "code",
   "execution_count": 29,
   "id": "114069ad-2649-4893-aa61-3c37b5ec1460",
   "metadata": {},
   "outputs": [],
   "source": [
    "lr = LogisticRegression(random_state = 1, max_iter = 1000, n_jobs = ncores)"
   ]
  },
  {
   "cell_type": "code",
   "execution_count": null,
   "id": "deda6f7d-fb72-428e-9ea7-45fa41431148",
   "metadata": {},
   "outputs": [],
   "source": []
  },
  {
   "cell_type": "code",
   "execution_count": 30,
   "id": "fdeaf005-1c43-43e6-bcab-c2a0c9376390",
   "metadata": {},
   "outputs": [
    {
     "name": "stdout",
     "output_type": "stream",
     "text": [
      "LR 1vRest: 510.82 seconds\n",
      "LR Ord 1vRest: 256.39 seconds\n"
     ]
    }
   ],
   "source": [
    "start_time = time.time()\n",
    "cal_lr = CalibratedClassifierCV(lr, method=\"isotonic\", cv=5, n_jobs = ncores)\n",
    "cal_lr.fit(X_train_sc, y_train)\n",
    "print(\"LR 1vRest: %s seconds\" % (round(time.time() - start_time, 2)))\n",
    "\n",
    "start_time = time.time()\n",
    "ord_lr = OrdinalClassifier(CalibratedClassifierCV(lr, method=\"isotonic\", cv=5, n_jobs = ncores))\n",
    "ord_lr.fit(X_train_sc, y_train)\n",
    "print(\"LR Ord 1vRest: %s seconds\" % (round(time.time() - start_time, 2)))"
   ]
  },
  {
   "cell_type": "code",
   "execution_count": null,
   "id": "099934e2-0d01-40ed-895b-d9fbf45b2bed",
   "metadata": {},
   "outputs": [],
   "source": []
  },
  {
   "cell_type": "code",
   "execution_count": 31,
   "id": "314db938-ab68-4142-88ac-75528978189a",
   "metadata": {},
   "outputs": [
    {
     "name": "stdout",
     "output_type": "stream",
     "text": [
      "LR 1vRest: 0.78 seconds\n",
      "LR Ord 1vRest: 0.99 seconds\n"
     ]
    }
   ],
   "source": [
    "start_time = time.time()\n",
    "pred_lr = cal_lr.predict(X_test_sc)\n",
    "print(\"LR 1vRest: %s seconds\" % (round(time.time() - start_time, 2)))\n",
    "\n",
    "start_time = time.time()\n",
    "pred_ord = ord_lr.predict(X_test_sc)\n",
    "print(\"LR Ord 1vRest: %s seconds\" % (round(time.time() - start_time, 2)))"
   ]
  },
  {
   "cell_type": "code",
   "execution_count": null,
   "id": "fd2c159f-516c-42cc-99f9-49f7330298b5",
   "metadata": {},
   "outputs": [],
   "source": []
  },
  {
   "cell_type": "code",
   "execution_count": 32,
   "id": "6355be90-17d9-4c72-ab8a-67a0eaed2ccf",
   "metadata": {},
   "outputs": [
    {
     "name": "stdout",
     "output_type": "stream",
     "text": [
      "0.9959553029439522\n",
      "0.9951486281675854\n"
     ]
    }
   ],
   "source": [
    "f1_lr = f1_score(y_test, pred_lr, average = \"macro\")\n",
    "print(f1_lr)\n",
    "\n",
    "f1_ord = f1_score(y_test, pred_ord, average = \"macro\")\n",
    "print(f1_ord)"
   ]
  },
  {
   "cell_type": "code",
   "execution_count": null,
   "id": "ef640986-de58-4d67-8383-cae7cadc4549",
   "metadata": {},
   "outputs": [],
   "source": []
  },
  {
   "cell_type": "code",
   "execution_count": 45,
   "id": "09e21507-7f13-4bde-9418-e6c050ca4e30",
   "metadata": {},
   "outputs": [
    {
     "name": "stdout",
     "output_type": "stream",
     "text": [
      "(array([0.99863014, 0.99284985, 0.99666667]), array([0.99954296, 0.99386503, 0.99418121]), array([0.99908634, 0.99335718, 0.99542239]), array([2188,  978, 1203]))\n",
      "(array([0.99771898, 0.99383984, 0.99501247]), array([0.99954296, 0.98977505, 0.99501247]), array([0.99863014, 0.99180328, 0.99501247]), array([2188,  978, 1203]))\n"
     ]
    }
   ],
   "source": [
    "all_lr = precision_recall_fscore_support(y_test, pred_lr, zero_division = 0)\n",
    "print(all_lr)\n",
    "all_ord = precision_recall_fscore_support(y_test, pred_ord, zero_division = 0)\n",
    "print(all_ord)"
   ]
  },
  {
   "cell_type": "code",
   "execution_count": null,
   "id": "0e3d23da-40c1-487c-94b3-a44b417ec96e",
   "metadata": {},
   "outputs": [],
   "source": []
  },
  {
   "cell_type": "code",
   "execution_count": 48,
   "id": "fd6f6f3e-cb5b-420b-b091-0e6286b46bbf",
   "metadata": {},
   "outputs": [
    {
     "name": "stdout",
     "output_type": "stream",
     "text": [
      "                        y_test  pred_lr         0         1         2\n",
      "CCGTGAGAGCCGATTT-1_2_5       1        1  0.000000  1.000000  0.000000\n",
      "CAAGGGAAGCAACAAT-1_6_5       0        0  1.000000  0.000000  0.000000\n",
      "CTCAAGACAACGGCTC-1_5_5       0        0  1.000000  0.000000  0.000000\n",
      "ATCCTATGTGGTCCCA-1_2_5       1        1  0.000000  1.000000  0.000000\n",
      "TACGGTAAGAGGCTGT-1_5_5       0        0  0.999734  0.000000  0.000266\n",
      "...                        ...      ...       ...       ...       ...\n",
      "ATGATCGTCTCTTCAA-1_4_5       2        2  0.000000  0.000000  1.000000\n",
      "GCGAGAAAGCAAGTCG-1_6_5       0        0  1.000000  0.000000  0.000000\n",
      "ATCTCTATCAGACTGT-1_1_5       1        1  0.000000  0.999734  0.000266\n",
      "CGGAGAATCCCAACTC-1_5_5       0        0  1.000000  0.000000  0.000000\n",
      "CTTCCGATCTGTGTGA-1_5_5       0        0  0.998786  0.000000  0.001214\n",
      "\n",
      "[4369 rows x 5 columns]\n",
      "                        y_test  pred_lr    0         1         2\n",
      "CCGTGAGAGCCGATTT-1_2_5       1        1  0.0  1.000000  0.000000\n",
      "CAAGGGAAGCAACAAT-1_6_5       0        0  1.0  0.000000  0.000000\n",
      "CTCAAGACAACGGCTC-1_5_5       0        0  1.0  0.000000  0.000000\n",
      "ATCCTATGTGGTCCCA-1_2_5       1        1  0.0  1.000000  0.000000\n",
      "TACGGTAAGAGGCTGT-1_5_5       0        0  1.0 -0.000334  0.000334\n",
      "...                        ...      ...  ...       ...       ...\n",
      "ATGATCGTCTCTTCAA-1_4_5       2        2  0.0  0.000000  1.000000\n",
      "GCGAGAAAGCAAGTCG-1_6_5       0        0  1.0  0.000000  0.000000\n",
      "ATCTCTATCAGACTGT-1_1_5       1        1  0.0  1.000000  0.000000\n",
      "CGGAGAATCCCAACTC-1_5_5       0        0  1.0  0.000000  0.000000\n",
      "CTTCCGATCTGTGTGA-1_5_5       0        0  1.0 -0.000334  0.000334\n",
      "\n",
      "[4369 rows x 5 columns]\n"
     ]
    }
   ],
   "source": [
    "proba_lr = cal_lr.predict_proba(X_test_sc)\n",
    "probs_df = pd.DataFrame(proba_lr, index=y_test.index.values, columns=cal_lr.classes_)\n",
    "print(pd.concat([pd.DataFrame({\"y_test\": y_test, \"pred_lr\": pred_lr}), probs_df], axis = 1))\n",
    "\n",
    "proba_ord = ord_lr.predict_proba(X_test_sc)\n",
    "probs_df = pd.DataFrame(proba_ord, index=y_test.index.values, columns=cal_lr.classes_)\n",
    "print(pd.concat([pd.DataFrame({\"y_test\": y_test, \"pred_lr\": pred_lr}), probs_df], axis = 1))"
   ]
  },
  {
   "cell_type": "code",
   "execution_count": null,
   "id": "17129b75-0ad4-44bc-ba07-05c51806b953",
   "metadata": {},
   "outputs": [],
   "source": []
  },
  {
   "cell_type": "code",
   "execution_count": 49,
   "id": "8b2d6623-47d0-4f53-b5ff-0d47b6e6fc50",
   "metadata": {},
   "outputs": [
    {
     "name": "stderr",
     "output_type": "stream",
     "text": [
      "/home/tpires/bin/miniconda3/envs/scgen-env/lib/python3.9/site-packages/sklearn/calibration.py:659: RuntimeWarning: invalid value encountered in true_divide\n",
      "  proba /= np.sum(proba, axis=1)[:, np.newaxis]\n",
      "/home/tpires/bin/miniconda3/envs/scgen-env/lib/python3.9/site-packages/sklearn/calibration.py:659: RuntimeWarning: invalid value encountered in true_divide\n",
      "  proba /= np.sum(proba, axis=1)[:, np.newaxis]\n",
      "/home/tpires/bin/miniconda3/envs/scgen-env/lib/python3.9/site-packages/sklearn/calibration.py:659: RuntimeWarning: invalid value encountered in true_divide\n",
      "  proba /= np.sum(proba, axis=1)[:, np.newaxis]\n"
     ]
    }
   ],
   "source": [
    "pred_lr_all = cal_lr.predict(scaler.transform(exp_wp))\n",
    "pred_lr_ord = ord_lr.predict(scaler.transform(exp_wp))"
   ]
  },
  {
   "cell_type": "code",
   "execution_count": 50,
   "id": "e3f2a74e-a61b-41bc-a47d-805767380455",
   "metadata": {},
   "outputs": [
    {
     "data": {
      "text/html": [
       "<div>\n",
       "<style scoped>\n",
       "    .dataframe tbody tr th:only-of-type {\n",
       "        vertical-align: middle;\n",
       "    }\n",
       "\n",
       "    .dataframe tbody tr th {\n",
       "        vertical-align: top;\n",
       "    }\n",
       "\n",
       "    .dataframe thead th {\n",
       "        text-align: right;\n",
       "    }\n",
       "</style>\n",
       "<table border=\"1\" class=\"dataframe\">\n",
       "  <thead>\n",
       "    <tr style=\"text-align: right;\">\n",
       "      <th>col_0</th>\n",
       "      <th>0</th>\n",
       "      <th>1</th>\n",
       "      <th>2</th>\n",
       "    </tr>\n",
       "    <tr>\n",
       "      <th>row_0</th>\n",
       "      <th></th>\n",
       "      <th></th>\n",
       "      <th></th>\n",
       "    </tr>\n",
       "  </thead>\n",
       "  <tbody>\n",
       "    <tr>\n",
       "      <th>0</th>\n",
       "      <td>7135</td>\n",
       "      <td>2083</td>\n",
       "      <td>24</td>\n",
       "    </tr>\n",
       "    <tr>\n",
       "      <th>1</th>\n",
       "      <td>33</td>\n",
       "      <td>7852</td>\n",
       "      <td>16</td>\n",
       "    </tr>\n",
       "    <tr>\n",
       "      <th>2</th>\n",
       "      <td>3</td>\n",
       "      <td>2145</td>\n",
       "      <td>7000</td>\n",
       "    </tr>\n",
       "  </tbody>\n",
       "</table>\n",
       "</div>"
      ],
      "text/plain": [
       "col_0     0     1     2\n",
       "row_0                  \n",
       "0      7135  2083    24\n",
       "1        33  7852    16\n",
       "2         3  2145  7000"
      ]
     },
     "execution_count": 50,
     "metadata": {},
     "output_type": "execute_result"
    }
   ],
   "source": [
    "pd.crosstab(pred_lr_all, pred_lr_ord)"
   ]
  },
  {
   "cell_type": "code",
   "execution_count": 82,
   "id": "484d5395-8d2b-4c67-82ff-2f31d4e19ec9",
   "metadata": {},
   "outputs": [],
   "source": [
    "likelyreg = pd.read_csv(\"../singlereg.csv\", index_col = 0, header=0)\n",
    "likelyreg = likelyreg.loc[likelyreg.regions==\"whole pallium\",:]\n",
    "likelyreg[\"likelyregion\"] = pd.Categorical(likelyreg[\"likelyregion\"], categories = [\"medial\", \"dorsal\", \"lateral\"])\n",
    "meta_wp = meta_ax.loc[meta_ax.regions==\"whole pallium\",:]"
   ]
  },
  {
   "cell_type": "code",
   "execution_count": 83,
   "id": "3b99576e-1e23-47f3-a411-036de4a30871",
   "metadata": {},
   "outputs": [],
   "source": [
    "pred_df = pd.DataFrame({\"pred_all\": pred_lr_all, \"pred_ord\": pred_lr_ord}, index = meta_wp.index.values)"
   ]
  },
  {
   "cell_type": "code",
   "execution_count": 84,
   "id": "7f6e1304-fe9f-48fe-aebe-c150cef308be",
   "metadata": {},
   "outputs": [],
   "source": [
    "pred_df = pred_df.loc[likelyreg.index.values,:]"
   ]
  },
  {
   "cell_type": "code",
   "execution_count": 85,
   "id": "4f78cb12-9af5-4af9-b43b-62f9ad1b3919",
   "metadata": {},
   "outputs": [
    {
     "data": {
      "text/html": [
       "<div>\n",
       "<style scoped>\n",
       "    .dataframe tbody tr th:only-of-type {\n",
       "        vertical-align: middle;\n",
       "    }\n",
       "\n",
       "    .dataframe tbody tr th {\n",
       "        vertical-align: top;\n",
       "    }\n",
       "\n",
       "    .dataframe thead th {\n",
       "        text-align: right;\n",
       "    }\n",
       "</style>\n",
       "<table border=\"1\" class=\"dataframe\">\n",
       "  <thead>\n",
       "    <tr style=\"text-align: right;\">\n",
       "      <th></th>\n",
       "      <th>pred_all</th>\n",
       "      <th>pred_ord</th>\n",
       "    </tr>\n",
       "  </thead>\n",
       "  <tbody>\n",
       "    <tr>\n",
       "      <th>AAACAGCCAACCTGGT-1_1</th>\n",
       "      <td>1</td>\n",
       "      <td>1</td>\n",
       "    </tr>\n",
       "    <tr>\n",
       "      <th>AAACAGCCAACTGGCT-1_1</th>\n",
       "      <td>1</td>\n",
       "      <td>1</td>\n",
       "    </tr>\n",
       "    <tr>\n",
       "      <th>AAACAGCCAAGGGTTG-1_1</th>\n",
       "      <td>1</td>\n",
       "      <td>1</td>\n",
       "    </tr>\n",
       "    <tr>\n",
       "      <th>AAACAGCCAAGGTCCT-1_1</th>\n",
       "      <td>0</td>\n",
       "      <td>0</td>\n",
       "    </tr>\n",
       "    <tr>\n",
       "      <th>AAACAGCCATGACTAT-1_1</th>\n",
       "      <td>2</td>\n",
       "      <td>2</td>\n",
       "    </tr>\n",
       "  </tbody>\n",
       "</table>\n",
       "</div>"
      ],
      "text/plain": [
       "                      pred_all  pred_ord\n",
       "AAACAGCCAACCTGGT-1_1         1         1\n",
       "AAACAGCCAACTGGCT-1_1         1         1\n",
       "AAACAGCCAAGGGTTG-1_1         1         1\n",
       "AAACAGCCAAGGTCCT-1_1         0         0\n",
       "AAACAGCCATGACTAT-1_1         2         2"
      ]
     },
     "execution_count": 85,
     "metadata": {},
     "output_type": "execute_result"
    }
   ],
   "source": [
    "pred_df.head()"
   ]
  },
  {
   "cell_type": "code",
   "execution_count": 86,
   "id": "a85fb8da-be5a-41ea-bb65-258375c39c67",
   "metadata": {},
   "outputs": [
    {
     "data": {
      "text/html": [
       "<div>\n",
       "<style scoped>\n",
       "    .dataframe tbody tr th:only-of-type {\n",
       "        vertical-align: middle;\n",
       "    }\n",
       "\n",
       "    .dataframe tbody tr th {\n",
       "        vertical-align: top;\n",
       "    }\n",
       "\n",
       "    .dataframe thead th {\n",
       "        text-align: right;\n",
       "    }\n",
       "</style>\n",
       "<table border=\"1\" class=\"dataframe\">\n",
       "  <thead>\n",
       "    <tr style=\"text-align: right;\">\n",
       "      <th></th>\n",
       "      <th>cellclusters</th>\n",
       "      <th>regions</th>\n",
       "      <th>likelyregion</th>\n",
       "    </tr>\n",
       "  </thead>\n",
       "  <tbody>\n",
       "    <tr>\n",
       "      <th>AAACAGCCAACCTGGT-1_1</th>\n",
       "      <td>glut_SUBSET_1</td>\n",
       "      <td>whole pallium</td>\n",
       "      <td>dorsal</td>\n",
       "    </tr>\n",
       "    <tr>\n",
       "      <th>AAACAGCCAACTGGCT-1_1</th>\n",
       "      <td>glut_SUBSET_1</td>\n",
       "      <td>whole pallium</td>\n",
       "      <td>dorsal</td>\n",
       "    </tr>\n",
       "    <tr>\n",
       "      <th>AAACAGCCAAGGGTTG-1_1</th>\n",
       "      <td>glut_SUBSET_1</td>\n",
       "      <td>whole pallium</td>\n",
       "      <td>dorsal</td>\n",
       "    </tr>\n",
       "    <tr>\n",
       "      <th>AAACAGCCAAGGTCCT-1_1</th>\n",
       "      <td>glut_SUBSET_0</td>\n",
       "      <td>whole pallium</td>\n",
       "      <td>medial</td>\n",
       "    </tr>\n",
       "    <tr>\n",
       "      <th>AAACAGCCATGACTAT-1_1</th>\n",
       "      <td>GABA_SUBSET_0</td>\n",
       "      <td>whole pallium</td>\n",
       "      <td>lateral</td>\n",
       "    </tr>\n",
       "  </tbody>\n",
       "</table>\n",
       "</div>"
      ],
      "text/plain": [
       "                       cellclusters        regions likelyregion\n",
       "AAACAGCCAACCTGGT-1_1  glut_SUBSET_1  whole pallium       dorsal\n",
       "AAACAGCCAACTGGCT-1_1  glut_SUBSET_1  whole pallium       dorsal\n",
       "AAACAGCCAAGGGTTG-1_1  glut_SUBSET_1  whole pallium       dorsal\n",
       "AAACAGCCAAGGTCCT-1_1  glut_SUBSET_0  whole pallium       medial\n",
       "AAACAGCCATGACTAT-1_1  GABA_SUBSET_0  whole pallium      lateral"
      ]
     },
     "execution_count": 86,
     "metadata": {},
     "output_type": "execute_result"
    }
   ],
   "source": [
    "likelyreg.head()"
   ]
  },
  {
   "cell_type": "code",
   "execution_count": 87,
   "id": "8ab01be2-44a5-42b5-ae70-5f302db98571",
   "metadata": {},
   "outputs": [
    {
     "data": {
      "text/html": [
       "<div>\n",
       "<style scoped>\n",
       "    .dataframe tbody tr th:only-of-type {\n",
       "        vertical-align: middle;\n",
       "    }\n",
       "\n",
       "    .dataframe tbody tr th {\n",
       "        vertical-align: top;\n",
       "    }\n",
       "\n",
       "    .dataframe thead th {\n",
       "        text-align: right;\n",
       "    }\n",
       "</style>\n",
       "<table border=\"1\" class=\"dataframe\">\n",
       "  <thead>\n",
       "    <tr style=\"text-align: right;\">\n",
       "      <th>likelyregion</th>\n",
       "      <th>medial</th>\n",
       "      <th>dorsal</th>\n",
       "      <th>lateral</th>\n",
       "    </tr>\n",
       "    <tr>\n",
       "      <th>pred_all</th>\n",
       "      <th></th>\n",
       "      <th></th>\n",
       "      <th></th>\n",
       "    </tr>\n",
       "  </thead>\n",
       "  <tbody>\n",
       "    <tr>\n",
       "      <th>0</th>\n",
       "      <td>3145</td>\n",
       "      <td>242</td>\n",
       "      <td>319</td>\n",
       "    </tr>\n",
       "    <tr>\n",
       "      <th>1</th>\n",
       "      <td>227</td>\n",
       "      <td>2152</td>\n",
       "      <td>397</td>\n",
       "    </tr>\n",
       "    <tr>\n",
       "      <th>2</th>\n",
       "      <td>73</td>\n",
       "      <td>24</td>\n",
       "      <td>6683</td>\n",
       "    </tr>\n",
       "  </tbody>\n",
       "</table>\n",
       "</div>"
      ],
      "text/plain": [
       "likelyregion  medial  dorsal  lateral\n",
       "pred_all                             \n",
       "0               3145     242      319\n",
       "1                227    2152      397\n",
       "2                 73      24     6683"
      ]
     },
     "execution_count": 87,
     "metadata": {},
     "output_type": "execute_result"
    }
   ],
   "source": [
    "pd.crosstab(pred_df.pred_all, likelyreg.likelyregion)"
   ]
  },
  {
   "cell_type": "code",
   "execution_count": 88,
   "id": "f0a9057f-e8cc-4201-8625-947bccd69f94",
   "metadata": {},
   "outputs": [
    {
     "data": {
      "text/html": [
       "<div>\n",
       "<style scoped>\n",
       "    .dataframe tbody tr th:only-of-type {\n",
       "        vertical-align: middle;\n",
       "    }\n",
       "\n",
       "    .dataframe tbody tr th {\n",
       "        vertical-align: top;\n",
       "    }\n",
       "\n",
       "    .dataframe thead th {\n",
       "        text-align: right;\n",
       "    }\n",
       "</style>\n",
       "<table border=\"1\" class=\"dataframe\">\n",
       "  <thead>\n",
       "    <tr style=\"text-align: right;\">\n",
       "      <th>likelyregion</th>\n",
       "      <th>medial</th>\n",
       "      <th>dorsal</th>\n",
       "      <th>lateral</th>\n",
       "    </tr>\n",
       "    <tr>\n",
       "      <th>pred_ord</th>\n",
       "      <th></th>\n",
       "      <th></th>\n",
       "      <th></th>\n",
       "    </tr>\n",
       "  </thead>\n",
       "  <tbody>\n",
       "    <tr>\n",
       "      <th>0</th>\n",
       "      <td>2945</td>\n",
       "      <td>120</td>\n",
       "      <td>109</td>\n",
       "    </tr>\n",
       "    <tr>\n",
       "      <th>1</th>\n",
       "      <td>477</td>\n",
       "      <td>2295</td>\n",
       "      <td>1434</td>\n",
       "    </tr>\n",
       "    <tr>\n",
       "      <th>2</th>\n",
       "      <td>23</td>\n",
       "      <td>3</td>\n",
       "      <td>5856</td>\n",
       "    </tr>\n",
       "  </tbody>\n",
       "</table>\n",
       "</div>"
      ],
      "text/plain": [
       "likelyregion  medial  dorsal  lateral\n",
       "pred_ord                             \n",
       "0               2945     120      109\n",
       "1                477    2295     1434\n",
       "2                 23       3     5856"
      ]
     },
     "execution_count": 88,
     "metadata": {},
     "output_type": "execute_result"
    }
   ],
   "source": [
    "pd.crosstab(pred_df.pred_ord, likelyreg.likelyregion)"
   ]
  },
  {
   "cell_type": "code",
   "execution_count": null,
   "id": "a721290d-7c5e-4cf9-b5f2-eddc349180b3",
   "metadata": {},
   "outputs": [],
   "source": []
  },
  {
   "cell_type": "code",
   "execution_count": null,
   "id": "f6e721f1-372d-4570-a793-d53c2f9dcd30",
   "metadata": {},
   "outputs": [],
   "source": []
  }
 ],
 "metadata": {
  "kernelspec": {
   "display_name": "Python 3",
   "language": "python",
   "name": "python3"
  },
  "language_info": {
   "codemirror_mode": {
    "name": "ipython",
    "version": 3
   },
   "file_extension": ".py",
   "mimetype": "text/x-python",
   "name": "python",
   "nbconvert_exporter": "python",
   "pygments_lexer": "ipython3",
   "version": "3.9.2"
  }
 },
 "nbformat": 4,
 "nbformat_minor": 5
}
