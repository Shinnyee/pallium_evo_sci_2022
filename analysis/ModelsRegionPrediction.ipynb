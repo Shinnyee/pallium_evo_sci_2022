{
 "cells": [
  {
   "cell_type": "markdown",
   "id": "a66f0e29-4b3f-40a9-ae16-64088c253139",
   "metadata": {},
   "source": [
    "# Axolotl pallium region prediction"
   ]
  },
  {
   "cell_type": "markdown",
   "id": "8b60b2cb-9c38-439b-bab8-77f15f733bb4",
   "metadata": {},
   "source": [
    "Training models to predict pallium regions. This is based on microdissected pallial regions, and predicting on whole pallium. A caveat is that the striatum was not microdissected."
   ]
  },
  {
   "cell_type": "markdown",
   "id": "b76d9f79-d774-457a-96dd-6ab7ef67f887",
   "metadata": {},
   "source": [
    "## Load necessary packages"
   ]
  },
  {
   "cell_type": "code",
   "execution_count": 2,
   "id": "bafdf203-c2be-4139-a974-767b56abd10d",
   "metadata": {},
   "outputs": [],
   "source": [
    "# data management\n",
    "import pandas as pd\n",
    "from scipy.io import mmread\n",
    "import scanpy as sc\n",
    "import pickle\n",
    "import numpy as np\n",
    "\n",
    "# scaler\n",
    "from sklearn.preprocessing import StandardScaler\n",
    "\n",
    "# models\n",
    "from sklearn.linear_model import LogisticRegression\n",
    "from sklearn.ensemble import RandomForestClassifier\n",
    "\n",
    "# addition to models\n",
    "from sklearn.calibration import CalibratedClassifierCV\n",
    "\n",
    "# data splitting\n",
    "from sklearn.model_selection import train_test_split\n",
    "\n",
    "# scoring\n",
    "from sklearn.metrics import f1_score\n",
    "from sklearn.metrics import precision_recall_fscore_support\n",
    "\n",
    "# time execution\n",
    "import time\n",
    "\n",
    "ncores = 32"
   ]
  },
  {
   "cell_type": "markdown",
   "id": "adea8046-48e5-4898-a3ac-215b508e9939",
   "metadata": {},
   "source": [
    "## Load and prepare the data"
   ]
  },
  {
   "cell_type": "markdown",
   "id": "d48755de-2dcb-42f8-8d81-b071a0631f02",
   "metadata": {},
   "source": [
    "Read in data (doublets already filtered out)"
   ]
  },
  {
   "cell_type": "code",
   "execution_count": 3,
   "id": "fc49d4d0-226a-4650-b6aa-8f4fe0a152ff",
   "metadata": {},
   "outputs": [],
   "source": [
    "exp_ax = mmread(\"../data/processed/axolotl_parts/ax_regions_data.mtx\").tocsr().transpose()\n",
    "meta_ax = pd.read_csv(\"../data/processed/axolotl_parts/ax_regions_meta.csv\", index_col = 0)"
   ]
  },
  {
   "cell_type": "markdown",
   "id": "9977a2a8-0aca-4cad-93a2-a59cd7c4a0b4",
   "metadata": {},
   "source": [
    "Split whole pallium vs regionalised data"
   ]
  },
  {
   "cell_type": "code",
   "execution_count": 4,
   "id": "c7a36071-4b65-4cba-8264-91f4f1f6e209",
   "metadata": {},
   "outputs": [
    {
     "name": "stderr",
     "output_type": "stream",
     "text": [
      "<ipython-input-4-9bd861fb29a0>:9: SettingWithCopyWarning: \n",
      "A value is trying to be set on a copy of a slice from a DataFrame.\n",
      "Try using .loc[row_indexer,col_indexer] = value instead\n",
      "\n",
      "See the caveats in the documentation: https://pandas.pydata.org/pandas-docs/stable/user_guide/indexing.html#returning-a-view-versus-a-copy\n",
      "  meta_reg[\"cc_reg\"] = meta_reg.cellclusters+\"..\"+meta_reg.regions\n"
     ]
    }
   ],
   "source": [
    "meta_reg = meta_ax.loc[meta_ax.regions!=\"whole pallium\",:]\n",
    "exp_reg = exp_ax[:,meta_ax.regions!=\"whole pallium\"]\n",
    "# make genes uniform\n",
    "g_use = np.asarray(exp_reg.sum(axis = 1)>0)[:,0]\n",
    "exp_reg = exp_reg[g_use,:].transpose()\n",
    "exp_wp = exp_ax[:,meta_ax.regions==\"whole pallium\"]\n",
    "exp_wp = exp_wp[g_use,:].transpose()\n",
    "# variable for startification\n",
    "meta_reg[\"cc_reg\"] = meta_reg.cellclusters+\"..\"+meta_reg.regions"
   ]
  },
  {
   "cell_type": "markdown",
   "id": "797366af-d60e-438e-84a4-912331c4654b",
   "metadata": {},
   "source": [
    "For cc_reg with fewer than 5 occurences, will default to the region (regardless of cell type)"
   ]
  },
  {
   "cell_type": "code",
   "execution_count": 5,
   "id": "bf6af206-bde1-4611-81ae-dbac6549419b",
   "metadata": {},
   "outputs": [
    {
     "name": "stderr",
     "output_type": "stream",
     "text": [
      "/home/tpires/bin/miniconda3/envs/scgen-env/lib/python3.9/site-packages/pandas/core/indexing.py:1773: SettingWithCopyWarning: \n",
      "A value is trying to be set on a copy of a slice from a DataFrame.\n",
      "Try using .loc[row_indexer,col_indexer] = value instead\n",
      "\n",
      "See the caveats in the documentation: https://pandas.pydata.org/pandas-docs/stable/user_guide/indexing.html#returning-a-view-versus-a-copy\n",
      "  self._setitem_single_column(ilocs[0], value, pi)\n"
     ]
    }
   ],
   "source": [
    "ct_regs = [x.split(\"..\")[0] for x in meta_reg[\"cc_reg\"].value_counts().index.values[meta_reg[\"cc_reg\"].value_counts()<5]]\n",
    "meta_reg.loc[[x in ct_regs for x in meta_reg.cellclusters],\"cc_reg\"] = meta_reg.loc[[x in ct_regs for x in meta_reg.cellclusters],\"regions\"].values"
   ]
  },
  {
   "cell_type": "markdown",
   "id": "ae4903e2-220e-42d6-8570-0590bd33ac2f",
   "metadata": {},
   "source": [
    "## Train model for all cells"
   ]
  },
  {
   "cell_type": "markdown",
   "id": "64bc8f35-8954-4350-a404-e4b7051ee79a",
   "metadata": {},
   "source": [
    "Split data into train and test fractions"
   ]
  },
  {
   "cell_type": "code",
   "execution_count": 6,
   "id": "185269c4-1227-494b-a90c-cd2f312af24a",
   "metadata": {},
   "outputs": [],
   "source": [
    "X_train, X_test, y_train, y_test = train_test_split(exp_reg, meta_reg[\"regions\"], test_size=0.2, \n",
    "                                                    random_state=42, stratify = meta_reg[\"cc_reg\"].values)"
   ]
  },
  {
   "cell_type": "markdown",
   "id": "dbd6dfe5-ee7f-46a7-9967-c791645d1ade",
   "metadata": {},
   "source": [
    "Scale data (based on training data)"
   ]
  },
  {
   "cell_type": "code",
   "execution_count": 7,
   "id": "36d3a1c6-df8f-46ad-a92f-adb907d4d793",
   "metadata": {},
   "outputs": [],
   "source": [
    "scaler = StandardScaler(with_mean = False)\n",
    "scaler.fit(X_train)\n",
    "\n",
    "# scale\n",
    "X_train_sc = scaler.transform(X_train)\n",
    "X_test_sc = scaler.transform(X_test)\n",
    "\n",
    "# save scaler\n",
    "with open(\"../results/multiome/scaler_axolotlRegions_all.pkl\", \"wb\") as f:\n",
    "    pickle.dump(scaler, file=f)"
   ]
  },
  {
   "cell_type": "markdown",
   "id": "c057cf4c-bb42-4876-bb47-91742a7c9068",
   "metadata": {},
   "source": [
    "Create classifiers"
   ]
  },
  {
   "cell_type": "code",
   "execution_count": 8,
   "id": "57b00ab0-33b8-41b5-8fff-167fbf0845ec",
   "metadata": {},
   "outputs": [],
   "source": [
    "rfc = RandomForestClassifier(random_state = 1, n_estimators = 1000, n_jobs = ncores)\n",
    "lr = LogisticRegression(random_state = 1, max_iter = 250, n_jobs = ncores)"
   ]
  },
  {
   "cell_type": "markdown",
   "id": "5427a3a1-54db-461f-af15-c0961ce7de88",
   "metadata": {},
   "source": [
    "Train classifiers"
   ]
  },
  {
   "cell_type": "code",
   "execution_count": 9,
   "id": "69e4aae2-63aa-41d8-97cd-bd2d371387f0",
   "metadata": {},
   "outputs": [
    {
     "name": "stdout",
     "output_type": "stream",
     "text": [
      "RF 1vRest: 168.16 seconds\n",
      "LR 1vRest: 164.3 seconds\n"
     ]
    }
   ],
   "source": [
    "start_time = time.time()\n",
    "cal_rfc = CalibratedClassifierCV(rfc, method=\"sigmoid\", cv=5, n_jobs = ncores)\n",
    "cal_rfc.fit(X_train_sc, y_train)\n",
    "print(\"RF 1vRest: %s seconds\" % (round(time.time() - start_time, 2)))\n",
    "with open(\"../results/multiome/cal_rfc_axolotlRegions_all_model.pkl\", \"wb\") as f:\n",
    "    pickle.dump(cal_rfc, file=f)\n",
    "    \n",
    "start_time = time.time()\n",
    "cal_lr = CalibratedClassifierCV(lr, method=\"isotonic\", cv=5, n_jobs = ncores)\n",
    "cal_lr.fit(X_train_sc, y_train)\n",
    "print(\"LR 1vRest: %s seconds\" % (round(time.time() - start_time, 2)))\n",
    "with open(\"../results/multiome/cal_lr_axolotlRegions_all_model.pkl\", \"wb\") as f:\n",
    "    pickle.dump(cal_lr, file=f)"
   ]
  },
  {
   "cell_type": "markdown",
   "id": "7ee7b78b-ae75-4965-8fac-9901f3e0703b",
   "metadata": {},
   "source": [
    "Use models to predict the test data"
   ]
  },
  {
   "cell_type": "code",
   "execution_count": 10,
   "id": "5abbeab1-355a-47dd-aaa7-622a8d62cd71",
   "metadata": {},
   "outputs": [
    {
     "name": "stdout",
     "output_type": "stream",
     "text": [
      "RF 1vRest: 8.74 seconds\n",
      "LR 1vRest: 0.59 seconds\n"
     ]
    }
   ],
   "source": [
    "start_time = time.time()\n",
    "pred_rfc = cal_rfc.predict(X_test_sc)\n",
    "print(\"RF 1vRest: %s seconds\" % (round(time.time() - start_time, 2)))\n",
    "\n",
    "start_time = time.time()\n",
    "pred_lr = cal_lr.predict(X_test_sc)\n",
    "print(\"LR 1vRest: %s seconds\" % (round(time.time() - start_time, 2)))"
   ]
  },
  {
   "cell_type": "markdown",
   "id": "574fc091-b59f-42fb-a487-3d278d9fcbf3",
   "metadata": {},
   "source": [
    "Get F1 score for predictions"
   ]
  },
  {
   "cell_type": "code",
   "execution_count": 11,
   "id": "12ffd50a-25e9-4038-b733-ccf47a01c01a",
   "metadata": {
    "tags": []
   },
   "outputs": [
    {
     "name": "stdout",
     "output_type": "stream",
     "text": [
      "0.9710627005065581\n",
      "0.9973711481654144\n"
     ]
    }
   ],
   "source": [
    "f1_rfc = f1_score(y_test, pred_rfc, average = \"macro\")\n",
    "print(f1_rfc)\n",
    "\n",
    "f1_lr = f1_score(y_test, pred_lr, average = \"macro\")\n",
    "print(f1_lr)"
   ]
  },
  {
   "cell_type": "code",
   "execution_count": 12,
   "id": "69daa274-9383-45aa-8c68-b00ad9f27dcf",
   "metadata": {},
   "outputs": [],
   "source": [
    "all_rfc = precision_recall_fscore_support(y_test, pred_rfc, zero_division = 0)\n",
    "with open(\"../results/multiome/PRFSup_rfc_allax.pkl\", \"wb\") as f:\n",
    "    pickle.dump(all_rfc, file=f)\n",
    "\n",
    "all_lr = precision_recall_fscore_support(y_test, pred_lr, zero_division = 0)\n",
    "with open(\"../results/multiome/PRFSup_lr_allax.pkl\", \"wb\") as f:\n",
    "    pickle.dump(all_lr, file=f)"
   ]
  },
  {
   "cell_type": "markdown",
   "id": "a73bb5da-68ca-4cec-97e2-92ac6b92996c",
   "metadata": {},
   "source": [
    "Get probabilities"
   ]
  },
  {
   "cell_type": "code",
   "execution_count": 13,
   "id": "08b17c2f-5da2-44f8-8f5b-f569f4719427",
   "metadata": {},
   "outputs": [
    {
     "name": "stdout",
     "output_type": "stream",
     "text": [
      "RF 1vRest: 8.28 seconds\n",
      "LR 1vRest: 0.58 seconds\n"
     ]
    }
   ],
   "source": [
    "start_time = time.time()\n",
    "proba_rfc = cal_rfc.predict_proba(X_test_sc)\n",
    "print(\"RF 1vRest: %s seconds\" % (round(time.time() - start_time, 2)))\n",
    "probs_df = pd.DataFrame(proba_rfc, index=y_test.index.values, columns=cal_rfc.classes_)\n",
    "pd.concat([pd.DataFrame({\"y_test\": y_test, \"pred_rfc\": pred_rfc}), probs_df], axis = 1).to_csv(\"../results/multiome/preds_rfc_allax.csv\")\n",
    "\n",
    "start_time = time.time()\n",
    "proba_lr = cal_lr.predict_proba(X_test_sc)\n",
    "print(\"LR 1vRest: %s seconds\" % (round(time.time() - start_time, 2)))\n",
    "probs_df = pd.DataFrame(proba_lr, index=y_test.index.values, columns=cal_lr.classes_)\n",
    "pd.concat([pd.DataFrame({\"y_test\": y_test, \"pred_lr\": pred_lr}), probs_df], axis = 1).to_csv(\"../results/multiome/preds_lr_allax.csv\")\n"
   ]
  },
  {
   "cell_type": "code",
   "execution_count": null,
   "id": "c75c4fa6-a136-4729-966c-c685a8f69482",
   "metadata": {},
   "outputs": [],
   "source": []
  },
  {
   "cell_type": "markdown",
   "id": "6e7d35ee-aa80-4a7c-aed1-3be74031bf20",
   "metadata": {},
   "source": [
    "## Train model for neurons"
   ]
  },
  {
   "cell_type": "markdown",
   "id": "2929299f-1860-4134-baeb-43218578edf0",
   "metadata": {},
   "source": [
    "Subset the data"
   ]
  },
  {
   "cell_type": "code",
   "execution_count": 14,
   "id": "a251bca3-72c2-4931-8345-f0b0e35eabb3",
   "metadata": {},
   "outputs": [],
   "source": [
    "cond_neu = np.logical_or(meta_reg[\"subclasses\"]==\"Glutamatergic\", meta_reg[\"subclasses\"]==\"GABAergic\")\n",
    "meta_neu = meta_reg.loc[cond_neu,:]\n",
    "exp_neu = exp_reg[cond_neu,:]\n",
    "# make genes uniform\n",
    "g_use = np.asarray(exp_neu.transpose().sum(axis = 1)>0)[:,0]\n",
    "exp_neu = exp_neu[:,g_use]\n",
    "cond_wp_neu = np.logical_or(meta_ax[\"subclasses\"]==\"Glutamatergic\", meta_ax[\"subclasses\"]==\"GABAergic\")\n",
    "exp_wp_neu = exp_ax[:,np.logical_and(meta_ax.regions==\"whole pallium\",\n",
    "                                     cond_wp_neu.ravel())]\n",
    "exp_wp_neu = exp_wp_neu[g_use,:].transpose()"
   ]
  },
  {
   "cell_type": "markdown",
   "id": "92ddc297-f7c1-407a-b9c5-2044608869cf",
   "metadata": {},
   "source": [
    "Split data into train and test fractions"
   ]
  },
  {
   "cell_type": "code",
   "execution_count": 15,
   "id": "90751cae-ed4c-439e-8525-ee1e77cb14d0",
   "metadata": {},
   "outputs": [],
   "source": [
    "X_train, X_test, y_train, y_test = train_test_split(exp_neu, meta_neu[\"regions\"], test_size=0.2, \n",
    "                                                    random_state=42, stratify = meta_neu[\"cc_reg\"].values)"
   ]
  },
  {
   "cell_type": "markdown",
   "id": "f91d9aaf-ed63-41dc-a610-67976a830eb2",
   "metadata": {},
   "source": [
    "Scale data (based on training data)"
   ]
  },
  {
   "cell_type": "code",
   "execution_count": 16,
   "id": "ca23683d-f415-4408-b6a2-26f8973769d9",
   "metadata": {},
   "outputs": [],
   "source": [
    "scaler = StandardScaler(with_mean = False)\n",
    "scaler.fit(X_train)\n",
    "\n",
    "# scale\n",
    "X_train_sc = scaler.transform(X_train)\n",
    "X_test_sc = scaler.transform(X_test)\n",
    "\n",
    "# save scaler\n",
    "with open(\"../results/multiome/scaler_axolotlRegions_neu.pkl\", \"wb\") as f:\n",
    "    pickle.dump(scaler, file=f)"
   ]
  },
  {
   "cell_type": "markdown",
   "id": "8422d087-9933-4f2f-9b91-c39c01770fc7",
   "metadata": {},
   "source": [
    "Create classifiers"
   ]
  },
  {
   "cell_type": "code",
   "execution_count": 17,
   "id": "73131512-f2d4-4702-b240-626a4553073b",
   "metadata": {},
   "outputs": [],
   "source": [
    "rfc = RandomForestClassifier(random_state = 1, n_estimators = 1000, n_jobs = ncores)\n",
    "lr = LogisticRegression(random_state = 1, max_iter = 250, n_jobs = ncores)"
   ]
  },
  {
   "cell_type": "markdown",
   "id": "6c9aa5b7-7477-4009-bb1c-ce1f8a459b2b",
   "metadata": {},
   "source": [
    "Train classifiers"
   ]
  },
  {
   "cell_type": "code",
   "execution_count": 18,
   "id": "84fa6552-3631-43fa-a04f-4924009737af",
   "metadata": {},
   "outputs": [
    {
     "name": "stdout",
     "output_type": "stream",
     "text": [
      "RF 1vRest: 114.38 seconds\n",
      "LR 1vRest: 142.92 seconds\n"
     ]
    }
   ],
   "source": [
    "start_time = time.time()\n",
    "cal_rfc = CalibratedClassifierCV(rfc, method=\"sigmoid\", cv=5, n_jobs = ncores)\n",
    "cal_rfc.fit(X_train_sc, y_train)\n",
    "print(\"RF 1vRest: %s seconds\" % (round(time.time() - start_time, 2)))\n",
    "with open(\"../results/multiome/cal_rfc_axolotlRegions_neu_model.pkl\", \"wb\") as f:\n",
    "    pickle.dump(cal_rfc, file=f)\n",
    "    \n",
    "start_time = time.time()\n",
    "cal_lr = CalibratedClassifierCV(lr, method=\"isotonic\", cv=5, n_jobs = ncores)\n",
    "cal_lr.fit(X_train_sc, y_train)\n",
    "print(\"LR 1vRest: %s seconds\" % (round(time.time() - start_time, 2)))\n",
    "with open(\"../results/multiome/cal_lr_axolotlRegions_neu_model.pkl\", \"wb\") as f:\n",
    "    pickle.dump(cal_lr, file=f)"
   ]
  },
  {
   "cell_type": "markdown",
   "id": "30c192f2-8ffe-4b45-9bbd-518da453ce89",
   "metadata": {},
   "source": [
    "Use models to predict the test data"
   ]
  },
  {
   "cell_type": "code",
   "execution_count": 19,
   "id": "88071793-b657-4a00-9083-4fc9b9bb6d03",
   "metadata": {},
   "outputs": [
    {
     "name": "stdout",
     "output_type": "stream",
     "text": [
      "RF 1vRest: 7.38 seconds\n",
      "LR 1vRest: 0.49 seconds\n"
     ]
    }
   ],
   "source": [
    "start_time = time.time()\n",
    "pred_rfc = cal_rfc.predict(X_test_sc)\n",
    "print(\"RF 1vRest: %s seconds\" % (round(time.time() - start_time, 2)))\n",
    "\n",
    "start_time = time.time()\n",
    "pred_lr = cal_lr.predict(X_test_sc)\n",
    "print(\"LR 1vRest: %s seconds\" % (round(time.time() - start_time, 2)))"
   ]
  },
  {
   "cell_type": "markdown",
   "id": "af64dada-0462-4e68-be1d-d507fc2df33c",
   "metadata": {},
   "source": [
    "Get F1 score for predictions"
   ]
  },
  {
   "cell_type": "code",
   "execution_count": 20,
   "id": "08f15ff2-d129-4b6e-90a0-bee5856bc805",
   "metadata": {
    "tags": []
   },
   "outputs": [
    {
     "name": "stdout",
     "output_type": "stream",
     "text": [
      "0.9690835341075289\n",
      "0.9931599702272251\n"
     ]
    }
   ],
   "source": [
    "f1_rfc = f1_score(y_test, pred_rfc, average = \"macro\")\n",
    "print(f1_rfc)\n",
    "\n",
    "f1_lr = f1_score(y_test, pred_lr, average = \"macro\")\n",
    "print(f1_lr)"
   ]
  },
  {
   "cell_type": "code",
   "execution_count": 21,
   "id": "1bc18237-4a90-46d8-afbb-06ad271b0ee2",
   "metadata": {},
   "outputs": [],
   "source": [
    "all_rfc = precision_recall_fscore_support(y_test, pred_rfc, zero_division = 0)\n",
    "with open(\"../results/multiome/PRFSup_rfc_neuax.pkl\", \"wb\") as f:\n",
    "    pickle.dump(all_rfc, file=f)\n",
    "\n",
    "all_lr = precision_recall_fscore_support(y_test, pred_lr, zero_division = 0)\n",
    "with open(\"../results/multiome/PRFSup_lr_neuax.pkl\", \"wb\") as f:\n",
    "    pickle.dump(all_lr, file=f)"
   ]
  },
  {
   "cell_type": "markdown",
   "id": "ca6c1d25-d9ea-470a-b753-e6694b8debcf",
   "metadata": {},
   "source": [
    "Get probabilities"
   ]
  },
  {
   "cell_type": "code",
   "execution_count": 22,
   "id": "44834183-b682-48b2-8142-23fbf5cb8fe1",
   "metadata": {},
   "outputs": [
    {
     "name": "stdout",
     "output_type": "stream",
     "text": [
      "RF 1vRest: 7.44 seconds\n",
      "LR 1vRest: 0.5 seconds\n"
     ]
    }
   ],
   "source": [
    "start_time = time.time()\n",
    "proba_rfc = cal_rfc.predict_proba(X_test_sc)\n",
    "print(\"RF 1vRest: %s seconds\" % (round(time.time() - start_time, 2)))\n",
    "probs_df = pd.DataFrame(proba_rfc, index=y_test.index.values, columns=cal_rfc.classes_)\n",
    "pd.concat([pd.DataFrame({\"y_test\": y_test, \"pred_rfc\": pred_rfc}), probs_df], axis = 1).to_csv(\"../results/multiome/preds_rfc_neuax.csv\")\n",
    "\n",
    "start_time = time.time()\n",
    "proba_lr = cal_lr.predict_proba(X_test_sc)\n",
    "print(\"LR 1vRest: %s seconds\" % (round(time.time() - start_time, 2)))\n",
    "probs_df = pd.DataFrame(proba_lr, index=y_test.index.values, columns=cal_lr.classes_)\n",
    "pd.concat([pd.DataFrame({\"y_test\": y_test, \"pred_lr\": pred_lr}), probs_df], axis = 1).to_csv(\"../results/multiome/preds_lr_neuax.csv\")\n"
   ]
  },
  {
   "cell_type": "code",
   "execution_count": null,
   "id": "565845ff-4279-4336-9fa7-056dc7191443",
   "metadata": {},
   "outputs": [],
   "source": []
  },
  {
   "cell_type": "markdown",
   "id": "eebd4d3c-bd9d-47e4-9bf1-b319cfdf36e6",
   "metadata": {},
   "source": [
    "## Train model for ependymal cells"
   ]
  },
  {
   "cell_type": "markdown",
   "id": "6303fc57-cd82-4fcb-a548-50193169d56c",
   "metadata": {},
   "source": [
    "Subset the data"
   ]
  },
  {
   "cell_type": "code",
   "execution_count": 23,
   "id": "8c0ee054-2110-4586-94c5-4de0f51cec9a",
   "metadata": {},
   "outputs": [],
   "source": [
    "meta_ep = meta_reg.loc[meta_reg[\"subclasses\"]==\"Ependymal\",:]\n",
    "exp_ep = exp_reg[meta_reg[\"subclasses\"]==\"Ependymal\",:]\n",
    "# make genes uniform\n",
    "g_use = np.asarray(exp_neu.transpose().sum(axis = 1)>0)[:,0]\n",
    "exp_ep = exp_ep[:,g_use]\n",
    "exp_wp_ep = exp_ax[:,np.logical_and(meta_ax.regions==\"whole pallium\",\n",
    "                                    meta_ax.subclasses==\"Ependymal\")]\n",
    "exp_wp_ep = exp_wp_ep[g_use,:].transpose()"
   ]
  },
  {
   "cell_type": "markdown",
   "id": "fc31462d-b3c3-438e-9ea3-bad13884c3d9",
   "metadata": {},
   "source": [
    "Split data into train and test fractions"
   ]
  },
  {
   "cell_type": "code",
   "execution_count": 24,
   "id": "136c8367-c4d9-4e83-8887-0508d61456f5",
   "metadata": {},
   "outputs": [],
   "source": [
    "X_train, X_test, y_train, y_test = train_test_split(exp_ep, meta_ep[\"regions\"], test_size=0.2, \n",
    "                                                    random_state=42, stratify = meta_ep[\"cc_reg\"].values)"
   ]
  },
  {
   "cell_type": "markdown",
   "id": "3f644172-f2b9-43da-bb1f-c3ab76fbdc7d",
   "metadata": {},
   "source": [
    "Scale data (based on training data)"
   ]
  },
  {
   "cell_type": "code",
   "execution_count": 25,
   "id": "2681d03e-3e01-4608-a287-8b0d45465a32",
   "metadata": {},
   "outputs": [],
   "source": [
    "scaler = StandardScaler(with_mean = False)\n",
    "scaler.fit(X_train)\n",
    "\n",
    "# scale\n",
    "X_train_sc = scaler.transform(X_train)\n",
    "X_test_sc = scaler.transform(X_test)\n",
    "\n",
    "# save scaler\n",
    "with open(\"../results/multiome/scaler_axolotlRegions_ep.pkl\", \"wb\") as f:\n",
    "    pickle.dump(scaler, file=f)"
   ]
  },
  {
   "cell_type": "markdown",
   "id": "d24ac540-ae54-4c17-a388-94f909096462",
   "metadata": {},
   "source": [
    "Create classifiers"
   ]
  },
  {
   "cell_type": "code",
   "execution_count": 26,
   "id": "70a73ef9-3260-4539-9b97-6b32abeca624",
   "metadata": {},
   "outputs": [],
   "source": [
    "rfc = RandomForestClassifier(random_state = 1, n_estimators = 1000, n_jobs = ncores)\n",
    "lr = LogisticRegression(random_state = 1, max_iter = 250, n_jobs = ncores)"
   ]
  },
  {
   "cell_type": "markdown",
   "id": "31823b46-6188-484f-8e1a-a2a3e0459318",
   "metadata": {},
   "source": [
    "Train classifiers"
   ]
  },
  {
   "cell_type": "code",
   "execution_count": 27,
   "id": "b3e827a3-597f-4a50-9636-bf7ce1e6484e",
   "metadata": {},
   "outputs": [
    {
     "name": "stdout",
     "output_type": "stream",
     "text": [
      "RF 1vRest: 9.89 seconds\n",
      "LR 1vRest: 20.88 seconds\n"
     ]
    }
   ],
   "source": [
    "start_time = time.time()\n",
    "cal_rfc = CalibratedClassifierCV(rfc, method=\"sigmoid\", cv=5, n_jobs = ncores)\n",
    "cal_rfc.fit(X_train_sc, y_train)\n",
    "print(\"RF 1vRest: %s seconds\" % (round(time.time() - start_time, 2)))\n",
    "with open(\"../results/multiome/cal_rfc_axolotlRegions_ep_model.pkl\", \"wb\") as f:\n",
    "    pickle.dump(cal_rfc, file=f)\n",
    "    \n",
    "start_time = time.time()\n",
    "cal_lr = CalibratedClassifierCV(lr, method=\"isotonic\", cv=5, n_jobs = ncores)\n",
    "cal_lr.fit(X_train_sc, y_train)\n",
    "print(\"LR 1vRest: %s seconds\" % (round(time.time() - start_time, 2)))\n",
    "with open(\"../results/multiome/cal_lr_axolotlRegions_ep_model.pkl\", \"wb\") as f:\n",
    "    pickle.dump(cal_lr, file=f)"
   ]
  },
  {
   "cell_type": "markdown",
   "id": "9523440e-1824-49f2-92b8-fb496bf9bdc8",
   "metadata": {},
   "source": [
    "Use models to predict the test data"
   ]
  },
  {
   "cell_type": "code",
   "execution_count": 28,
   "id": "0c3fb6e2-15c8-4f19-a66b-9771aaedbe49",
   "metadata": {},
   "outputs": [
    {
     "name": "stdout",
     "output_type": "stream",
     "text": [
      "RF 1vRest: 2.9 seconds\n",
      "LR 1vRest: 0.06 seconds\n"
     ]
    }
   ],
   "source": [
    "start_time = time.time()\n",
    "pred_rfc = cal_rfc.predict(X_test_sc)\n",
    "print(\"RF 1vRest: %s seconds\" % (round(time.time() - start_time, 2)))\n",
    "\n",
    "start_time = time.time()\n",
    "pred_lr = cal_lr.predict(X_test_sc)\n",
    "print(\"LR 1vRest: %s seconds\" % (round(time.time() - start_time, 2)))"
   ]
  },
  {
   "cell_type": "markdown",
   "id": "12d7532d-9de7-4a47-9f8a-d9459a34d70f",
   "metadata": {},
   "source": [
    "Get F1 score for predictions"
   ]
  },
  {
   "cell_type": "code",
   "execution_count": 29,
   "id": "42452e75-4a44-4359-aa79-06efcf1eb0ab",
   "metadata": {
    "tags": []
   },
   "outputs": [
    {
     "name": "stdout",
     "output_type": "stream",
     "text": [
      "0.9788329362797447\n",
      "0.9893180331669192\n"
     ]
    }
   ],
   "source": [
    "f1_rfc = f1_score(y_test, pred_rfc, average = \"macro\")\n",
    "print(f1_rfc)\n",
    "\n",
    "f1_lr = f1_score(y_test, pred_lr, average = \"macro\")\n",
    "print(f1_lr)"
   ]
  },
  {
   "cell_type": "code",
   "execution_count": 30,
   "id": "d8582487-e969-4da4-b53b-79f0d18f98f7",
   "metadata": {},
   "outputs": [],
   "source": [
    "all_rfc = precision_recall_fscore_support(y_test, pred_rfc, zero_division = 0)\n",
    "with open(\"../results/multiome/PRFSup_rfc_epax.pkl\", \"wb\") as f:\n",
    "    pickle.dump(all_rfc, file=f)\n",
    "\n",
    "all_lr = precision_recall_fscore_support(y_test, pred_lr, zero_division = 0)\n",
    "with open(\"../results/multiome/PRFSup_lr_epax.pkl\", \"wb\") as f:\n",
    "    pickle.dump(all_lr, file=f)"
   ]
  },
  {
   "cell_type": "markdown",
   "id": "23a9db63-5dc6-4ca4-995f-bbca7fb388d0",
   "metadata": {},
   "source": [
    "Get probabilities"
   ]
  },
  {
   "cell_type": "code",
   "execution_count": 31,
   "id": "12bad88d-bd4a-4531-b4cd-4945c54a6d40",
   "metadata": {},
   "outputs": [
    {
     "name": "stdout",
     "output_type": "stream",
     "text": [
      "RF 1vRest: 2.53 seconds\n",
      "LR 1vRest: 0.06 seconds\n"
     ]
    }
   ],
   "source": [
    "start_time = time.time()\n",
    "proba_rfc = cal_rfc.predict_proba(X_test_sc)\n",
    "print(\"RF 1vRest: %s seconds\" % (round(time.time() - start_time, 2)))\n",
    "probs_df = pd.DataFrame(proba_rfc, index=y_test.index.values, columns=cal_rfc.classes_)\n",
    "pd.concat([pd.DataFrame({\"y_test\": y_test, \"pred_rfc\": pred_rfc}), probs_df], axis = 1).to_csv(\"../results/multiome/preds_rfc_epax.csv\")\n",
    "\n",
    "start_time = time.time()\n",
    "proba_lr = cal_lr.predict_proba(X_test_sc)\n",
    "print(\"LR 1vRest: %s seconds\" % (round(time.time() - start_time, 2)))\n",
    "probs_df = pd.DataFrame(proba_lr, index=y_test.index.values, columns=cal_lr.classes_)\n",
    "pd.concat([pd.DataFrame({\"y_test\": y_test, \"pred_lr\": pred_lr}), probs_df], axis = 1).to_csv(\"../results/multiome/preds_lr_epax.csv\")\n"
   ]
  },
  {
   "cell_type": "code",
   "execution_count": null,
   "id": "5e41def9-2974-444c-913c-9c234b0762c4",
   "metadata": {},
   "outputs": [],
   "source": []
  },
  {
   "cell_type": "code",
   "execution_count": null,
   "id": "a9b6b5f1-cb7a-4ecc-952d-c236d52ec11f",
   "metadata": {},
   "outputs": [],
   "source": []
  },
  {
   "cell_type": "markdown",
   "id": "89056541-86ba-4cad-937c-935bdb9b665f",
   "metadata": {},
   "source": [
    "## Predictions for the whole pallium segments"
   ]
  },
  {
   "cell_type": "markdown",
   "id": "6790c153-23b3-41ce-bc99-4924ae24d1b3",
   "metadata": {},
   "source": [
    "WP metadata"
   ]
  },
  {
   "cell_type": "code",
   "execution_count": 32,
   "id": "39101dd6-1bcb-4386-82bc-3d6bab631a45",
   "metadata": {},
   "outputs": [],
   "source": [
    "meta_wp = meta_ax.loc[meta_ax.regions==\"whole pallium\",:]\n",
    "cond_wp_neu = np.logical_or(meta_ax[\"subclasses\"]==\"Glutamatergic\", meta_ax[\"subclasses\"]==\"GABAergic\")\n",
    "meta_wp_neu = meta_ax.loc[np.logical_and(meta_ax.regions==\"whole pallium\",\n",
    "                                         cond_wp_neu),:]\n",
    "meta_wp_ep = meta_ax.loc[np.logical_and(meta_ax.regions==\"whole pallium\",\n",
    "                                        meta_ax.subclasses==\"Ependymal\"),:]"
   ]
  },
  {
   "cell_type": "markdown",
   "id": "db8d9011-ab94-4940-9214-06fc2fe4e9dd",
   "metadata": {},
   "source": [
    "Load trained models"
   ]
  },
  {
   "cell_type": "code",
   "execution_count": 33,
   "id": "a00761e6-16b2-470e-91cb-7984a26afd85",
   "metadata": {},
   "outputs": [],
   "source": [
    "with open(\"../results/multiome/cal_rfc_axolotlRegions_all_model.pkl\", \"rb\") as f:\n",
    "    rfc_all = pickle.load(f)\n",
    "with open(\"../results/multiome/cal_rfc_axolotlRegions_neu_model.pkl\", \"rb\") as f:\n",
    "    rfc_neu = pickle.load(f)\n",
    "with open(\"../results/multiome/cal_rfc_axolotlRegions_ep_model.pkl\", \"rb\") as f:\n",
    "    rfc_ep = pickle.load(f)\n",
    "\n",
    "with open(\"../results/multiome/cal_lr_axolotlRegions_all_model.pkl\", \"rb\") as f:\n",
    "    lr_all = pickle.load(f)\n",
    "with open(\"../results/multiome/cal_lr_axolotlRegions_neu_model.pkl\", \"rb\") as f:\n",
    "    lr_neu = pickle.load(f)\n",
    "with open(\"../results/multiome/cal_lr_axolotlRegions_ep_model.pkl\", \"rb\") as f:\n",
    "    lr_ep = pickle.load(f)"
   ]
  },
  {
   "cell_type": "markdown",
   "id": "cf2dc6fe-b504-4b90-870c-28ea60b3c21d",
   "metadata": {},
   "source": [
    "Load scalers"
   ]
  },
  {
   "cell_type": "code",
   "execution_count": 34,
   "id": "d6dbf6ea-84e5-4406-a417-6304d41eb346",
   "metadata": {},
   "outputs": [],
   "source": [
    "with open(\"../results/multiome/scaler_axolotlRegions_all.pkl\", \"rb\") as f:\n",
    "    scaler_all = pickle.load(f)\n",
    "with open(\"../results/multiome/scaler_axolotlRegions_neu.pkl\", \"rb\") as f:\n",
    "    scaler_neu = pickle.load(f)\n",
    "with open(\"../results/multiome/scaler_axolotlRegions_ep.pkl\", \"rb\") as f:\n",
    "    scaler_ep = pickle.load(f)"
   ]
  },
  {
   "cell_type": "markdown",
   "id": "49c80877-84cd-4440-9b60-6ce90b594490",
   "metadata": {},
   "source": [
    "Get WP predictions"
   ]
  },
  {
   "cell_type": "code",
   "execution_count": 35,
   "id": "23771311-f063-4e20-a168-ff9594525727",
   "metadata": {},
   "outputs": [
    {
     "name": "stdout",
     "output_type": "stream",
     "text": [
      "RF 1vRest: 35.09 seconds\n",
      "RF 1vRest: 25.59 seconds\n",
      "RF 1vRest: 3.75 seconds\n",
      "LR 1vRest: 3.58 seconds\n",
      "LR 1vRest: 2.94 seconds\n",
      "LR 1vRest: 0.28 seconds\n"
     ]
    }
   ],
   "source": [
    "# RFC\n",
    "start_time = time.time()\n",
    "pred_rfc_all = rfc_all.predict(scaler_all.transform(exp_wp))\n",
    "print(\"RF 1vRest: %s seconds\" % (round(time.time() - start_time, 2)))\n",
    "start_time = time.time()\n",
    "pred_rfc_neu = rfc_neu.predict(scaler_neu.transform(exp_wp_neu))\n",
    "print(\"RF 1vRest: %s seconds\" % (round(time.time() - start_time, 2)))\n",
    "start_time = time.time()\n",
    "pred_rfc_ep = rfc_ep.predict(scaler_ep.transform(exp_wp_ep))\n",
    "print(\"RF 1vRest: %s seconds\" % (round(time.time() - start_time, 2)))\n",
    "\n",
    "# LR\n",
    "start_time = time.time()\n",
    "pred_lr_all = lr_all.predict(scaler_all.transform(exp_wp))\n",
    "print(\"LR 1vRest: %s seconds\" % (round(time.time() - start_time, 2)))\n",
    "start_time = time.time()\n",
    "pred_lr_neu = lr_neu.predict(scaler_neu.transform(exp_wp_neu))\n",
    "print(\"LR 1vRest: %s seconds\" % (round(time.time() - start_time, 2)))\n",
    "start_time = time.time()\n",
    "pred_lr_ep = lr_ep.predict(scaler_ep.transform(exp_wp_ep))\n",
    "print(\"LR 1vRest: %s seconds\" % (round(time.time() - start_time, 2)))"
   ]
  },
  {
   "cell_type": "markdown",
   "id": "a51454b3-00c2-4046-91a5-4203d3725a83",
   "metadata": {},
   "source": [
    "Get WP probabilities"
   ]
  },
  {
   "cell_type": "code",
   "execution_count": 36,
   "id": "f7bc4082-e759-425a-927d-188b5f5f292f",
   "metadata": {},
   "outputs": [
    {
     "name": "stdout",
     "output_type": "stream",
     "text": [
      "RF 1vRest: 35.2 seconds\n",
      "RF 1vRest: 25.94 seconds\n",
      "RF 1vRest: 3.87 seconds\n",
      "LR 1vRest: 3.57 seconds\n",
      "LR 1vRest: 2.85 seconds\n",
      "LR 1vRest: 0.24 seconds\n"
     ]
    }
   ],
   "source": [
    "# RFC\n",
    "start_time = time.time()\n",
    "proba_rfc_all = rfc_all.predict_proba(scaler_all.transform(exp_wp))\n",
    "print(\"RF 1vRest: %s seconds\" % (round(time.time() - start_time, 2)))\n",
    "probs_df = pd.DataFrame(proba_rfc_all, columns=rfc_all.classes_, index=meta_wp.index.values)\n",
    "pd.concat([pd.DataFrame({\"pred_rfc\": pred_rfc_all}, index=meta_wp.index.values), probs_df], axis = 1).to_csv(\"../results/multiome/preds_rfc_wp_all.csv\")\n",
    "start_time = time.time()\n",
    "proba_rfc_neu = rfc_neu.predict_proba(scaler_neu.transform(exp_wp_neu))\n",
    "print(\"RF 1vRest: %s seconds\" % (round(time.time() - start_time, 2)))\n",
    "probs_df = pd.DataFrame(proba_rfc_neu, columns=rfc_neu.classes_, index=meta_wp_neu.index.values)\n",
    "pd.concat([pd.DataFrame({\"pred_rfc\": pred_rfc_neu}, index=meta_wp_neu.index.values), probs_df], axis = 1).to_csv(\"../results/multiome/preds_rfc_wp_neu.csv\")\n",
    "start_time = time.time()\n",
    "proba_rfc_ep = rfc_ep.predict_proba(scaler_ep.transform(exp_wp_ep))\n",
    "print(\"RF 1vRest: %s seconds\" % (round(time.time() - start_time, 2)))\n",
    "probs_df = pd.DataFrame(proba_rfc_ep, columns=rfc_ep.classes_, index=meta_wp_ep.index.values)\n",
    "pd.concat([pd.DataFrame({\"pred_rfc\": pred_rfc_ep}, index=meta_wp_ep.index.values), probs_df], axis = 1).to_csv(\"../results/multiome/preds_rfc_wp_ep.csv\")\n",
    "\n",
    "# LR\n",
    "start_time = time.time()\n",
    "proba_lr_all = lr_all.predict_proba(scaler_all.transform(exp_wp))\n",
    "print(\"LR 1vRest: %s seconds\" % (round(time.time() - start_time, 2)))\n",
    "probs_df = pd.DataFrame(proba_lr_all, columns=lr_all.classes_, index=meta_wp.index.values)\n",
    "pd.concat([pd.DataFrame({\"pred_lr\": pred_lr_all}, index=meta_wp.index.values), probs_df], axis = 1).to_csv(\"../results/multiome/preds_lr_wp_all.csv\")\n",
    "start_time = time.time()\n",
    "proba_lr_neu = lr_neu.predict_proba(scaler_neu.transform(exp_wp_neu))\n",
    "print(\"LR 1vRest: %s seconds\" % (round(time.time() - start_time, 2)))\n",
    "probs_df = pd.DataFrame(proba_lr_neu, columns=lr_neu.classes_, index=meta_wp_neu.index.values)\n",
    "pd.concat([pd.DataFrame({\"pred_lr\": pred_lr_neu}, index=meta_wp_neu.index.values), probs_df], axis = 1).to_csv(\"../results/multiome/preds_lr_wp_neu.csv\")\n",
    "start_time = time.time()\n",
    "proba_lr_ep = lr_ep.predict_proba(scaler_ep.transform(exp_wp_ep))\n",
    "print(\"LR 1vRest: %s seconds\" % (round(time.time() - start_time, 2)))\n",
    "probs_df = pd.DataFrame(proba_lr_ep, columns=lr_ep.classes_, index=meta_wp_ep.index.values)\n",
    "pd.concat([pd.DataFrame({\"pred_lr\": pred_lr_ep}, index=meta_wp_ep.index.values), probs_df], axis = 1).to_csv(\"../results/multiome/preds_lr_wp_ep.csv\")"
   ]
  },
  {
   "cell_type": "code",
   "execution_count": null,
   "id": "938ea835-a169-4cb0-b7ac-025a354a0c37",
   "metadata": {},
   "outputs": [],
   "source": []
  },
  {
   "cell_type": "code",
   "execution_count": 59,
   "id": "e2ea901f-ba06-40d5-991d-e2d3896195e9",
   "metadata": {},
   "outputs": [
    {
     "name": "stdout",
     "output_type": "stream",
     "text": [
      "lateral    9869\n",
      "dorsal     8606\n",
      "medial     7816\n",
      "dtype: int64\n",
      "dorsal     23343\n",
      "lateral        3\n",
      "dtype: int64\n",
      "dorsal     1372\n",
      "lateral     103\n",
      "dtype: int64\n",
      "lateral    9915\n",
      "medial     9637\n",
      "dorsal     6739\n",
      "dtype: int64\n",
      "lateral    11685\n",
      "dorsal     11494\n",
      "medial       167\n",
      "dtype: int64\n",
      "lateral    1384\n",
      "dorsal       54\n",
      "medial       37\n",
      "dtype: int64\n"
     ]
    }
   ],
   "source": [
    "print(pd.value_counts(pred_rfc_all))\n",
    "print(pd.value_counts(pred_rfc_neu))\n",
    "print(pd.value_counts(pred_rfc_ep))\n",
    "\n",
    "print(pd.value_counts(pred_lr_all))\n",
    "print(pd.value_counts(pred_lr_neu))\n",
    "print(pd.value_counts(pred_lr_ep))"
   ]
  },
  {
   "cell_type": "code",
   "execution_count": null,
   "id": "5e651e46-f237-4ba4-ac1b-139446e0ec40",
   "metadata": {},
   "outputs": [],
   "source": []
  },
  {
   "cell_type": "code",
   "execution_count": null,
   "id": "24c56cbf-904e-42ce-bafc-6b863c5c1538",
   "metadata": {},
   "outputs": [],
   "source": []
  },
  {
   "cell_type": "code",
   "execution_count": null,
   "id": "5d95da87-7166-4d67-a7fa-0f7e12de57bc",
   "metadata": {},
   "outputs": [],
   "source": []
  },
  {
   "cell_type": "code",
   "execution_count": null,
   "id": "f0f7d0da-b1e3-4cf1-92af-0341477dc68b",
   "metadata": {},
   "outputs": [],
   "source": []
  }
 ],
 "metadata": {
  "kernelspec": {
   "display_name": "Python 3",
   "language": "python",
   "name": "python3"
  },
  "language_info": {
   "codemirror_mode": {
    "name": "ipython",
    "version": 3
   },
   "file_extension": ".py",
   "mimetype": "text/x-python",
   "name": "python",
   "nbconvert_exporter": "python",
   "pygments_lexer": "ipython3",
   "version": "3.9.2"
  }
 },
 "nbformat": 4,
 "nbformat_minor": 5
}
