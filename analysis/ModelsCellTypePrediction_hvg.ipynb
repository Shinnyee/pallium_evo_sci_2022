{
 "cells": [
  {
   "cell_type": "code",
   "execution_count": null,
   "id": "328fbdbf-2dab-49bf-8fbb-9850123ee2de",
   "metadata": {},
   "outputs": [],
   "source": []
  },
  {
   "cell_type": "code",
   "execution_count": null,
   "id": "b4e513a9-7df5-4bee-87f0-0288d9407041",
   "metadata": {},
   "outputs": [],
   "source": []
  },
  {
   "cell_type": "code",
   "execution_count": 29,
   "id": "eeac32bf-55c7-4954-b9a2-e5521d48333d",
   "metadata": {},
   "outputs": [],
   "source": [
    "# data management\n",
    "import pandas as pd\n",
    "from scipy.io import mmread\n",
    "import scanpy as sc\n",
    "import pickle\n",
    "\n",
    "# scaler\n",
    "from sklearn.preprocessing import StandardScaler\n",
    "\n",
    "# models\n",
    "from sklearn.linear_model import LogisticRegression\n",
    "from sklearn.ensemble import RandomForestClassifier\n",
    "from sklearn.svm import LinearSVC\n",
    "\n",
    "# addition to models\n",
    "from sklearn.calibration import CalibratedClassifierCV\n",
    "from sklearn.multiclass import OneVsOneClassifier\n",
    "\n",
    "# data splitting\n",
    "from sklearn.model_selection import train_test_split\n",
    "\n",
    "# scoring\n",
    "from sklearn.metrics import f1_score\n",
    "from sklearn.metrics import precision_recall_fscore_support\n",
    "\n",
    "# time execution\n",
    "import time\n",
    "\n",
    "ncores = 30"
   ]
  },
  {
   "cell_type": "markdown",
   "id": "18d8efb6-092f-455f-b447-d264d3869c8b",
   "metadata": {},
   "source": [
    "Read in data"
   ]
  },
  {
   "cell_type": "code",
   "execution_count": 2,
   "id": "fb0266c3-fc7a-4c7a-b667-3c9fca389e9e",
   "metadata": {},
   "outputs": [],
   "source": [
    "exp_human = mmread(\"../data/expression/tmp/human10x_SCTdata_hvg.mtx\").tocsr().transpose()\n",
    "meta_human = pd.read_csv(\"../data/expression/tmp/human10x_metadata.csv\", index_col = 0)"
   ]
  },
  {
   "cell_type": "markdown",
   "id": "bb3669d5-15f6-461a-8b57-dddcf55e4d63",
   "metadata": {},
   "source": [
    "Split data into train and test fractions"
   ]
  },
  {
   "cell_type": "code",
   "execution_count": 3,
   "id": "d2892d16-fb22-42d2-ab02-eae1ea16c6a0",
   "metadata": {},
   "outputs": [],
   "source": [
    "X_train, X_test, y_train, y_test = train_test_split(exp_human, meta_human[\"subclasses\"].values, \n",
    "                                                    test_size=0.2, random_state=42, stratify = meta_human[\"subclasses\"].values)"
   ]
  },
  {
   "cell_type": "markdown",
   "id": "79c303a9-839d-422c-a3ce-73c612c31114",
   "metadata": {},
   "source": [
    "Scale data (based on training data)"
   ]
  },
  {
   "cell_type": "code",
   "execution_count": 4,
   "id": "db2a2582-d818-4432-a2f5-456a04ead1a0",
   "metadata": {},
   "outputs": [],
   "source": [
    "scaler = StandardScaler(with_mean = False)\n",
    "scaler.fit(X_train)\n",
    "\n",
    "# scale\n",
    "X_train_sc = scaler.transform(X_train)\n",
    "X_test_sc = scaler.transform(X_test)"
   ]
  },
  {
   "cell_type": "markdown",
   "id": "586c2f4e-168d-47f4-a649-723db600aa56",
   "metadata": {},
   "source": [
    "Create classifiers"
   ]
  },
  {
   "cell_type": "code",
   "execution_count": 5,
   "id": "191e786a-f226-4d19-bd45-7f5288874592",
   "metadata": {},
   "outputs": [],
   "source": [
    "oo_lr = OneVsOneClassifier(LogisticRegression(random_state = 1, max_iter = 250, n_jobs = ncores), n_jobs = ncores)\n",
    "oo_svc = OneVsOneClassifier(LinearSVC(random_state = 1), n_jobs = ncores)\n",
    "oo_rfc = OneVsOneClassifier(RandomForestClassifier(random_state = 1, n_estimators = 250, n_jobs = ncores), n_jobs = ncores)\n",
    "\n",
    "lr = LogisticRegression(random_state = 1, max_iter = 250, n_jobs = ncores)\n",
    "svc = LinearSVC(random_state = 1)\n",
    "rfc = RandomForestClassifier(random_state = 1, n_estimators = 250, n_jobs = ncores)"
   ]
  },
  {
   "cell_type": "markdown",
   "id": "ddd4e5b5-93ac-4f48-b208-05759083085e",
   "metadata": {},
   "source": [
    "Train classifiers (CV 5 due to class size)"
   ]
  },
  {
   "cell_type": "code",
   "execution_count": 6,
   "id": "3ca6f268-7e43-4023-93e8-d88e7b51dd76",
   "metadata": {},
   "outputs": [
    {
     "name": "stdout",
     "output_type": "stream",
     "text": [
      "LR 1vRest: 2881.6 seconds\n",
      "SVC 1vRest: 200.76 seconds\n",
      "RF 1vRest: 196.65 seconds\n",
      "LR 1v1: 1021.16 seconds\n",
      "SVC 1v1: 434.68 seconds\n",
      "RF 1v1: 7425.34 seconds\n"
     ]
    }
   ],
   "source": [
    "start_time = time.time()\n",
    "cal_lr = CalibratedClassifierCV(lr, method=\"isotonic\", cv=5, n_jobs = ncores)\n",
    "cal_lr.fit(X_train_sc, y_train)\n",
    "print(\"LR 1vRest: %s seconds\" % (round(time.time() - start_time, 2)))\n",
    "start_time = time.time()\n",
    "cal_svc = CalibratedClassifierCV(svc, method=\"sigmoid\", cv=5, n_jobs = ncores)\n",
    "cal_svc.fit(X_train_sc, y_train)\n",
    "print(\"SVC 1vRest: %s seconds\" % (round(time.time() - start_time, 2)))\n",
    "start_time = time.time()\n",
    "cal_rfc = CalibratedClassifierCV(rfc, method=\"sigmoid\", cv=5, n_jobs = ncores)\n",
    "cal_rfc.fit(X_train_sc, y_train)\n",
    "print(\"RF 1vRest: %s seconds\" % (round(time.time() - start_time, 2)))\n",
    "\n",
    "start_time = time.time()\n",
    "cal_oo_lr = CalibratedClassifierCV(oo_lr, method=\"isotonic\", cv=5, n_jobs = ncores)\n",
    "cal_oo_lr.fit(X_train_sc, y_train)\n",
    "print(\"LR 1v1: %s seconds\" % (round(time.time() - start_time, 2)))\n",
    "start_time = time.time()\n",
    "cal_oo_svc = CalibratedClassifierCV(oo_svc, method=\"sigmoid\", cv=5, n_jobs = ncores)\n",
    "cal_oo_svc.fit(X_train_sc, y_train)\n",
    "print(\"SVC 1v1: %s seconds\" % (round(time.time() - start_time, 2)))\n",
    "start_time = time.time()\n",
    "cal_oo_rfc = CalibratedClassifierCV(oo_rfc, method=\"sigmoid\", cv=5, n_jobs = ncores)\n",
    "cal_oo_rfc.fit(X_train_sc, y_train)\n",
    "print(\"RF 1v1: %s seconds\" % (round(time.time() - start_time, 2)))"
   ]
  },
  {
   "cell_type": "markdown",
   "id": "5d9070ad-c0ed-4285-b01e-63561a9f2757",
   "metadata": {},
   "source": [
    "Use models to predict the test data"
   ]
  },
  {
   "cell_type": "code",
   "execution_count": 7,
   "id": "577a9d3e-78f3-4632-bb0f-912c2dea99c0",
   "metadata": {},
   "outputs": [
    {
     "name": "stderr",
     "output_type": "stream",
     "text": [
      "/home/tpires/bin/miniconda3/envs/scgen-env/lib/python3.9/site-packages/sklearn/calibration.py:659: RuntimeWarning: invalid value encountered in true_divide\n",
      "  proba /= np.sum(proba, axis=1)[:, np.newaxis]\n"
     ]
    }
   ],
   "source": [
    "pred_oo_lr = cal_oo_lr.predict(X_test_sc)\n",
    "pred_oo_svc = cal_oo_svc.predict(X_test_sc)\n",
    "pred_oo_rfc = cal_oo_rfc.predict(X_test_sc)\n",
    "\n",
    "pred_lr = cal_lr.predict(X_test_sc)\n",
    "pred_svc = cal_svc.predict(X_test_sc)\n",
    "pred_rfc = cal_rfc.predict(X_test_sc)"
   ]
  },
  {
   "cell_type": "markdown",
   "id": "1a050f92-4af4-45de-b746-9e2baa20ae8b",
   "metadata": {},
   "source": [
    "Get F1 score for predictions"
   ]
  },
  {
   "cell_type": "code",
   "execution_count": 25,
   "id": "0a337416-3cda-41ee-96ed-3ab225f81dbd",
   "metadata": {},
   "outputs": [],
   "source": [
    "f1_oo_lr = f1_score(y_test, pred_oo_lr, average = \"macro\")\n",
    "f1_oo_svc = f1_score(y_test, pred_oo_svc, average = \"macro\")\n",
    "f1_oo_rfc = f1_score(y_test, pred_oo_rfc, average = \"macro\")\n",
    "\n",
    "f1_lr = f1_score(y_test, pred_lr, average = \"macro\")\n",
    "f1_svc = f1_score(y_test, pred_svc, average = \"macro\")\n",
    "f1_rfc = f1_score(y_test, pred_rfc, average = \"macro\")"
   ]
  },
  {
   "cell_type": "code",
   "execution_count": 18,
   "id": "c38561d4-278c-46fc-8d6f-3e07b7e2d79d",
   "metadata": {},
   "outputs": [
    {
     "data": {
      "text/plain": [
       "[0.8765584196163484,\n",
       " 0.8032046769921667,\n",
       " 0.7867565116254122,\n",
       " 0.8698998233698949,\n",
       " 0.8803307395343059,\n",
       " 0.8882004066543089]"
      ]
     },
     "execution_count": 18,
     "metadata": {},
     "output_type": "execute_result"
    }
   ],
   "source": [
    "[f1_oo_lr, f1_oo_svc, f1_oo_rfc, f1_lr, f1_svc, f1_rfc]"
   ]
  },
  {
   "cell_type": "code",
   "execution_count": 27,
   "id": "dab92f0e-aff3-4036-9195-bad6e419a2fd",
   "metadata": {},
   "outputs": [],
   "source": [
    "all_oo_lr = precision_recall_fscore_support(y_test, pred_oo_lr, zero_division = 0)\n",
    "all_oo_svc = precision_recall_fscore_support(y_test, pred_oo_svc, zero_division = 0)\n",
    "all_oo_rfc = precision_recall_fscore_support(y_test, pred_oo_rfc, zero_division = 0)\n",
    "\n",
    "all_lr = precision_recall_fscore_support(y_test, pred_lr, zero_division = 0)\n",
    "all_svc = precision_recall_fscore_support(y_test, pred_svc, zero_division = 0)\n",
    "all_rfc = precision_recall_fscore_support(y_test, pred_rfc, zero_division = 0)"
   ]
  },
  {
   "cell_type": "code",
   "execution_count": 32,
   "id": "794445f3-b635-43b1-9e09-dc1e1ec4caf5",
   "metadata": {},
   "outputs": [],
   "source": [
    "with open(\"../results/cross_sp_predictions/cal_lr_human_hvg_model.pkl\", \"wb\") as f:\n",
    "    pickle.dump(cal_lr, file=f)\n",
    "with open(\"../results/cross_sp_predictions/cal_svc_human_hvg_model.pkl\", \"wb\") as f:\n",
    "    pickle.dump(cal_svc, file=f)\n",
    "with open(\"../results/cross_sp_predictions/cal_rfc_human_hvg_model.pkl\", \"wb\") as f:\n",
    "    pickle.dump(cal_rfc, file=f)\n",
    "\n",
    "with open(\"../results/cross_sp_predictions/cal_oo_lr_human_hvg_model.pkl\", \"wb\") as f:\n",
    "    pickle.dump(cal_oo_lr, file=f)\n",
    "with open(\"../results/cross_sp_predictions/cal_oo_svc_human_hvg_model.pkl\", \"wb\") as f:\n",
    "    pickle.dump(cal_oo_svc, file=f)\n",
    "with open(\"../results/cross_sp_predictions/cal_oo_rfc_human_hvg_model.pkl\", \"wb\") as f:\n",
    "    pickle.dump(cal_oo_rfc, file=f)"
   ]
  },
  {
   "cell_type": "code",
   "execution_count": null,
   "id": "39085fbb-402e-4d26-b78e-47edf42f03c9",
   "metadata": {},
   "outputs": [],
   "source": []
  },
  {
   "cell_type": "code",
   "execution_count": null,
   "id": "e8cb16a2-9411-4903-8077-c6386e47fdfc",
   "metadata": {},
   "outputs": [],
   "source": []
  }
 ],
 "metadata": {
  "kernelspec": {
   "display_name": "Python 3",
   "language": "python",
   "name": "python3"
  },
  "language_info": {
   "codemirror_mode": {
    "name": "ipython",
    "version": 3
   },
   "file_extension": ".py",
   "mimetype": "text/x-python",
   "name": "python",
   "nbconvert_exporter": "python",
   "pygments_lexer": "ipython3",
   "version": "3.9.2"
  }
 },
 "nbformat": 4,
 "nbformat_minor": 5
}
