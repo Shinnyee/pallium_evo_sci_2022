{
 "cells": [
  {
   "cell_type": "code",
   "execution_count": null,
   "id": "aecd2ba4-3a89-4dae-8aa6-1041454dbaad",
   "metadata": {},
   "outputs": [],
   "source": []
  },
  {
   "cell_type": "code",
   "execution_count": null,
   "id": "badb947b-1a14-4a1d-bb30-1499d1e7d93c",
   "metadata": {},
   "outputs": [],
   "source": []
  },
  {
   "cell_type": "code",
   "execution_count": 1,
   "id": "0d11315e-d6f6-454e-9e6c-a0de1730542c",
   "metadata": {},
   "outputs": [],
   "source": [
    "# data management\n",
    "import pandas as pd\n",
    "from scipy.io import mmread\n",
    "import scanpy as sc\n",
    "import pickle\n",
    "import numpy as np\n",
    "\n",
    "# scaler\n",
    "from sklearn.preprocessing import StandardScaler\n",
    "\n",
    "# models\n",
    "from sklearn.linear_model import LogisticRegression\n",
    "from sklearn.ensemble import RandomForestClassifier\n",
    "\n",
    "# addition to models\n",
    "from sklearn.calibration import CalibratedClassifierCV\n",
    "\n",
    "# data splitting\n",
    "from sklearn.model_selection import train_test_split\n",
    "\n",
    "# scoring\n",
    "from sklearn.metrics import f1_score\n",
    "from sklearn.metrics import precision_recall_fscore_support\n",
    "\n",
    "# time execution\n",
    "import time\n",
    "\n",
    "ncores = 32"
   ]
  },
  {
   "cell_type": "code",
   "execution_count": null,
   "id": "3e785fee-81e5-4aed-8006-d0274c66adb6",
   "metadata": {},
   "outputs": [],
   "source": []
  },
  {
   "cell_type": "code",
   "execution_count": 2,
   "id": "b15bc7a5-92dd-4b11-bf49-64291c93f50b",
   "metadata": {},
   "outputs": [],
   "source": [
    "exp_ax = mmread(\"../data/processed/axolotl_parts/ax_regions_data.mtx\").tocsr().transpose()\n",
    "meta_ax = pd.read_csv(\"../data/processed/axolotl_parts/ax_regions_meta.csv\", index_col = 0)\n",
    "gene_ax = pd.read_csv(\"../data/processed/axolotl_parts/ax_regions_genes.csv\", index_col = 0)"
   ]
  },
  {
   "cell_type": "markdown",
   "id": "2f947d11-87fb-430c-8fd9-5a3827a8939b",
   "metadata": {},
   "source": [
    "Add predicted regions in whole pallium samples"
   ]
  },
  {
   "cell_type": "code",
   "execution_count": 3,
   "id": "b5f3dd94-f48a-470d-bb74-ffacd6520867",
   "metadata": {},
   "outputs": [
    {
     "data": {
      "text/plain": [
       "medial           19483\n",
       "lateral          15370\n",
       "dorsal           10980\n",
       "other/unknown     2303\n",
       "Name: regions_all, dtype: int64"
      ]
     },
     "execution_count": 3,
     "metadata": {},
     "output_type": "execute_result"
    }
   ],
   "source": [
    "reg_ax = pd.read_csv(\"../data/processed/multiome/WP_region_predictions.csv\", index_col = 0)\n",
    "newnames = [x.replace(\"-a1-1\", \"-1_1\") for x in reg_ax.index.values]\n",
    "newnames = [x.replace(\"-a1-2\", \"-1_2\") for x in newnames]\n",
    "newnames = [x.replace(\"-a3-1\", \"-1_3\") for x in newnames]\n",
    "newnames = [x.replace(\"-a3-2\", \"-1_4\") for x in newnames]\n",
    "reg_ax.index = newnames\n",
    "meta_ax[\"regions_all\"] = meta_ax[\"regions\"]\n",
    "meta_ax.loc[reg_ax.index.values,\"regions_all\"] = reg_ax[\"pred_regions_top\"]\n",
    "meta_ax.regions_all.value_counts()"
   ]
  },
  {
   "cell_type": "markdown",
   "id": "b4d675dc-af3d-4ae1-bd99-8eb28415067a",
   "metadata": {},
   "source": [
    "Load Div-seq data"
   ]
  },
  {
   "cell_type": "code",
   "execution_count": 4,
   "id": "4f432cb2-edbd-4d18-bf7f-280dcf2339aa",
   "metadata": {},
   "outputs": [],
   "source": [
    "exp_div = mmread(\"../data/processed/axolotl_parts/div_regions_data.mtx\").tocsr().transpose()\n",
    "meta_div = pd.read_csv(\"../data/processed/axolotl_parts/div_regions_meta.csv\", index_col = 0)\n",
    "gene_div = pd.read_csv(\"../data/processed/axolotl_parts/div_regions_genes.csv\", index_col = 0)"
   ]
  },
  {
   "cell_type": "markdown",
   "id": "58af195f-f3c4-4207-bc1c-3cd914c56032",
   "metadata": {},
   "source": [
    "Subset data to only have cells with a clear region"
   ]
  },
  {
   "cell_type": "code",
   "execution_count": 5,
   "id": "fbfd234d-d62c-4f1d-b4ec-2ca2f04d15d7",
   "metadata": {
    "tags": []
   },
   "outputs": [
    {
     "name": "stderr",
     "output_type": "stream",
     "text": [
      "<ipython-input-5-1b4c1fe41fe7>:9: SettingWithCopyWarning: \n",
      "A value is trying to be set on a copy of a slice from a DataFrame.\n",
      "Try using .loc[row_indexer,col_indexer] = value instead\n",
      "\n",
      "See the caveats in the documentation: https://pandas.pydata.org/pandas-docs/stable/user_guide/indexing.html#returning-a-view-versus-a-copy\n",
      "  meta_reg[\"cc_reg\"] = meta_reg.cellclusters+\"..\"+meta_reg.regions\n"
     ]
    },
    {
     "data": {
      "text/plain": [
       "glut_SUBSET_1..whole pallium    1323\n",
       "glut_SUBSET_0..whole pallium    1296\n",
       "glut_SUBSET_4..medial           1020\n",
       "glut_SUBSET_2..whole pallium    1008\n",
       "glut_SUBSET_6..whole pallium     948\n",
       "                                ... \n",
       "glut_SUBSET_4..dorsal              1\n",
       "npc_SUBSET_1..lateral              1\n",
       "npc_SUBSET_13..lateral             1\n",
       "glut_SUBSET_11..lateral            1\n",
       "npc_SUBSET_9..medial               1\n",
       "Name: cc_reg, Length: 302, dtype: int64"
      ]
     },
     "execution_count": 5,
     "metadata": {},
     "output_type": "execute_result"
    }
   ],
   "source": [
    "meta_reg = meta_ax.loc[meta_ax.cellclusters!=\"glut_SUBSET_23\",:]\n",
    "exp_reg = exp_ax[:,meta_ax.cellclusters!=\"glut_SUBSET_23\"]\n",
    "\n",
    "# make genes uniform\n",
    "g_use = np.asarray(exp_reg.sum(axis = 1)>0)[:,0]\n",
    "exp_reg = exp_reg[g_use,:].transpose()\n",
    "\n",
    "# variable for startification\n",
    "meta_reg[\"cc_reg\"] = meta_reg.cellclusters+\"..\"+meta_reg.regions\n",
    "meta_reg[\"cc_reg\"].value_counts()"
   ]
  },
  {
   "cell_type": "markdown",
   "id": "e912c0ca-56be-4b40-9ee2-934632c41b88",
   "metadata": {},
   "source": [
    "Filter Div-seq data"
   ]
  },
  {
   "cell_type": "code",
   "execution_count": 6,
   "id": "64923130-9fb1-4828-8586-4b60a5c84dff",
   "metadata": {},
   "outputs": [],
   "source": [
    "exp_div_reg = exp_div[g_use,:].transpose()"
   ]
  },
  {
   "cell_type": "markdown",
   "id": "c390c725-03ac-4b8b-b20b-439d2f3bf634",
   "metadata": {},
   "source": [
    "For cc_reg with fewer than 10 occurences, will default to the region (regardless of cell type)"
   ]
  },
  {
   "cell_type": "code",
   "execution_count": 7,
   "id": "4a34e569-e15f-484d-ada6-61ce911821c4",
   "metadata": {},
   "outputs": [
    {
     "name": "stderr",
     "output_type": "stream",
     "text": [
      "/home/tpires/bin/miniconda3/envs/scgen-env/lib/python3.9/site-packages/pandas/core/indexing.py:1773: SettingWithCopyWarning: \n",
      "A value is trying to be set on a copy of a slice from a DataFrame.\n",
      "Try using .loc[row_indexer,col_indexer] = value instead\n",
      "\n",
      "See the caveats in the documentation: https://pandas.pydata.org/pandas-docs/stable/user_guide/indexing.html#returning-a-view-versus-a-copy\n",
      "  self._setitem_single_column(ilocs[0], value, pi)\n"
     ]
    }
   ],
   "source": [
    "ct_regs = [x.split(\"..\")[0] for x in meta_reg[\"cc_reg\"].value_counts().index.values[meta_reg[\"cc_reg\"].value_counts()<=10]]\n",
    "meta_reg.loc[[x in ct_regs for x in meta_reg.cellclusters],\"cc_reg\"] = meta_reg.loc[[x in ct_regs for x in meta_reg.cellclusters],\"regions\"].values"
   ]
  },
  {
   "cell_type": "markdown",
   "id": "60a956a6-d3a0-47b4-b597-cad579b0490a",
   "metadata": {},
   "source": [
    "## Train model for all cells"
   ]
  },
  {
   "cell_type": "markdown",
   "id": "3d558f5e-dad8-430e-b580-6aeefe820142",
   "metadata": {},
   "source": [
    "Split data into train and test fractions"
   ]
  },
  {
   "cell_type": "code",
   "execution_count": 8,
   "id": "ef38312f-d0d2-4b38-b1d1-6c9f577cf865",
   "metadata": {},
   "outputs": [],
   "source": [
    "X_train, X_test, y_train, y_test = train_test_split(exp_reg, meta_reg[\"cellclusters\"], test_size=0.2, \n",
    "                                                    random_state=42, stratify = meta_reg[\"cc_reg\"].values)"
   ]
  },
  {
   "cell_type": "markdown",
   "id": "22a2f4e9-dab6-46ec-91e2-2c47c70106a8",
   "metadata": {},
   "source": [
    "Scale data (based on training data)"
   ]
  },
  {
   "cell_type": "code",
   "execution_count": 9,
   "id": "f7117ee9-7870-4974-b7f6-46084fd1a54f",
   "metadata": {},
   "outputs": [],
   "source": [
    "scaler = StandardScaler(with_mean = False)\n",
    "scaler.fit(X_train)\n",
    "\n",
    "# scale\n",
    "X_train_sc = scaler.transform(X_train)\n",
    "X_test_sc = scaler.transform(X_test)\n",
    "\n",
    "# save scaler\n",
    "with open(\"../results/Div-seq/scaler_axolotlCT_all.pkl\", \"wb\") as f:\n",
    "    pickle.dump(scaler, file=f)"
   ]
  },
  {
   "cell_type": "markdown",
   "id": "3c174e91-9dd1-4d65-ba60-cc83fc29afb6",
   "metadata": {},
   "source": [
    "Create classifiers"
   ]
  },
  {
   "cell_type": "code",
   "execution_count": 10,
   "id": "e72281ad-a875-4a63-beb8-cf9300037939",
   "metadata": {},
   "outputs": [],
   "source": [
    "rfc = RandomForestClassifier(random_state = 1, n_estimators = 1000, n_jobs = ncores)\n",
    "lr = LogisticRegression(random_state = 1, max_iter = 250, n_jobs = ncores)"
   ]
  },
  {
   "cell_type": "markdown",
   "id": "c6c74703-935e-4520-a31e-8ca51a64d7a5",
   "metadata": {},
   "source": [
    "Train models"
   ]
  },
  {
   "cell_type": "code",
   "execution_count": 11,
   "id": "40925495-a22b-4648-91b9-404fddd77417",
   "metadata": {},
   "outputs": [
    {
     "name": "stdout",
     "output_type": "stream",
     "text": [
      "RF 1vRest: 916.36 seconds\n",
      "LR 1vRest: 8530.23 seconds\n"
     ]
    }
   ],
   "source": [
    "start_time = time.time()\n",
    "cal_rfc = CalibratedClassifierCV(rfc, method=\"sigmoid\", cv=5, n_jobs = ncores)\n",
    "cal_rfc.fit(X_train_sc, y_train)\n",
    "print(\"RF 1vRest: %s seconds\" % (round(time.time() - start_time, 2)))\n",
    "with open(\"../results/Div-seq/cal_rfc_axolotlCT_all_model.pkl\", \"wb\") as f:\n",
    "    pickle.dump(cal_rfc, file=f)\n",
    "    \n",
    "start_time = time.time()\n",
    "cal_lr = CalibratedClassifierCV(lr, method=\"isotonic\", cv=5, n_jobs = ncores)\n",
    "cal_lr.fit(X_train_sc, y_train)\n",
    "print(\"LR 1vRest: %s seconds\" % (round(time.time() - start_time, 2)))\n",
    "with open(\"../results/Div-seq/cal_lr_axolotlCT_all_model.pkl\", \"wb\") as f:\n",
    "    pickle.dump(cal_lr, file=f)"
   ]
  },
  {
   "cell_type": "markdown",
   "id": "23145ff3-4f36-47a1-92f2-610bff1d3b28",
   "metadata": {},
   "source": [
    "Use models to predict the test data"
   ]
  },
  {
   "cell_type": "code",
   "execution_count": 12,
   "id": "fcde7739-2dad-46c5-b5f7-fd268699d5d4",
   "metadata": {},
   "outputs": [
    {
     "name": "stdout",
     "output_type": "stream",
     "text": [
      "RF 1vRest: 23.33 seconds\n",
      "LR 1vRest: 14.86 seconds\n"
     ]
    }
   ],
   "source": [
    "start_time = time.time()\n",
    "pred_rfc = cal_rfc.predict(X_test_sc)\n",
    "print(\"RF 1vRest: %s seconds\" % (round(time.time() - start_time, 2)))\n",
    "\n",
    "start_time = time.time()\n",
    "pred_lr = cal_lr.predict(X_test_sc)\n",
    "print(\"LR 1vRest: %s seconds\" % (round(time.time() - start_time, 2)))"
   ]
  },
  {
   "cell_type": "markdown",
   "id": "ec0b8096-02d4-48f1-b447-21c458dfecf5",
   "metadata": {},
   "source": [
    "Get F1 score for predictions"
   ]
  },
  {
   "cell_type": "code",
   "execution_count": 13,
   "id": "3870f104-c288-430a-b0bc-1a0747487714",
   "metadata": {
    "tags": []
   },
   "outputs": [
    {
     "name": "stdout",
     "output_type": "stream",
     "text": [
      "0.8203180404244801\n",
      "0.8008689628924548\n"
     ]
    }
   ],
   "source": [
    "f1_rfc = f1_score(y_test, pred_rfc, average = \"macro\")\n",
    "print(f1_rfc)\n",
    "\n",
    "f1_lr = f1_score(y_test, pred_lr, average = \"macro\")\n",
    "print(f1_lr)"
   ]
  },
  {
   "cell_type": "code",
   "execution_count": 14,
   "id": "88122628-222b-4625-8b0e-ca66fcb46b06",
   "metadata": {},
   "outputs": [],
   "source": [
    "all_rfc = precision_recall_fscore_support(y_test, pred_rfc, zero_division = 0)\n",
    "with open(\"../results/Div-seq/PRFSup_rfc_CT_allax.pkl\", \"wb\") as f:\n",
    "    pickle.dump(all_rfc, file=f)\n",
    "\n",
    "all_lr = precision_recall_fscore_support(y_test, pred_lr, zero_division = 0)\n",
    "with open(\"../results/Div-seq/PRFSup_lr_CT_allax.pkl\", \"wb\") as f:\n",
    "    pickle.dump(all_lr, file=f)"
   ]
  },
  {
   "cell_type": "markdown",
   "id": "05998870-9552-4ac4-b3c7-2cd25289281d",
   "metadata": {},
   "source": [
    "Get probabilities"
   ]
  },
  {
   "cell_type": "code",
   "execution_count": 15,
   "id": "eb78aa58-e1bf-4333-b394-2197549abd97",
   "metadata": {},
   "outputs": [
    {
     "name": "stdout",
     "output_type": "stream",
     "text": [
      "RF 1vRest: 23.56 seconds\n",
      "LR 1vRest: 14.38 seconds\n"
     ]
    }
   ],
   "source": [
    "start_time = time.time()\n",
    "proba_rfc = cal_rfc.predict_proba(X_test_sc)\n",
    "print(\"RF 1vRest: %s seconds\" % (round(time.time() - start_time, 2)))\n",
    "probs_df = pd.DataFrame(proba_rfc, index=y_test.index.values, columns=cal_rfc.classes_)\n",
    "pd.concat([pd.DataFrame({\"y_test\": y_test, \"pred_rfc\": pred_rfc}), \n",
    "           probs_df], axis = 1).to_csv(\"../results/Div-seq/preds_rfc_CT_allax.csv\")\n",
    "\n",
    "start_time = time.time()\n",
    "proba_lr = cal_lr.predict_proba(X_test_sc)\n",
    "print(\"LR 1vRest: %s seconds\" % (round(time.time() - start_time, 2)))\n",
    "probs_df = pd.DataFrame(proba_lr, index=y_test.index.values, columns=cal_lr.classes_)\n",
    "pd.concat([pd.DataFrame({\"y_test\": y_test, \"pred_lr\": pred_lr}), \n",
    "           probs_df], axis = 1).to_csv(\"../results/Div-seq/preds_lr_CT_allax.csv\")"
   ]
  },
  {
   "cell_type": "markdown",
   "id": "42fc4f68-2488-4e16-a894-3b9f8ab7dd36",
   "metadata": {},
   "source": [
    "Get Div-seq predictions"
   ]
  },
  {
   "cell_type": "code",
   "execution_count": 16,
   "id": "913a1ea0-25d7-4f49-9da1-162c2415ea8f",
   "metadata": {},
   "outputs": [
    {
     "name": "stdout",
     "output_type": "stream",
     "text": [
      "RF 1vRest: 28.33 seconds\n",
      "LR 1vRest: 15.18 seconds\n"
     ]
    }
   ],
   "source": [
    "# RFC\n",
    "start_time = time.time()\n",
    "pred_rfc_all = cal_rfc.predict(scaler.transform(exp_div_reg))\n",
    "print(\"RF 1vRest: %s seconds\" % (round(time.time() - start_time, 2)))\n",
    "\n",
    "# LR\n",
    "start_time = time.time()\n",
    "pred_lr_all = cal_lr.predict(scaler.transform(exp_div_reg))\n",
    "print(\"LR 1vRest: %s seconds\" % (round(time.time() - start_time, 2)))"
   ]
  },
  {
   "cell_type": "markdown",
   "id": "3c101e23-bee9-4616-8dc8-9439650b125d",
   "metadata": {},
   "source": [
    "Get Div-seq probabilities"
   ]
  },
  {
   "cell_type": "code",
   "execution_count": 17,
   "id": "1768c0b5-1519-49a7-817e-058984108a89",
   "metadata": {},
   "outputs": [
    {
     "name": "stdout",
     "output_type": "stream",
     "text": [
      "RF 1vRest: 28.11 seconds\n",
      "LR 1vRest: 14.53 seconds\n"
     ]
    }
   ],
   "source": [
    "# RFC\n",
    "start_time = time.time()\n",
    "proba_rfc_all = cal_rfc.predict_proba(scaler.transform(exp_div_reg))\n",
    "print(\"RF 1vRest: %s seconds\" % (round(time.time() - start_time, 2)))\n",
    "probs_df = pd.DataFrame(proba_rfc_all, columns=cal_rfc.classes_, index=meta_div.index.values)\n",
    "pd.concat([pd.DataFrame({\"pred_rfc\": pred_rfc_all}, index=meta_div.index.values), \n",
    "           probs_df], axis = 1).to_csv(\"../results/Div-seq/preds_rfc_CT_div_all.csv\")\n",
    "\n",
    "# LR\n",
    "start_time = time.time()\n",
    "proba_lr_all = cal_lr.predict_proba(scaler.transform(exp_div_reg))\n",
    "print(\"LR 1vRest: %s seconds\" % (round(time.time() - start_time, 2)))\n",
    "probs_df = pd.DataFrame(proba_lr_all, columns=cal_lr.classes_, index=meta_div.index.values)\n",
    "pd.concat([pd.DataFrame({\"pred_lr\": pred_lr_all}, index=meta_div.index.values), \n",
    "           probs_df], axis = 1).to_csv(\"../results/Div-seq/preds_lr_CT_div_all.csv\")"
   ]
  },
  {
   "cell_type": "code",
   "execution_count": null,
   "id": "fca77aa9-273e-49a3-88ba-bf0864c671d9",
   "metadata": {},
   "outputs": [],
   "source": []
  },
  {
   "cell_type": "code",
   "execution_count": null,
   "id": "0ccc480c-7dd3-4aa3-b504-a14656197fb6",
   "metadata": {},
   "outputs": [],
   "source": []
  },
  {
   "cell_type": "markdown",
   "id": "174cc41d-cdc6-4495-b800-31b1a9ab7b9c",
   "metadata": {},
   "source": [
    "## Train model for neurons only"
   ]
  },
  {
   "cell_type": "markdown",
   "id": "25767a03-cf4e-44d5-a798-751412080e60",
   "metadata": {},
   "source": [
    "Subset the data"
   ]
  },
  {
   "cell_type": "code",
   "execution_count": 18,
   "id": "8fa9d039-8e85-4144-9888-5721c693b93e",
   "metadata": {},
   "outputs": [],
   "source": [
    "cond_neu = meta_reg[\"classes\"]==\"neuronal\"\n",
    "meta_neu = meta_reg.loc[cond_neu,:]\n",
    "exp_neu = exp_reg[cond_neu,:]\n",
    "# make genes uniform\n",
    "g_use = np.asarray(exp_neu.transpose().sum(axis = 1)>0)[:,0]\n",
    "exp_neu = exp_neu[:,g_use]\n",
    "\n",
    "exp_div_neu = exp_div_reg[:,g_use]"
   ]
  },
  {
   "cell_type": "markdown",
   "id": "8e7805b7-ab0b-4a57-b61a-d61d017e3648",
   "metadata": {},
   "source": [
    "Split data into train and test fractions"
   ]
  },
  {
   "cell_type": "code",
   "execution_count": 19,
   "id": "f93e93ba-8002-4446-9ed0-4f0caa56908d",
   "metadata": {},
   "outputs": [],
   "source": [
    "X_train, X_test, y_train, y_test = train_test_split(exp_neu, meta_neu[\"cellclusters\"], test_size=0.2, \n",
    "                                                    random_state=42, stratify = meta_neu[\"cc_reg\"].values)"
   ]
  },
  {
   "cell_type": "markdown",
   "id": "1ad2e193-84b9-4335-879e-98b1b59fef16",
   "metadata": {},
   "source": [
    "Scale data (based on training data)"
   ]
  },
  {
   "cell_type": "code",
   "execution_count": 20,
   "id": "11c3c2f0-aa55-47fa-884e-26826d7144fb",
   "metadata": {},
   "outputs": [],
   "source": [
    "scaler = StandardScaler(with_mean = False)\n",
    "scaler.fit(X_train)\n",
    "\n",
    "# scale\n",
    "X_train_sc = scaler.transform(X_train)\n",
    "X_test_sc = scaler.transform(X_test)\n",
    "\n",
    "# save scaler\n",
    "with open(\"../results/Div-seq/scaler_axolotlCT_neu.pkl\", \"wb\") as f:\n",
    "    pickle.dump(scaler, file=f)"
   ]
  },
  {
   "cell_type": "markdown",
   "id": "ea795ae2-7552-496f-bd2b-91333ba94a1e",
   "metadata": {},
   "source": [
    "Create classifiers"
   ]
  },
  {
   "cell_type": "code",
   "execution_count": 21,
   "id": "580cc712-0b12-4179-b746-ae795aba9f39",
   "metadata": {},
   "outputs": [],
   "source": [
    "rfc = RandomForestClassifier(random_state = 1, n_estimators = 1000, n_jobs = ncores)\n",
    "lr = LogisticRegression(random_state = 1, max_iter = 250, n_jobs = ncores)"
   ]
  },
  {
   "cell_type": "markdown",
   "id": "00ed8286-67e8-4e4d-9b28-75cc094e1c5c",
   "metadata": {},
   "source": [
    "Train models"
   ]
  },
  {
   "cell_type": "code",
   "execution_count": null,
   "id": "d4fc8aa9-7953-4373-8b25-d372f18ebfec",
   "metadata": {},
   "outputs": [
    {
     "name": "stdout",
     "output_type": "stream",
     "text": [
      "RF 1vRest: 793.14 seconds\n"
     ]
    }
   ],
   "source": [
    "start_time = time.time()\n",
    "cal_rfc = CalibratedClassifierCV(rfc, method=\"sigmoid\", cv=5, n_jobs = ncores)\n",
    "cal_rfc.fit(X_train_sc, y_train)\n",
    "print(\"RF 1vRest: %s seconds\" % (round(time.time() - start_time, 2)))\n",
    "with open(\"../results/Div-seq/cal_rfc_axolotlCT_neu_model.pkl\", \"wb\") as f:\n",
    "    pickle.dump(cal_rfc, file=f)\n",
    "    \n",
    "start_time = time.time()\n",
    "cal_lr = CalibratedClassifierCV(lr, method=\"isotonic\", cv=5, n_jobs = ncores)\n",
    "cal_lr.fit(X_train_sc, y_train)\n",
    "print(\"LR 1vRest: %s seconds\" % (round(time.time() - start_time, 2)))\n",
    "with open(\"../results/Div-seq/cal_lr_axolotlCT_neu_model.pkl\", \"wb\") as f:\n",
    "    pickle.dump(cal_lr, file=f)"
   ]
  },
  {
   "cell_type": "markdown",
   "id": "044aeba2-8d00-444b-99f7-46c96cb2df1c",
   "metadata": {},
   "source": [
    "Use models to predict the test data"
   ]
  },
  {
   "cell_type": "code",
   "execution_count": null,
   "id": "532a7a1e-a89c-4626-bf56-d8234eced53d",
   "metadata": {},
   "outputs": [],
   "source": [
    "start_time = time.time()\n",
    "pred_rfc = cal_rfc.predict(X_test_sc)\n",
    "print(\"RF 1vRest: %s seconds\" % (round(time.time() - start_time, 2)))\n",
    "\n",
    "start_time = time.time()\n",
    "pred_lr = cal_lr.predict(X_test_sc)\n",
    "print(\"LR 1vRest: %s seconds\" % (round(time.time() - start_time, 2)))"
   ]
  },
  {
   "cell_type": "markdown",
   "id": "ef3cb340-6933-4597-a0e7-e4fdf8d86e99",
   "metadata": {},
   "source": [
    "Get F1 score for predictions"
   ]
  },
  {
   "cell_type": "code",
   "execution_count": null,
   "id": "36404f88-5012-44b5-ad0a-36fffb518cc0",
   "metadata": {
    "tags": []
   },
   "outputs": [],
   "source": [
    "f1_rfc = f1_score(y_test, pred_rfc, average = \"macro\")\n",
    "print(f1_rfc)\n",
    "\n",
    "f1_lr = f1_score(y_test, pred_lr, average = \"macro\")\n",
    "print(f1_lr)"
   ]
  },
  {
   "cell_type": "code",
   "execution_count": null,
   "id": "de2d63e7-5c77-4c85-9a56-08b49bdd4340",
   "metadata": {},
   "outputs": [],
   "source": [
    "all_rfc = precision_recall_fscore_support(y_test, pred_rfc, zero_division = 0)\n",
    "with open(\"../results/Div-seq/PRFSup_rfc_CT_neuax.pkl\", \"wb\") as f:\n",
    "    pickle.dump(all_rfc, file=f)\n",
    "\n",
    "all_lr = precision_recall_fscore_support(y_test, pred_lr, zero_division = 0)\n",
    "with open(\"../results/Div-seq/PRFSup_lr_CT_neuax.pkl\", \"wb\") as f:\n",
    "    pickle.dump(all_lr, file=f)"
   ]
  },
  {
   "cell_type": "markdown",
   "id": "038bf0c2-adf3-4f65-8a91-fc101602e2fa",
   "metadata": {},
   "source": [
    "Get probabilities"
   ]
  },
  {
   "cell_type": "code",
   "execution_count": null,
   "id": "54c855d6-5684-4708-8dcf-19a7c71e7fa2",
   "metadata": {},
   "outputs": [],
   "source": [
    "start_time = time.time()\n",
    "proba_rfc = cal_rfc.predict_proba(X_test_sc)\n",
    "print(\"RF 1vRest: %s seconds\" % (round(time.time() - start_time, 2)))\n",
    "probs_df = pd.DataFrame(proba_rfc, index=y_test.index.values, columns=cal_rfc.classes_)\n",
    "pd.concat([pd.DataFrame({\"y_test\": y_test, \"pred_rfc\": pred_rfc}), \n",
    "           probs_df], axis = 1).to_csv(\"../results/Div-seq/preds_rfc_CT_neuax.csv\")\n",
    "\n",
    "start_time = time.time()\n",
    "proba_lr = cal_lr.predict_proba(X_test_sc)\n",
    "print(\"LR 1vRest: %s seconds\" % (round(time.time() - start_time, 2)))\n",
    "probs_df = pd.DataFrame(proba_lr, index=y_test.index.values, columns=cal_lr.classes_)\n",
    "pd.concat([pd.DataFrame({\"y_test\": y_test, \"pred_lr\": pred_lr}), \n",
    "           probs_df], axis = 1).to_csv(\"../results/Div-seq/preds_lr_CT_neuax.csv\")"
   ]
  },
  {
   "cell_type": "markdown",
   "id": "ce069043-0bff-44a3-a8a4-1f1fb0bcc25e",
   "metadata": {},
   "source": [
    "Get Div-seq predictions"
   ]
  },
  {
   "cell_type": "code",
   "execution_count": null,
   "id": "a59eb42a-fb42-4cf3-985c-36b090814034",
   "metadata": {},
   "outputs": [],
   "source": [
    "# RFC\n",
    "start_time = time.time()\n",
    "pred_rfc_all = cal_rfc.predict(scaler.transform(exp_div_neu))\n",
    "print(\"RF 1vRest: %s seconds\" % (round(time.time() - start_time, 2)))\n",
    "\n",
    "# LR\n",
    "start_time = time.time()\n",
    "pred_lr_all = cal_lr.predict(scaler.transform(exp_div_neu))\n",
    "print(\"LR 1vRest: %s seconds\" % (round(time.time() - start_time, 2)))"
   ]
  },
  {
   "cell_type": "markdown",
   "id": "559ca7e1-e5df-44c3-9b03-1d76a557d118",
   "metadata": {},
   "source": [
    "Get Div-seq probabilities"
   ]
  },
  {
   "cell_type": "code",
   "execution_count": null,
   "id": "a0f7d435-ea96-45fd-a0eb-9240b711267c",
   "metadata": {},
   "outputs": [],
   "source": [
    "# RFC\n",
    "start_time = time.time()\n",
    "proba_rfc_all = cal_rfc.predict_proba(scaler.transform(exp_div_neu))\n",
    "print(\"RF 1vRest: %s seconds\" % (round(time.time() - start_time, 2)))\n",
    "probs_df = pd.DataFrame(proba_rfc_all, columns=cal_rfc.classes_, index=meta_div.index.values)\n",
    "pd.concat([pd.DataFrame({\"pred_rfc\": pred_rfc_all}, index=meta_div.index.values), \n",
    "           probs_df], axis = 1).to_csv(\"../results/Div-seq/preds_rfc_CT_div_neu.csv\")\n",
    "\n",
    "# LR\n",
    "start_time = time.time()\n",
    "proba_lr_all = cal_lr.predict_proba(scaler.transform(exp_div_neu))\n",
    "print(\"LR 1vRest: %s seconds\" % (round(time.time() - start_time, 2)))\n",
    "probs_df = pd.DataFrame(proba_lr_all, columns=cal_lr.classes_, index=meta_div.index.values)\n",
    "pd.concat([pd.DataFrame({\"pred_lr\": pred_lr_all}, index=meta_div.index.values), \n",
    "           probs_df], axis = 1).to_csv(\"../results/Div-seq/preds_lr_CT_div_neu.csv\")"
   ]
  },
  {
   "cell_type": "code",
   "execution_count": null,
   "id": "5dd359d7-572a-43e3-9f54-918ea1498923",
   "metadata": {},
   "outputs": [],
   "source": []
  },
  {
   "cell_type": "code",
   "execution_count": null,
   "id": "9e59e96b-40a9-47e2-bd81-367de012ebd9",
   "metadata": {},
   "outputs": [],
   "source": []
  },
  {
   "cell_type": "markdown",
   "id": "2ea45a1b-89c2-4119-b662-627b0a75fd93",
   "metadata": {},
   "source": [
    "## Train model for non-NPC neurons only"
   ]
  },
  {
   "cell_type": "markdown",
   "id": "df9f60d2-3adc-44e6-ad09-03a75888e5ef",
   "metadata": {},
   "source": [
    "Subset the data"
   ]
  },
  {
   "cell_type": "code",
   "execution_count": null,
   "id": "d4b5aaa7-5219-4772-a5b6-283d30426a53",
   "metadata": {},
   "outputs": [],
   "source": [
    "cond_dif = np.logical_or(meta_reg[\"subclasses\"]==\"Glutamatergic\", meta_reg[\"subclasses\"]==\"GABAergic\")\n",
    "meta_dif = meta_reg.loc[cond_dif,:]\n",
    "exp_dif = exp_reg[cond_dif,:]\n",
    "# make genes uniform\n",
    "g_use = np.asarray(exp_dif.transpose().sum(axis = 1)>0)[:,0]\n",
    "exp_dif = exp_dif[:,g_use]\n",
    "\n",
    "exp_div_dif = exp_div_reg[:,g_use]"
   ]
  },
  {
   "cell_type": "markdown",
   "id": "99b75c2e-2c3b-4657-a669-66466bf35159",
   "metadata": {},
   "source": [
    "Split data into train and test fractions"
   ]
  },
  {
   "cell_type": "code",
   "execution_count": null,
   "id": "dcbff864-b4e9-4b92-a0cc-11bdc7944d18",
   "metadata": {},
   "outputs": [],
   "source": [
    "X_train, X_test, y_train, y_test = train_test_split(exp_dif, meta_dif[\"cellclusters\"], test_size=0.2, \n",
    "                                                    random_state=42, stratify = meta_dif[\"cc_reg\"].values)"
   ]
  },
  {
   "cell_type": "markdown",
   "id": "c92c66c2-4707-42b7-81cd-1174d1c5eef1",
   "metadata": {},
   "source": [
    "Scale data (based on training data)"
   ]
  },
  {
   "cell_type": "code",
   "execution_count": null,
   "id": "9be95040-9ca0-43c3-ac17-9ec73d2cf709",
   "metadata": {},
   "outputs": [],
   "source": [
    "scaler = StandardScaler(with_mean = False)\n",
    "scaler.fit(X_train)\n",
    "\n",
    "# scale\n",
    "X_train_sc = scaler.transform(X_train)\n",
    "X_test_sc = scaler.transform(X_test)\n",
    "\n",
    "# save scaler\n",
    "with open(\"../results/Div-seq/scaler_axolotlCT_dif.pkl\", \"wb\") as f:\n",
    "    pickle.dump(scaler, file=f)"
   ]
  },
  {
   "cell_type": "markdown",
   "id": "e039254b-a61d-48ef-a1f0-6c6c883fd532",
   "metadata": {},
   "source": [
    "Create classifiers"
   ]
  },
  {
   "cell_type": "code",
   "execution_count": null,
   "id": "146d5ee8-89a1-4b0f-961c-7ee1310a4b3c",
   "metadata": {},
   "outputs": [],
   "source": [
    "rfc = RandomForestClassifier(random_state = 1, n_estimators = 1000, n_jobs = ncores)\n",
    "lr = LogisticRegression(random_state = 1, max_iter = 250, n_jobs = ncores)"
   ]
  },
  {
   "cell_type": "markdown",
   "id": "c7d64c0f-238d-4201-b31b-39229b2d9698",
   "metadata": {},
   "source": [
    "Train models"
   ]
  },
  {
   "cell_type": "code",
   "execution_count": null,
   "id": "16e1cbd5-f4bf-4f44-8b93-1a2dbb413d16",
   "metadata": {},
   "outputs": [],
   "source": [
    "start_time = time.time()\n",
    "cal_rfc = CalibratedClassifierCV(rfc, method=\"sigmoid\", cv=5, n_jobs = ncores)\n",
    "cal_rfc.fit(X_train_sc, y_train)\n",
    "print(\"RF 1vRest: %s seconds\" % (round(time.time() - start_time, 2)))\n",
    "with open(\"../results/Div-seq/cal_rfc_axolotlCT_dif_model.pkl\", \"wb\") as f:\n",
    "    pickle.dump(cal_rfc, file=f)\n",
    "    \n",
    "start_time = time.time()\n",
    "cal_lr = CalibratedClassifierCV(lr, method=\"isotonic\", cv=5, n_jobs = ncores)\n",
    "cal_lr.fit(X_train_sc, y_train)\n",
    "print(\"LR 1vRest: %s seconds\" % (round(time.time() - start_time, 2)))\n",
    "with open(\"../results/Div-seq/cal_lr_axolotlCT_dif_model.pkl\", \"wb\") as f:\n",
    "    pickle.dump(cal_lr, file=f)"
   ]
  },
  {
   "cell_type": "markdown",
   "id": "577b4a44-4085-49f4-9ba6-94988a14c5b5",
   "metadata": {},
   "source": [
    "Use models to predict the test data"
   ]
  },
  {
   "cell_type": "code",
   "execution_count": null,
   "id": "bd88fa85-b14d-4f9d-b8cd-45d369dc588b",
   "metadata": {},
   "outputs": [],
   "source": [
    "start_time = time.time()\n",
    "pred_rfc = cal_rfc.predict(X_test_sc)\n",
    "print(\"RF 1vRest: %s seconds\" % (round(time.time() - start_time, 2)))\n",
    "\n",
    "start_time = time.time()\n",
    "pred_lr = cal_lr.predict(X_test_sc)\n",
    "print(\"LR 1vRest: %s seconds\" % (round(time.time() - start_time, 2)))"
   ]
  },
  {
   "cell_type": "markdown",
   "id": "af0c13fe-ab4e-4db6-93fd-6b03eca59148",
   "metadata": {},
   "source": [
    "Get F1 score for predictions"
   ]
  },
  {
   "cell_type": "code",
   "execution_count": null,
   "id": "b91900a9-610e-4c08-bd28-b40c0c208057",
   "metadata": {
    "tags": []
   },
   "outputs": [],
   "source": [
    "f1_rfc = f1_score(y_test, pred_rfc, average = \"macro\")\n",
    "print(f1_rfc)\n",
    "\n",
    "f1_lr = f1_score(y_test, pred_lr, average = \"macro\")\n",
    "print(f1_lr)"
   ]
  },
  {
   "cell_type": "code",
   "execution_count": null,
   "id": "bf4a4fae-ad81-41af-8caf-ef480e7f198d",
   "metadata": {},
   "outputs": [],
   "source": [
    "all_rfc = precision_recall_fscore_support(y_test, pred_rfc, zero_division = 0)\n",
    "with open(\"../results/Div-seq/PRFSup_rfc_CT_difax.pkl\", \"wb\") as f:\n",
    "    pickle.dump(all_rfc, file=f)\n",
    "\n",
    "all_lr = precision_recall_fscore_support(y_test, pred_lr, zero_division = 0)\n",
    "with open(\"../results/Div-seq/PRFSup_lr_CT_difax.pkl\", \"wb\") as f:\n",
    "    pickle.dump(all_lr, file=f)"
   ]
  },
  {
   "cell_type": "markdown",
   "id": "ac3fa72f-064b-4294-902a-4257634f282a",
   "metadata": {},
   "source": [
    "Get probabilities"
   ]
  },
  {
   "cell_type": "code",
   "execution_count": null,
   "id": "0f965ff5-56a2-4393-ab2b-623c8e439c5e",
   "metadata": {},
   "outputs": [],
   "source": [
    "start_time = time.time()\n",
    "proba_rfc = cal_rfc.predict_proba(X_test_sc)\n",
    "print(\"RF 1vRest: %s seconds\" % (round(time.time() - start_time, 2)))\n",
    "probs_df = pd.DataFrame(proba_rfc, index=y_test.index.values, columns=cal_rfc.classes_)\n",
    "pd.concat([pd.DataFrame({\"y_test\": y_test, \"pred_rfc\": pred_rfc}), \n",
    "           probs_df], axis = 1).to_csv(\"../results/Div-seq/preds_rfc_CT_difax.csv\")\n",
    "\n",
    "start_time = time.time()\n",
    "proba_lr = cal_lr.predict_proba(X_test_sc)\n",
    "print(\"LR 1vRest: %s seconds\" % (round(time.time() - start_time, 2)))\n",
    "probs_df = pd.DataFrame(proba_lr, index=y_test.index.values, columns=cal_lr.classes_)\n",
    "pd.concat([pd.DataFrame({\"y_test\": y_test, \"pred_lr\": pred_lr}), \n",
    "           probs_df], axis = 1).to_csv(\"../results/Div-seq/preds_lr_CT_difax.csv\")"
   ]
  },
  {
   "cell_type": "markdown",
   "id": "d3d4a753-74a5-4cfd-b27c-f5cd64ab04df",
   "metadata": {},
   "source": [
    "Get Div-seq predictions"
   ]
  },
  {
   "cell_type": "code",
   "execution_count": null,
   "id": "3da0c186-13c3-4c7b-b0f6-b660b152f46f",
   "metadata": {},
   "outputs": [],
   "source": [
    "# RFC\n",
    "start_time = time.time()\n",
    "pred_rfc_all = cal_rfc.predict(scaler.transform(exp_div_dif))\n",
    "print(\"RF 1vRest: %s seconds\" % (round(time.time() - start_time, 2)))\n",
    "\n",
    "# LR\n",
    "start_time = time.time()\n",
    "pred_lr_all = cal_lr.predict(scaler.transform(exp_div_dif))\n",
    "print(\"LR 1vRest: %s seconds\" % (round(time.time() - start_time, 2)))"
   ]
  },
  {
   "cell_type": "markdown",
   "id": "7362d164-5420-4406-996d-770a792956b5",
   "metadata": {},
   "source": [
    "Get Div-seq probabilities"
   ]
  },
  {
   "cell_type": "code",
   "execution_count": null,
   "id": "c86ece89-c9f8-4b58-9ddd-85bd6d13c115",
   "metadata": {},
   "outputs": [],
   "source": [
    "# RFC\n",
    "start_time = time.time()\n",
    "proba_rfc_all = cal_rfc.predict_proba(scaler.transform(exp_div_dif))\n",
    "print(\"RF 1vRest: %s seconds\" % (round(time.time() - start_time, 2)))\n",
    "probs_df = pd.DataFrame(proba_rfc_all, columns=cal_rfc.classes_, index=meta_div.index.values)\n",
    "pd.concat([pd.DataFrame({\"pred_rfc\": pred_rfc_all}, index=meta_div.index.values), \n",
    "           probs_df], axis = 1).to_csv(\"../results/Div-seq/preds_rfc_CT_div_dif.csv\")\n",
    "\n",
    "# LR\n",
    "start_time = time.time()\n",
    "proba_lr_all = cal_lr.predict_proba(scaler.transform(exp_div_dif))\n",
    "print(\"LR 1vRest: %s seconds\" % (round(time.time() - start_time, 2)))\n",
    "probs_df = pd.DataFrame(proba_lr_all, columns=cal_lr.classes_, index=meta_div.index.values)\n",
    "pd.concat([pd.DataFrame({\"pred_lr\": pred_lr_all}, index=meta_div.index.values), \n",
    "           probs_df], axis = 1).to_csv(\"../results/Div-seq/preds_lr_CT_div_dif.csv\")"
   ]
  },
  {
   "cell_type": "code",
   "execution_count": null,
   "id": "10b6c53a-c861-421e-8ea8-f7e85c6dc5e7",
   "metadata": {},
   "outputs": [],
   "source": []
  },
  {
   "cell_type": "code",
   "execution_count": null,
   "id": "a2507ea8-4b83-4706-917c-68bd868ea325",
   "metadata": {},
   "outputs": [],
   "source": []
  },
  {
   "cell_type": "code",
   "execution_count": null,
   "id": "0c7d947e-3dbe-40ed-a1a2-315d62ac6e33",
   "metadata": {},
   "outputs": [],
   "source": []
  },
  {
   "cell_type": "markdown",
   "id": "3edb9f8a-2d60-4fcf-adf1-6ad8eb6620e0",
   "metadata": {},
   "source": [
    "## Predict 1wpi negative sample"
   ]
  },
  {
   "cell_type": "markdown",
   "id": "1c02928f-d36d-420b-842b-6e9473488e10",
   "metadata": {},
   "source": [
    "Load trained model"
   ]
  },
  {
   "cell_type": "code",
   "execution_count": 6,
   "id": "f8a8c77d-2a0b-4791-9a0f-2b310f1f88a2",
   "metadata": {},
   "outputs": [],
   "source": [
    "with open(\"../results/Div-seq/cal_rfc_axolotlCT_all_model.pkl\", \"rb\") as f:\n",
    "    rfc_all = pickle.load(f)"
   ]
  },
  {
   "cell_type": "markdown",
   "id": "e4073396-3657-436e-b08a-fd163968a19b",
   "metadata": {},
   "source": [
    "Load scaler"
   ]
  },
  {
   "cell_type": "code",
   "execution_count": 7,
   "id": "20fc54b1-22f0-415e-b7da-2b7ad59bf6a0",
   "metadata": {},
   "outputs": [],
   "source": [
    "with open(\"../results/Div-seq/scaler_axolotlCT_all.pkl\", \"rb\") as f:\n",
    "    scaler_all = pickle.load(f)"
   ]
  },
  {
   "cell_type": "markdown",
   "id": "4ae48697-960b-449f-bc61-daef988550b4",
   "metadata": {},
   "source": [
    "Load data"
   ]
  },
  {
   "cell_type": "code",
   "execution_count": 8,
   "id": "10253960-31bd-4fc2-b53b-88b2d8f8b2b3",
   "metadata": {},
   "outputs": [],
   "source": [
    "exp_neg = mmread(\"../data/processed/axolotl_parts/neg_regions_data.mtx\").tocsr().transpose()\n",
    "meta_neg = pd.read_csv(\"../data/processed/axolotl_parts/neg_regions_meta.csv\", index_col = 0)\n",
    "gene_neg = pd.read_csv(\"../data/processed/axolotl_parts/neg_regions_genes.csv\", index_col = 0)"
   ]
  },
  {
   "cell_type": "code",
   "execution_count": 9,
   "id": "8522ecf5-bcb0-432a-9517-2d9f926da61c",
   "metadata": {},
   "outputs": [],
   "source": [
    "exp_neg_reg = exp_neg[g_use,:].transpose()"
   ]
  },
  {
   "cell_type": "markdown",
   "id": "bd56da34-269c-470e-a6dd-9079ab0ca0d5",
   "metadata": {},
   "source": [
    "Get predictions"
   ]
  },
  {
   "cell_type": "code",
   "execution_count": 10,
   "id": "c1aa371f-3b29-4e2b-ba86-776e659e1b63",
   "metadata": {},
   "outputs": [
    {
     "name": "stdout",
     "output_type": "stream",
     "text": [
      "RF 1vRest: 20.6 seconds\n"
     ]
    }
   ],
   "source": [
    "# RFC\n",
    "start_time = time.time()\n",
    "pred_rfc_all = rfc_all.predict(scaler_all.transform(exp_neg_reg))\n",
    "print(\"RF 1vRest: %s seconds\" % (round(time.time() - start_time, 2)))"
   ]
  },
  {
   "cell_type": "markdown",
   "id": "299365c8-76a0-4ea9-ad82-09dd8939e784",
   "metadata": {},
   "source": [
    "Get probabilities"
   ]
  },
  {
   "cell_type": "code",
   "execution_count": 11,
   "id": "aca381d0-93c3-48a7-9cdb-2b9dee7d5d47",
   "metadata": {},
   "outputs": [
    {
     "name": "stdout",
     "output_type": "stream",
     "text": [
      "RF 1vRest: 18.98 seconds\n"
     ]
    }
   ],
   "source": [
    "# RFC\n",
    "start_time = time.time()\n",
    "proba_rfc_all = rfc_all.predict_proba(scaler_all.transform(exp_neg_reg))\n",
    "print(\"RF 1vRest: %s seconds\" % (round(time.time() - start_time, 2)))\n",
    "probs_df = pd.DataFrame(proba_rfc_all, columns=rfc_all.classes_, index=meta_neg.index.values)\n",
    "pd.concat([pd.DataFrame({\"pred_rfc\": pred_rfc_all}, index=meta_neg.index.values), \n",
    "           probs_df], axis = 1).to_csv(\"../results/Div-seq/preds_rfc_CT_neg_all.csv\")"
   ]
  },
  {
   "cell_type": "code",
   "execution_count": null,
   "id": "e4aa1693-47d8-4b0a-993b-66b34f55c4f3",
   "metadata": {},
   "outputs": [],
   "source": []
  },
  {
   "cell_type": "code",
   "execution_count": null,
   "id": "9936f7d9-ccf8-4a13-b920-c25a7d18b7df",
   "metadata": {},
   "outputs": [],
   "source": []
  }
 ],
 "metadata": {
  "kernelspec": {
   "display_name": "Python 3",
   "language": "python",
   "name": "python3"
  },
  "language_info": {
   "codemirror_mode": {
    "name": "ipython",
    "version": 3
   },
   "file_extension": ".py",
   "mimetype": "text/x-python",
   "name": "python",
   "nbconvert_exporter": "python",
   "pygments_lexer": "ipython3",
   "version": "3.9.2"
  }
 },
 "nbformat": 4,
 "nbformat_minor": 5
}
