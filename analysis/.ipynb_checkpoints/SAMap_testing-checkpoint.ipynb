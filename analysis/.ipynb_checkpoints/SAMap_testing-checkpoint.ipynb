{
 "cells": [
  {
   "cell_type": "code",
   "execution_count": 24,
   "id": "d99ef759",
   "metadata": {},
   "outputs": [],
   "source": [
    "import scanpy as sc\n",
    "import anndata as ad\n",
    "import pandas as pd\n",
    "\n",
    "import matplotlib.pyplot as plt\n",
    "import seaborn as sns\n",
    "\n",
    "from samap.mapping import SAMAP\n",
    "from samap.analysis import get_mapping_scores, GenePairFinder, convert_eggnog_to_homologs\n",
    "from samalg import SAM"
   ]
  },
  {
   "cell_type": "markdown",
   "id": "391489a3",
   "metadata": {},
   "source": [
    "`writeMM(t(turtle@assays$RNA@data), file = \"turtle_neurons_norm.mtx\")`  \n",
    "`writeMM(t(turtle@assays$RNA@counts), file = \"turtle_neurons_counts.mtx\")`  \n",
    "`write.csv(turtle@meta.data, file = \"turtle_neurons_meta.csv\", row)`"
   ]
  },
  {
   "cell_type": "code",
   "execution_count": 14,
   "id": "b96271fb",
   "metadata": {},
   "outputs": [],
   "source": [
    "cdata = ad.read_mtx(\"projects/pallium_evo/data/expression/turtle_neurons_counts.mtx\")\n",
    "turtle_data = ad.read_mtx(\"projects/pallium_evo/data/expression/turtle_neurons_norm.mtx\")\n",
    "turtle_data.raw = cdata\n",
    "pd_obs = pd.read_csv(\"projects/pallium_evo/data/expression/turtle_neurons_meta.csv\")\n",
    "turtle_data.obs = pd_obs"
   ]
  },
  {
   "cell_type": "code",
   "execution_count": 18,
   "id": "db629a1b",
   "metadata": {},
   "outputs": [],
   "source": [
    "cdata = ad.read_mtx(\"projects/pallium_evo/data/expression/lizard_neurons_counts.mtx\")\n",
    "lizard_data = ad.read_mtx(\"projects/pallium_evo/data/expression/lizard_neurons_norm.mtx\")\n",
    "lizard_data.raw = cdata\n",
    "pd_obs = pd.read_csv(\"projects/pallium_evo/data/expression/lizard_neurons_meta.csv\")\n",
    "lizard_data.obs = pd_obs"
   ]
  },
  {
   "cell_type": "code",
   "execution_count": 19,
   "id": "2e4a7913",
   "metadata": {},
   "outputs": [
    {
     "name": "stderr",
     "output_type": "stream",
     "text": [
      "... storing 'orig.ident' as categorical\n",
      "... storing 'areaident' as categorical\n",
      "... storing 'libraryident' as categorical\n",
      "... storing 'pallial.area' as categorical\n",
      "... storing 'clusters' as categorical\n",
      "... storing 'orig.ident' as categorical\n",
      "... storing 'areaident' as categorical\n",
      "... storing 'libraryident' as categorical\n",
      "... storing 'clusters' as categorical\n",
      "... storing 'pallial.area' as categorical\n"
     ]
    }
   ],
   "source": [
    "fn1 = \"projects/pallium_evo/data/expression/turtle_neurons.h5ad\" #processed data will be automatically saved to `/path/to/file/file1_pr.h5ad`\n",
    "fn2 = \"projects/pallium_evo/data/expression/lizard_neurons.h5ad\" #processed data will be automatically saved to `/path/to/file/file2_pr.h5ad`\n",
    "turtle_data.write(fn1)\n",
    "lizard_data.write(fn2)"
   ]
  },
  {
   "cell_type": "code",
   "execution_count": 21,
   "id": "44553494",
   "metadata": {},
   "outputs": [],
   "source": [
    "id1 = 'cp'\n",
    "id2 = 'pv'\n",
    "maps = \"/local1/USERS/tomasgomes/eggNOG/maps/\""
   ]
  },
  {
   "cell_type": "code",
   "execution_count": 22,
   "id": "46c53c76",
   "metadata": {},
   "outputs": [
    {
     "name": "stdout",
     "output_type": "stream",
     "text": [
      "Processing data 1 from:\n",
      "projects/pallium_evo/data/expression/turtle_neurons.h5ad\n"
     ]
    },
    {
     "name": "stderr",
     "output_type": "stream",
     "text": [
      "/home/tpires/bin/miniconda3/envs/SAMap/lib/python3.7/site-packages/anndata/_core/anndata.py:119: ImplicitModificationWarning: Transforming to str index.\n",
      "  warnings.warn(\"Transforming to str index.\", ImplicitModificationWarning)\n"
     ]
    },
    {
     "name": "stdout",
     "output_type": "stream",
     "text": [
      "RUNNING SAM\n",
      "Iteration: 0, Convergence: 1.0\n",
      "Iteration: 1, Convergence: 0.776599886931389\n",
      "Iteration: 2, Convergence: 0.0117993677365471\n",
      "Computing the UMAP embedding...\n",
      "Elapsed time: 38.024571657180786 seconds\n",
      "Preparing data 1 for SAMap.\n",
      "Not updating the manifold...\n",
      "Processing data 2 from:\n",
      "projects/pallium_evo/data/expression/lizard_neurons.h5ad\n"
     ]
    },
    {
     "name": "stderr",
     "output_type": "stream",
     "text": [
      "/home/tpires/bin/miniconda3/envs/SAMap/lib/python3.7/site-packages/anndata/_core/anndata.py:119: ImplicitModificationWarning: Transforming to str index.\n",
      "  warnings.warn(\"Transforming to str index.\", ImplicitModificationWarning)\n"
     ]
    },
    {
     "name": "stdout",
     "output_type": "stream",
     "text": [
      "RUNNING SAM\n",
      "Iteration: 0, Convergence: 1.0\n",
      "Iteration: 1, Convergence: 0.730702652198669\n",
      "Iteration: 2, Convergence: 0.021517006630152134\n",
      "Computing the UMAP embedding...\n",
      "Elapsed time: 10.643324851989746 seconds\n",
      "Preparing data 2 for SAMap.\n",
      "Not updating the manifold...\n",
      "0 `cp` genes and 0 `pv` gene symbols match between the datasets and the BLAST graph.\n"
     ]
    },
    {
     "ename": "ValueError",
     "evalue": "zero-size array to reduction operation",
     "output_type": "error",
     "traceback": [
      "\u001b[0;31m---------------------------------------------------------------------------\u001b[0m",
      "\u001b[0;31mValueError\u001b[0m                                Traceback (most recent call last)",
      "\u001b[0;32m<ipython-input-22-c37f3811efe1>\u001b[0m in \u001b[0;36m<module>\u001b[0;34m\u001b[0m\n\u001b[1;32m      1\u001b[0m \u001b[0;31m# runs SAMAP\u001b[0m\u001b[0;34m\u001b[0m\u001b[0;34m\u001b[0m\u001b[0;34m\u001b[0m\u001b[0m\n\u001b[1;32m      2\u001b[0m \u001b[0msm\u001b[0m \u001b[0;34m=\u001b[0m \u001b[0mSAMAP\u001b[0m\u001b[0;34m(\u001b[0m\u001b[0mfn1\u001b[0m\u001b[0;34m,\u001b[0m\u001b[0mfn2\u001b[0m\u001b[0;34m,\u001b[0m\u001b[0mid1\u001b[0m\u001b[0;34m,\u001b[0m\u001b[0mid2\u001b[0m\u001b[0;34m,\u001b[0m \u001b[0mf_maps\u001b[0m \u001b[0;34m=\u001b[0m \u001b[0mmaps\u001b[0m\u001b[0;34m)\u001b[0m\u001b[0;34m\u001b[0m\u001b[0;34m\u001b[0m\u001b[0m\n\u001b[0;32m----> 3\u001b[0;31m \u001b[0msamap\u001b[0m \u001b[0;34m=\u001b[0m \u001b[0msm\u001b[0m\u001b[0;34m.\u001b[0m\u001b[0mrun\u001b[0m\u001b[0;34m(\u001b[0m\u001b[0;34m)\u001b[0m\u001b[0;34m\u001b[0m\u001b[0;34m\u001b[0m\u001b[0m\n\u001b[0m",
      "\u001b[0;32m~/bin/miniconda3/envs/SAMap/lib/python3.7/site-packages/samap/mapping.py\u001b[0m in \u001b[0;36mrun\u001b[0;34m(self, NUMITERS, NH1, NH2, K, NOPs1, NOPs2, N_GENE_CHUNKS, USE_SEQ, ncpus)\u001b[0m\n\u001b[1;32m    328\u001b[0m             \u001b[0mK\u001b[0m\u001b[0;34m=\u001b[0m\u001b[0mK\u001b[0m\u001b[0;34m,\u001b[0m\u001b[0;34m\u001b[0m\u001b[0;34m\u001b[0m\u001b[0m\n\u001b[1;32m    329\u001b[0m             \u001b[0mNCLUSTERS\u001b[0m\u001b[0;34m=\u001b[0m\u001b[0mN_GENE_CHUNKS\u001b[0m\u001b[0;34m,\u001b[0m\u001b[0;34m\u001b[0m\u001b[0;34m\u001b[0m\u001b[0m\n\u001b[0;32m--> 330\u001b[0;31m             \u001b[0mncpus\u001b[0m\u001b[0;34m=\u001b[0m\u001b[0mncpus\u001b[0m\u001b[0;34m,\u001b[0m\u001b[0;34m\u001b[0m\u001b[0;34m\u001b[0m\u001b[0m\n\u001b[0m\u001b[1;32m    331\u001b[0m         )\n\u001b[1;32m    332\u001b[0m         \u001b[0msamap\u001b[0m \u001b[0;34m=\u001b[0m \u001b[0msmap\u001b[0m\u001b[0;34m.\u001b[0m\u001b[0mfinal_sam\u001b[0m\u001b[0;34m\u001b[0m\u001b[0;34m\u001b[0m\u001b[0m\n",
      "\u001b[0;32m~/bin/miniconda3/envs/SAMap/lib/python3.7/site-packages/samap/mapping.py\u001b[0m in \u001b[0;36mrun\u001b[0;34m(self, NUMITERS, NOPs1, NOPs2, NH1, NH2, K, NCLUSTERS, ncpus)\u001b[0m\n\u001b[1;32m    568\u001b[0m                 \u001b[0mself\u001b[0m\u001b[0;34m.\u001b[0m\u001b[0mgnnmu\u001b[0m \u001b[0;34m=\u001b[0m \u001b[0mgnnmu\u001b[0m\u001b[0;34m\u001b[0m\u001b[0;34m\u001b[0m\u001b[0m\n\u001b[1;32m    569\u001b[0m \u001b[0;34m\u001b[0m\u001b[0m\n\u001b[0;32m--> 570\u001b[0;31m             \u001b[0mgnnm2\u001b[0m \u001b[0;34m=\u001b[0m \u001b[0m_get_pairs\u001b[0m\u001b[0;34m(\u001b[0m\u001b[0msam1\u001b[0m\u001b[0;34m,\u001b[0m \u001b[0msam2\u001b[0m\u001b[0;34m,\u001b[0m \u001b[0mgnnmu\u001b[0m\u001b[0;34m,\u001b[0m \u001b[0mgn1\u001b[0m\u001b[0;34m,\u001b[0m \u001b[0mgn2\u001b[0m\u001b[0;34m,\u001b[0m \u001b[0mNOPs1\u001b[0m\u001b[0;34m=\u001b[0m\u001b[0mNOPs1\u001b[0m\u001b[0;34m,\u001b[0m \u001b[0mNOPs2\u001b[0m\u001b[0;34m=\u001b[0m\u001b[0mNOPs2\u001b[0m\u001b[0;34m)\u001b[0m\u001b[0;34m\u001b[0m\u001b[0;34m\u001b[0m\u001b[0m\n\u001b[0m\u001b[1;32m    571\u001b[0m             \u001b[0mself\u001b[0m\u001b[0;34m.\u001b[0m\u001b[0mGNNMS_pruned\u001b[0m\u001b[0;34m.\u001b[0m\u001b[0mappend\u001b[0m\u001b[0;34m(\u001b[0m\u001b[0mgnnm2\u001b[0m\u001b[0;34m)\u001b[0m\u001b[0;34m\u001b[0m\u001b[0;34m\u001b[0m\u001b[0m\n\u001b[1;32m    572\u001b[0m \u001b[0;34m\u001b[0m\u001b[0m\n",
      "\u001b[0;32m~/bin/miniconda3/envs/SAMap/lib/python3.7/site-packages/samap/mapping.py\u001b[0m in \u001b[0;36m_get_pairs\u001b[0;34m(sam1, sam2, gnnm, gn1, gn2, NOPs1, NOPs2)\u001b[0m\n\u001b[1;32m   1276\u001b[0m \u001b[0;32mdef\u001b[0m \u001b[0m_get_pairs\u001b[0m\u001b[0;34m(\u001b[0m\u001b[0msam1\u001b[0m\u001b[0;34m,\u001b[0m \u001b[0msam2\u001b[0m\u001b[0;34m,\u001b[0m \u001b[0mgnnm\u001b[0m\u001b[0;34m,\u001b[0m \u001b[0mgn1\u001b[0m\u001b[0;34m,\u001b[0m \u001b[0mgn2\u001b[0m\u001b[0;34m,\u001b[0m \u001b[0mNOPs1\u001b[0m\u001b[0;34m=\u001b[0m\u001b[0;36m2\u001b[0m\u001b[0;34m,\u001b[0m \u001b[0mNOPs2\u001b[0m\u001b[0;34m=\u001b[0m\u001b[0;36m5\u001b[0m\u001b[0;34m)\u001b[0m\u001b[0;34m:\u001b[0m\u001b[0;34m\u001b[0m\u001b[0;34m\u001b[0m\u001b[0m\n\u001b[1;32m   1277\u001b[0m     \u001b[0;31m# gnnm = filter_gnnm(gnnm)\u001b[0m\u001b[0;34m\u001b[0m\u001b[0;34m\u001b[0m\u001b[0;34m\u001b[0m\u001b[0m\n\u001b[0;32m-> 1278\u001b[0;31m     \u001b[0msu\u001b[0m \u001b[0;34m=\u001b[0m \u001b[0mgnnm\u001b[0m\u001b[0;34m.\u001b[0m\u001b[0mmax\u001b[0m\u001b[0;34m(\u001b[0m\u001b[0;36m1\u001b[0m\u001b[0;34m)\u001b[0m\u001b[0;34m.\u001b[0m\u001b[0mA\u001b[0m\u001b[0;34m\u001b[0m\u001b[0;34m\u001b[0m\u001b[0m\n\u001b[0m\u001b[1;32m   1279\u001b[0m     \u001b[0msu\u001b[0m\u001b[0;34m[\u001b[0m\u001b[0msu\u001b[0m \u001b[0;34m==\u001b[0m \u001b[0;36m0\u001b[0m\u001b[0;34m]\u001b[0m \u001b[0;34m=\u001b[0m \u001b[0;36m1\u001b[0m\u001b[0;34m\u001b[0m\u001b[0;34m\u001b[0m\u001b[0m\n\u001b[1;32m   1280\u001b[0m     \u001b[0mgnnm\u001b[0m \u001b[0;34m=\u001b[0m \u001b[0mgnnm\u001b[0m\u001b[0;34m.\u001b[0m\u001b[0mmultiply\u001b[0m\u001b[0;34m(\u001b[0m\u001b[0;36m1\u001b[0m \u001b[0;34m/\u001b[0m \u001b[0msu\u001b[0m\u001b[0;34m)\u001b[0m\u001b[0;34m.\u001b[0m\u001b[0mtocsr\u001b[0m\u001b[0;34m(\u001b[0m\u001b[0;34m)\u001b[0m\u001b[0;34m\u001b[0m\u001b[0;34m\u001b[0m\u001b[0m\n",
      "\u001b[0;32m~/bin/miniconda3/envs/SAMap/lib/python3.7/site-packages/scipy/sparse/data.py\u001b[0m in \u001b[0;36mmax\u001b[0;34m(self, axis, out)\u001b[0m\n\u001b[1;32m    317\u001b[0m \u001b[0;34m\u001b[0m\u001b[0m\n\u001b[1;32m    318\u001b[0m         \"\"\"\n\u001b[0;32m--> 319\u001b[0;31m         \u001b[0;32mreturn\u001b[0m \u001b[0mself\u001b[0m\u001b[0;34m.\u001b[0m\u001b[0m_min_or_max\u001b[0m\u001b[0;34m(\u001b[0m\u001b[0maxis\u001b[0m\u001b[0;34m,\u001b[0m \u001b[0mout\u001b[0m\u001b[0;34m,\u001b[0m \u001b[0mnp\u001b[0m\u001b[0;34m.\u001b[0m\u001b[0mmaximum\u001b[0m\u001b[0;34m)\u001b[0m\u001b[0;34m\u001b[0m\u001b[0;34m\u001b[0m\u001b[0m\n\u001b[0m\u001b[1;32m    320\u001b[0m \u001b[0;34m\u001b[0m\u001b[0m\n\u001b[1;32m    321\u001b[0m     \u001b[0;32mdef\u001b[0m \u001b[0mmin\u001b[0m\u001b[0;34m(\u001b[0m\u001b[0mself\u001b[0m\u001b[0;34m,\u001b[0m \u001b[0maxis\u001b[0m\u001b[0;34m=\u001b[0m\u001b[0;32mNone\u001b[0m\u001b[0;34m,\u001b[0m \u001b[0mout\u001b[0m\u001b[0;34m=\u001b[0m\u001b[0;32mNone\u001b[0m\u001b[0;34m)\u001b[0m\u001b[0;34m:\u001b[0m\u001b[0;34m\u001b[0m\u001b[0;34m\u001b[0m\u001b[0m\n",
      "\u001b[0;32m~/bin/miniconda3/envs/SAMap/lib/python3.7/site-packages/scipy/sparse/data.py\u001b[0m in \u001b[0;36m_min_or_max\u001b[0;34m(self, axis, out, min_or_max)\u001b[0m\n\u001b[1;32m    209\u001b[0m \u001b[0;34m\u001b[0m\u001b[0m\n\u001b[1;32m    210\u001b[0m         \u001b[0;32mif\u001b[0m \u001b[0;34m(\u001b[0m\u001b[0maxis\u001b[0m \u001b[0;34m==\u001b[0m \u001b[0;36m0\u001b[0m\u001b[0;34m)\u001b[0m \u001b[0;32mor\u001b[0m \u001b[0;34m(\u001b[0m\u001b[0maxis\u001b[0m \u001b[0;34m==\u001b[0m \u001b[0;36m1\u001b[0m\u001b[0;34m)\u001b[0m\u001b[0;34m:\u001b[0m\u001b[0;34m\u001b[0m\u001b[0;34m\u001b[0m\u001b[0m\n\u001b[0;32m--> 211\u001b[0;31m             \u001b[0;32mreturn\u001b[0m \u001b[0mself\u001b[0m\u001b[0;34m.\u001b[0m\u001b[0m_min_or_max_axis\u001b[0m\u001b[0;34m(\u001b[0m\u001b[0maxis\u001b[0m\u001b[0;34m,\u001b[0m \u001b[0mmin_or_max\u001b[0m\u001b[0;34m)\u001b[0m\u001b[0;34m\u001b[0m\u001b[0;34m\u001b[0m\u001b[0m\n\u001b[0m\u001b[1;32m    212\u001b[0m         \u001b[0;32melse\u001b[0m\u001b[0;34m:\u001b[0m\u001b[0;34m\u001b[0m\u001b[0;34m\u001b[0m\u001b[0m\n\u001b[1;32m    213\u001b[0m             \u001b[0;32mraise\u001b[0m \u001b[0mValueError\u001b[0m\u001b[0;34m(\u001b[0m\u001b[0;34m\"axis out of range\"\u001b[0m\u001b[0;34m)\u001b[0m\u001b[0;34m\u001b[0m\u001b[0;34m\u001b[0m\u001b[0m\n",
      "\u001b[0;32m~/bin/miniconda3/envs/SAMap/lib/python3.7/site-packages/scipy/sparse/data.py\u001b[0m in \u001b[0;36m_min_or_max_axis\u001b[0;34m(self, axis, min_or_max)\u001b[0m\n\u001b[1;32m    164\u001b[0m         \u001b[0mN\u001b[0m \u001b[0;34m=\u001b[0m \u001b[0mself\u001b[0m\u001b[0;34m.\u001b[0m\u001b[0mshape\u001b[0m\u001b[0;34m[\u001b[0m\u001b[0maxis\u001b[0m\u001b[0;34m]\u001b[0m\u001b[0;34m\u001b[0m\u001b[0;34m\u001b[0m\u001b[0m\n\u001b[1;32m    165\u001b[0m         \u001b[0;32mif\u001b[0m \u001b[0mN\u001b[0m \u001b[0;34m==\u001b[0m \u001b[0;36m0\u001b[0m\u001b[0;34m:\u001b[0m\u001b[0;34m\u001b[0m\u001b[0;34m\u001b[0m\u001b[0m\n\u001b[0;32m--> 166\u001b[0;31m             \u001b[0;32mraise\u001b[0m \u001b[0mValueError\u001b[0m\u001b[0;34m(\u001b[0m\u001b[0;34m\"zero-size array to reduction operation\"\u001b[0m\u001b[0;34m)\u001b[0m\u001b[0;34m\u001b[0m\u001b[0;34m\u001b[0m\u001b[0m\n\u001b[0m\u001b[1;32m    167\u001b[0m         \u001b[0mM\u001b[0m \u001b[0;34m=\u001b[0m \u001b[0mself\u001b[0m\u001b[0;34m.\u001b[0m\u001b[0mshape\u001b[0m\u001b[0;34m[\u001b[0m\u001b[0;36m1\u001b[0m \u001b[0;34m-\u001b[0m \u001b[0maxis\u001b[0m\u001b[0;34m]\u001b[0m\u001b[0;34m\u001b[0m\u001b[0;34m\u001b[0m\u001b[0m\n\u001b[1;32m    168\u001b[0m \u001b[0;34m\u001b[0m\u001b[0m\n",
      "\u001b[0;31mValueError\u001b[0m: zero-size array to reduction operation"
     ]
    }
   ],
   "source": [
    "# runs SAMAP \n",
    "sm = SAMAP(fn1,fn2,id1,id2, f_maps = maps)\n",
    "samap = sm.run()"
   ]
  },
  {
   "cell_type": "code",
   "execution_count": 27,
   "id": "e73fb7c0",
   "metadata": {},
   "outputs": [
    {
     "ename": "AttributeError",
     "evalue": "'SAMAP' object has no attribute 'samap'",
     "output_type": "error",
     "traceback": [
      "\u001b[0;31m---------------------------------------------------------------------------\u001b[0m",
      "\u001b[0;31mAttributeError\u001b[0m                            Traceback (most recent call last)",
      "\u001b[0;32m<ipython-input-27-a348ce683192>\u001b[0m in \u001b[0;36m<module>\u001b[0;34m\u001b[0m\n\u001b[1;32m      1\u001b[0m \u001b[0mA\u001b[0m \u001b[0;34m=\u001b[0m \u001b[0;34m\"/links/groups/treutlein/USERS/tomasgomes/projects/eggNOG/outputs/eggNOG/Cpicta\"\u001b[0m\u001b[0;34m\u001b[0m\u001b[0;34m\u001b[0m\u001b[0m\n\u001b[1;32m      2\u001b[0m \u001b[0mB\u001b[0m \u001b[0;34m=\u001b[0m \u001b[0;34m\"/links/groups/treutlein/USERS/tomasgomes/projects/eggNOG/outputs/eggNOG/Pvitticeps\"\u001b[0m\u001b[0;34m\u001b[0m\u001b[0;34m\u001b[0m\u001b[0m\n\u001b[0;32m----> 3\u001b[0;31m \u001b[0mortholog_pairs\u001b[0m \u001b[0;34m=\u001b[0m \u001b[0mconvert_eggnog_to_homologs\u001b[0m\u001b[0;34m(\u001b[0m\u001b[0msm\u001b[0m\u001b[0;34m,\u001b[0m \u001b[0mA\u001b[0m\u001b[0;34m,\u001b[0m \u001b[0mB\u001b[0m\u001b[0;34m,\u001b[0m \u001b[0mtaxon\u001b[0m\u001b[0;34m=\u001b[0m\u001b[0;36m7742\u001b[0m\u001b[0;34m)\u001b[0m\u001b[0;34m\u001b[0m\u001b[0;34m\u001b[0m\u001b[0m\n\u001b[0m",
      "\u001b[0;32m~/bin/miniconda3/envs/SAMap/lib/python3.7/site-packages/samap/analysis.py\u001b[0m in \u001b[0;36mconvert_eggnog_to_homologs\u001b[0;34m(sm, A, B, taxon)\u001b[0m\n\u001b[1;32m    897\u001b[0m     \u001b[0mhomolog_pairs\u001b[0m\u001b[0;34m:\u001b[0m \u001b[0mn\u001b[0m \u001b[0mx\u001b[0m \u001b[0;36m2\u001b[0m \u001b[0mnumpy\u001b[0m \u001b[0marray\u001b[0m \u001b[0mof\u001b[0m \u001b[0mhomolog\u001b[0m \u001b[0mpairs\u001b[0m\u001b[0;34m.\u001b[0m\u001b[0;34m\u001b[0m\u001b[0;34m\u001b[0m\u001b[0m\n\u001b[1;32m    898\u001b[0m     \"\"\"\n\u001b[0;32m--> 899\u001b[0;31m     \u001b[0msmp\u001b[0m \u001b[0;34m=\u001b[0m \u001b[0msm\u001b[0m\u001b[0;34m.\u001b[0m\u001b[0msamap\u001b[0m\u001b[0;34m\u001b[0m\u001b[0;34m\u001b[0m\u001b[0m\n\u001b[0m\u001b[1;32m    900\u001b[0m \u001b[0;34m\u001b[0m\u001b[0m\n\u001b[1;32m    901\u001b[0m     \u001b[0mtaxon\u001b[0m \u001b[0;34m=\u001b[0m \u001b[0mstr\u001b[0m\u001b[0;34m(\u001b[0m\u001b[0mtaxon\u001b[0m\u001b[0;34m)\u001b[0m\u001b[0;34m\u001b[0m\u001b[0;34m\u001b[0m\u001b[0m\n",
      "\u001b[0;31mAttributeError\u001b[0m: 'SAMAP' object has no attribute 'samap'"
     ]
    }
   ],
   "source": [
    "A = \"/links/groups/treutlein/USERS/tomasgomes/projects/eggNOG/outputs/eggNOG/Cpicta\"\n",
    "B = \"/links/groups/treutlein/USERS/tomasgomes/projects/eggNOG/outputs/eggNOG/Pvitticeps\"\n",
    "ortholog_pairs = convert_eggnog_to_homologs(sm, A, B, taxon=7742)"
   ]
  },
  {
   "cell_type": "code",
   "execution_count": 26,
   "id": "af566a0e",
   "metadata": {},
   "outputs": [],
   "source": []
  },
  {
   "cell_type": "code",
   "execution_count": null,
   "id": "4704f8a0",
   "metadata": {},
   "outputs": [],
   "source": []
  }
 ],
 "metadata": {
  "kernelspec": {
   "display_name": "Python 3",
   "language": "python",
   "name": "python3"
  },
  "language_info": {
   "codemirror_mode": {
    "name": "ipython",
    "version": 3
   },
   "file_extension": ".py",
   "mimetype": "text/x-python",
   "name": "python",
   "nbconvert_exporter": "python",
   "pygments_lexer": "ipython3",
   "version": "3.7.10"
  }
 },
 "nbformat": 4,
 "nbformat_minor": 5
}
