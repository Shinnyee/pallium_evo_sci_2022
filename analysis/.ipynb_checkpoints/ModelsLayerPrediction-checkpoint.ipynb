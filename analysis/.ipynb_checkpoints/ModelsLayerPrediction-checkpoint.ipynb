{
 "cells": [
  {
   "cell_type": "code",
   "execution_count": null,
   "id": "328fbdbf-2dab-49bf-8fbb-9850123ee2de",
   "metadata": {},
   "outputs": [],
   "source": []
  },
  {
   "cell_type": "code",
   "execution_count": null,
   "id": "b4e513a9-7df5-4bee-87f0-0288d9407041",
   "metadata": {},
   "outputs": [],
   "source": []
  },
  {
   "cell_type": "code",
   "execution_count": 56,
   "id": "eeac32bf-55c7-4954-b9a2-e5521d48333d",
   "metadata": {},
   "outputs": [],
   "source": [
    "# data management\n",
    "import pandas as pd\n",
    "from scipy.io import mmread\n",
    "import scanpy as sc\n",
    "import pickle\n",
    "import numpy as np\n",
    "\n",
    "# scaler\n",
    "from sklearn.preprocessing import StandardScaler\n",
    "\n",
    "# models\n",
    "from sklearn.linear_model import LogisticRegression\n",
    "from sklearn.ensemble import RandomForestClassifier\n",
    "from sklearn.svm import LinearSVC\n",
    "\n",
    "# addition to models\n",
    "from sklearn.multioutput import MultiOutputClassifier\n",
    "from sklearn.calibration import CalibratedClassifierCV\n",
    "from sklearn.multiclass import OneVsOneClassifier\n",
    "from sklearn.multioutput import ClassifierChain\n",
    "\n",
    "# data splitting\n",
    "from sklearn.model_selection import train_test_split\n",
    "\n",
    "# scoring\n",
    "from sklearn.metrics import f1_score\n",
    "from sklearn.metrics import precision_recall_fscore_support\n",
    "\n",
    "# time execution\n",
    "import time\n",
    "\n",
    "ncores = 32"
   ]
  },
  {
   "cell_type": "markdown",
   "id": "18d8efb6-092f-455f-b447-d264d3869c8b",
   "metadata": {},
   "source": [
    "Read in data"
   ]
  },
  {
   "cell_type": "code",
   "execution_count": 6,
   "id": "fb0266c3-fc7a-4c7a-b667-3c9fca389e9e",
   "metadata": {},
   "outputs": [],
   "source": [
    "exp_human = mmread(\"../data/expression/indiv_human/human10x_SCTdata.mtx\").tocsr().transpose()\n",
    "meta_human = pd.read_csv(\"../data/expression/indiv_human/human10x_metadata_layers.csv\", index_col = 0).iloc[:,4:11]"
   ]
  },
  {
   "cell_type": "markdown",
   "id": "bb3669d5-15f6-461a-8b57-dddcf55e4d63",
   "metadata": {},
   "source": [
    "Split data into train and test fractions"
   ]
  },
  {
   "cell_type": "code",
   "execution_count": 10,
   "id": "d2892d16-fb22-42d2-ab02-eae1ea16c6a0",
   "metadata": {},
   "outputs": [],
   "source": [
    "X_train, X_test, y_train, y_test = train_test_split(exp_human, meta_human.iloc[:,1:], \n",
    "                                                    test_size=0.2, random_state=42, stratify = meta_human[\"layer\"].values)"
   ]
  },
  {
   "cell_type": "markdown",
   "id": "79c303a9-839d-422c-a3ce-73c612c31114",
   "metadata": {},
   "source": [
    "Scale data (based on training data)"
   ]
  },
  {
   "cell_type": "code",
   "execution_count": 8,
   "id": "db2a2582-d818-4432-a2f5-456a04ead1a0",
   "metadata": {},
   "outputs": [],
   "source": [
    "scaler = StandardScaler(with_mean = False)\n",
    "scaler.fit(X_train)\n",
    "\n",
    "# scale\n",
    "X_train_sc = scaler.transform(X_train)\n",
    "X_test_sc = scaler.transform(X_test)"
   ]
  },
  {
   "cell_type": "markdown",
   "id": "586c2f4e-168d-47f4-a649-723db600aa56",
   "metadata": {},
   "source": [
    "Create classifier"
   ]
  },
  {
   "cell_type": "code",
   "execution_count": 12,
   "id": "191e786a-f226-4d19-bd45-7f5288874592",
   "metadata": {},
   "outputs": [],
   "source": [
    "rfc = RandomForestClassifier(random_state = 1, n_estimators = 300, n_jobs = ncores)"
   ]
  },
  {
   "cell_type": "markdown",
   "id": "ddd4e5b5-93ac-4f48-b208-05759083085e",
   "metadata": {},
   "source": [
    "Train classifier"
   ]
  },
  {
   "cell_type": "code",
   "execution_count": 18,
   "id": "3ca6f268-7e43-4023-93e8-d88e7b51dd76",
   "metadata": {},
   "outputs": [
    {
     "name": "stdout",
     "output_type": "stream",
     "text": [
      "RF 1vRest: 3253.6 seconds\n"
     ]
    }
   ],
   "source": [
    "start_time = time.time()\n",
    "cal_rfc = MultiOutputClassifier(CalibratedClassifierCV(rfc, method=\"sigmoid\", cv=5, n_jobs = ncores), n_jobs = ncores)\n",
    "cal_rfc.fit(X_train_sc, y_train)\n",
    "print(\"RF 1vRest: %s seconds\" % (round(time.time() - start_time, 2)))\n",
    "with open(\"../results/cross_sp_predictions/cal_rfc_human_layersMulti_model.pkl\", \"wb\") as f:\n",
    "    pickle.dump(cal_rfc, file=f)"
   ]
  },
  {
   "cell_type": "markdown",
   "id": "5d9070ad-c0ed-4285-b01e-63561a9f2757",
   "metadata": {},
   "source": [
    "Use models to predict the test data"
   ]
  },
  {
   "cell_type": "code",
   "execution_count": 19,
   "id": "577a9d3e-78f3-4632-bb0f-912c2dea99c0",
   "metadata": {},
   "outputs": [
    {
     "name": "stdout",
     "output_type": "stream",
     "text": [
      "RF 1vRest: 81.18 seconds\n"
     ]
    }
   ],
   "source": [
    "start_time = time.time()\n",
    "pred_rfc = cal_rfc.predict(X_test_sc)\n",
    "print(\"RF 1vRest: %s seconds\" % (round(time.time() - start_time, 2)))"
   ]
  },
  {
   "cell_type": "markdown",
   "id": "1a050f92-4af4-45de-b746-9e2baa20ae8b",
   "metadata": {},
   "source": [
    "Get F1 score for predictions"
   ]
  },
  {
   "cell_type": "code",
   "execution_count": 20,
   "id": "0a337416-3cda-41ee-96ed-3ab225f81dbd",
   "metadata": {
    "tags": []
   },
   "outputs": [
    {
     "data": {
      "text/plain": [
       "0.9380289633746748"
      ]
     },
     "execution_count": 20,
     "metadata": {},
     "output_type": "execute_result"
    }
   ],
   "source": [
    "f1_rfc = f1_score(y_test, pred_rfc, average = \"macro\")\n",
    "f1_rfc"
   ]
  },
  {
   "cell_type": "code",
   "execution_count": 21,
   "id": "dab92f0e-aff3-4036-9195-bad6e419a2fd",
   "metadata": {},
   "outputs": [],
   "source": [
    "all_rfc = precision_recall_fscore_support(y_test, pred_rfc, zero_division = 0)"
   ]
  },
  {
   "cell_type": "markdown",
   "id": "09a90d70-ff77-4fdb-a603-4c7de6be671b",
   "metadata": {},
   "source": [
    "Get probabilities"
   ]
  },
  {
   "cell_type": "code",
   "execution_count": 28,
   "id": "39085fbb-402e-4d26-b78e-47edf42f03c9",
   "metadata": {},
   "outputs": [
    {
     "name": "stdout",
     "output_type": "stream",
     "text": [
      "RF 1vRest: 114.46 seconds\n"
     ]
    }
   ],
   "source": [
    "start_time = time.time()\n",
    "proba_rfc = cal_rfc.predict_proba(X_test_sc)\n",
    "print(\"RF 1vRest: %s seconds\" % (round(time.time() - start_time, 2)))"
   ]
  },
  {
   "cell_type": "code",
   "execution_count": null,
   "id": "ad87060f-6f56-43fd-95bc-a1996b5cb2d5",
   "metadata": {},
   "outputs": [],
   "source": []
  },
  {
   "cell_type": "markdown",
   "id": "36248999-cec7-4cf5-ad2e-0dcefae3b8f2",
   "metadata": {},
   "source": [
    "## Try chained models"
   ]
  },
  {
   "cell_type": "markdown",
   "id": "31d96995-12a6-4e1b-9b8c-119acb61a353",
   "metadata": {},
   "source": [
    "Setup base model"
   ]
  },
  {
   "cell_type": "code",
   "execution_count": 43,
   "id": "7d93ce51-9699-4ff7-9e8b-57455756e8c2",
   "metadata": {},
   "outputs": [],
   "source": [
    "cal_rfc_chain = CalibratedClassifierCV(rfc, method=\"sigmoid\", cv=5, n_jobs = ncores)"
   ]
  },
  {
   "cell_type": "markdown",
   "id": "756c2da6-ca1f-44fb-9a00-7705f8c7a2e3",
   "metadata": {},
   "source": [
    "Try random chains"
   ]
  },
  {
   "cell_type": "code",
   "execution_count": 45,
   "id": "a9208634-e9b1-45e6-a514-1e5f73040f9a",
   "metadata": {},
   "outputs": [
    {
     "name": "stdout",
     "output_type": "stream",
     "text": [
      "a\n",
      "a\n",
      "a\n",
      "a\n",
      "a\n"
     ]
    },
    {
     "name": "stderr",
     "output_type": "stream",
     "text": [
      "/home/tpires/bin/miniconda3/envs/scgen-env/lib/python3.9/site-packages/joblib/externals/loky/process_executor.py:688: UserWarning: A worker stopped while some jobs were given to the executor. This can be caused by a too short worker timeout or by a memory leak.\n",
      "  warnings.warn(\n",
      "/home/tpires/bin/miniconda3/envs/scgen-env/lib/python3.9/site-packages/joblib/externals/loky/process_executor.py:688: UserWarning: A worker stopped while some jobs were given to the executor. This can be caused by a too short worker timeout or by a memory leak.\n",
      "  warnings.warn(\n"
     ]
    },
    {
     "name": "stdout",
     "output_type": "stream",
     "text": [
      "a\n"
     ]
    },
    {
     "name": "stderr",
     "output_type": "stream",
     "text": [
      "/home/tpires/bin/miniconda3/envs/scgen-env/lib/python3.9/site-packages/joblib/externals/loky/process_executor.py:688: UserWarning: A worker stopped while some jobs were given to the executor. This can be caused by a too short worker timeout or by a memory leak.\n",
      "  warnings.warn(\n",
      "/home/tpires/bin/miniconda3/envs/scgen-env/lib/python3.9/site-packages/joblib/externals/loky/process_executor.py:688: UserWarning: A worker stopped while some jobs were given to the executor. This can be caused by a too short worker timeout or by a memory leak.\n",
      "  warnings.warn(\n"
     ]
    },
    {
     "name": "stdout",
     "output_type": "stream",
     "text": [
      "a\n",
      "a\n",
      "a\n"
     ]
    },
    {
     "name": "stderr",
     "output_type": "stream",
     "text": [
      "/home/tpires/bin/miniconda3/envs/scgen-env/lib/python3.9/site-packages/joblib/externals/loky/process_executor.py:688: UserWarning: A worker stopped while some jobs were given to the executor. This can be caused by a too short worker timeout or by a memory leak.\n",
      "  warnings.warn(\n"
     ]
    },
    {
     "name": "stdout",
     "output_type": "stream",
     "text": [
      "a\n",
      "10 random chains: 13189.93 seconds\n"
     ]
    }
   ],
   "source": [
    "start_time = time.time()\n",
    "chains = [ClassifierChain(cal_rfc_chain, order='random', random_state=i)\n",
    "          for i in range(10)]\n",
    "for chain in chains:\n",
    "    chain.fit(X_train_sc, y_train)\n",
    "print(\"10 random chains: %s seconds\" % (round(time.time() - start_time, 2)))"
   ]
  },
  {
   "cell_type": "markdown",
   "id": "3d7fe8d2-5f9a-4b28-86fa-2de2483c0441",
   "metadata": {},
   "source": [
    "Try two more chains: L1-L6 and L6-L1"
   ]
  },
  {
   "cell_type": "code",
   "execution_count": 46,
   "id": "2a5e505b-00aa-41c3-94c5-a20ca0e7bc7f",
   "metadata": {},
   "outputs": [
    {
     "name": "stdout",
     "output_type": "stream",
     "text": [
      "a\n"
     ]
    },
    {
     "name": "stderr",
     "output_type": "stream",
     "text": [
      "/home/tpires/bin/miniconda3/envs/scgen-env/lib/python3.9/site-packages/joblib/externals/loky/process_executor.py:688: UserWarning: A worker stopped while some jobs were given to the executor. This can be caused by a too short worker timeout or by a memory leak.\n",
      "  warnings.warn(\n"
     ]
    },
    {
     "name": "stdout",
     "output_type": "stream",
     "text": [
      "a\n"
     ]
    },
    {
     "name": "stderr",
     "output_type": "stream",
     "text": [
      "/home/tpires/bin/miniconda3/envs/scgen-env/lib/python3.9/site-packages/joblib/externals/loky/process_executor.py:688: UserWarning: A worker stopped while some jobs were given to the executor. This can be caused by a too short worker timeout or by a memory leak.\n",
      "  warnings.warn(\n"
     ]
    },
    {
     "name": "stdout",
     "output_type": "stream",
     "text": [
      "2 ordered chains: 2925.81 seconds\n"
     ]
    }
   ],
   "source": [
    "start_time = time.time()\n",
    "chains_ord = [ClassifierChain(cal_rfc_chain, order=[0,1,2,3,4,5], random_state=1),\n",
    "              ClassifierChain(cal_rfc_chain, order=[5,4,3,2,1,0], random_state=1)]\n",
    "for chain in chains_ord:\n",
    "    chain.fit(X_train_sc, y_train)\n",
    "print(\"2 ordered chains: %s seconds\" % (round(time.time() - start_time, 2)))"
   ]
  },
  {
   "cell_type": "markdown",
   "id": "e24870ac-c75c-4671-b999-d7eb6d03088c",
   "metadata": {},
   "source": [
    "Join both lists"
   ]
  },
  {
   "cell_type": "code",
   "execution_count": 51,
   "id": "d1287de4-8352-43e3-9d31-c5f3ded2f11b",
   "metadata": {},
   "outputs": [],
   "source": [
    "chains.extend(chains_ord)"
   ]
  },
  {
   "cell_type": "markdown",
   "id": "c1b4fe23-aafb-42e1-978d-b03459d1f8b5",
   "metadata": {},
   "source": [
    "Test models"
   ]
  },
  {
   "cell_type": "code",
   "execution_count": 53,
   "id": "07655261-0307-4514-8b89-9a43d4225557",
   "metadata": {},
   "outputs": [],
   "source": [
    "preds_l = []\n",
    "proba_l = []\n",
    "for chain in chains:\n",
    "    preds_l.append(chain.predict(X_test_sc))\n",
    "    proba_l.append(chain.predict(X_test_sc))"
   ]
  },
  {
   "cell_type": "code",
   "execution_count": 54,
   "id": "5653f048-e4e3-4bb1-a858-b20f2d15bc15",
   "metadata": {},
   "outputs": [
    {
     "name": "stdout",
     "output_type": "stream",
     "text": [
      "[0.9380191579836086, 0.9382388595291444, 0.9386338428719577, 0.939394041261254, 0.9386636148561704, 0.9381346289955567, 0.9387063271736391, 0.93889462868579, 0.9378003619419877, 0.9387150989096473, 0.9388738623455158, 0.9386688545346414]\n"
     ]
    }
   ],
   "source": [
    "f1_list = []\n",
    "for preds in preds_l:\n",
    "    f1_list.append(f1_score(y_test, preds, average = \"macro\"))\n",
    "print(f1_list)"
   ]
  },
  {
   "cell_type": "code",
   "execution_count": 62,
   "id": "32b3a58e-0010-4cd5-81d4-3153113e2120",
   "metadata": {},
   "outputs": [
    {
     "data": {
      "text/plain": [
       "0.9387704469691833"
      ]
     },
     "execution_count": 62,
     "metadata": {},
     "output_type": "execute_result"
    }
   ],
   "source": [
    "y_pred_chains = np.array(preds_l)\n",
    "y_pred_ensemble = y_pred_chains.mean(axis=0) >= .5\n",
    "f1_score(y_test, y_pred_ensemble, average = \"macro\")"
   ]
  },
  {
   "cell_type": "code",
   "execution_count": 67,
   "id": "48971a31-94c1-4754-9659-b63a20cdb775",
   "metadata": {},
   "outputs": [
    {
     "name": "stdout",
     "output_type": "stream",
     "text": [
      "[0.93457509 0.94713807 0.94131171 0.90797141 0.95870881 0.93840985]\n",
      "[0.93553642 0.94777854 0.94245912 0.90670171 0.95686064 0.94009674]\n",
      "[0.93566434 0.94752685 0.94432639 0.90584737 0.95629958 0.94213852]\n",
      "[0.93813953 0.94856753 0.94470046 0.90848659 0.957517   0.93895313]\n",
      "[0.93553642 0.94853242 0.94432665 0.90713265 0.95629958 0.94015396]\n",
      "[0.93594223 0.94800847 0.94131171 0.90807617 0.95705934 0.93840985]\n",
      "[0.93671475 0.94877566 0.94486185 0.90543215 0.95629958 0.94015396]\n",
      "[0.9360911  0.94817344 0.943936   0.90848659 0.95772752 0.93895313]\n",
      "[0.93507098 0.94831123 0.94178165 0.90614745 0.95614212 0.93934874]\n",
      "[0.93619003 0.94753403 0.94202372 0.90981082 0.95832213 0.93840985]\n",
      "[0.93507098 0.94771421 0.9427238  0.90861044 0.95828287 0.94084088]\n",
      "[0.93777674 0.94905326 0.94377802 0.90633911 0.95665614 0.93840985]\n",
      "[0.93633829 0.94867595 0.94371142 0.90733633 0.95706511 0.93949559]\n"
     ]
    }
   ],
   "source": [
    "for preds in preds_l:\n",
    "    print(precision_recall_fscore_support(y_test, preds, zero_division = 0)[2])\n",
    "print(precision_recall_fscore_support(y_test, y_pred_ensemble, zero_division = 0)[2])"
   ]
  },
  {
   "cell_type": "code",
   "execution_count": null,
   "id": "01c7e7d6-7158-4bce-a7f2-f1f2240fb433",
   "metadata": {},
   "outputs": [],
   "source": []
  },
  {
   "cell_type": "code",
   "execution_count": null,
   "id": "75728a23-4d44-474a-9a98-5f08c26256c8",
   "metadata": {},
   "outputs": [],
   "source": []
  }
 ],
 "metadata": {
  "kernelspec": {
   "display_name": "Python 3",
   "language": "python",
   "name": "python3"
  },
  "language_info": {
   "codemirror_mode": {
    "name": "ipython",
    "version": 3
   },
   "file_extension": ".py",
   "mimetype": "text/x-python",
   "name": "python",
   "nbconvert_exporter": "python",
   "pygments_lexer": "ipython3",
   "version": "3.9.2"
  }
 },
 "nbformat": 4,
 "nbformat_minor": 5
}
