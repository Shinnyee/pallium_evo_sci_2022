{
 "cells": [
  {
   "cell_type": "markdown",
   "id": "c536848e-04e7-4760-b32f-d256f487bdbc",
   "metadata": {},
   "source": [
    "# Cortical layer prediction  \n",
    "Training models to predict cortical layers. This is based on actual section (human SS data) or information on the cell type labels (all datasets)"
   ]
  },
  {
   "cell_type": "markdown",
   "id": "1a36f25d-220f-401d-a0c6-cc69e9a7e0ae",
   "metadata": {},
   "source": [
    "Load useful libraries"
   ]
  },
  {
   "cell_type": "code",
   "execution_count": 2,
   "id": "eeac32bf-55c7-4954-b9a2-e5521d48333d",
   "metadata": {},
   "outputs": [],
   "source": [
    "# data management\n",
    "import pandas as pd\n",
    "from scipy.io import mmread\n",
    "import scanpy as sc\n",
    "import pickle\n",
    "import numpy as np\n",
    "\n",
    "# scaler\n",
    "from sklearn.preprocessing import StandardScaler\n",
    "\n",
    "# models\n",
    "from sklearn.linear_model import LogisticRegression\n",
    "from sklearn.ensemble import RandomForestClassifier\n",
    "from sklearn.svm import LinearSVC\n",
    "\n",
    "# addition to models\n",
    "from sklearn.multioutput import MultiOutputClassifier\n",
    "from sklearn.calibration import CalibratedClassifierCV\n",
    "from sklearn.multiclass import OneVsOneClassifier\n",
    "from sklearn.multioutput import ClassifierChain\n",
    "\n",
    "# data splitting\n",
    "from sklearn.model_selection import train_test_split\n",
    "\n",
    "# scoring\n",
    "from sklearn.metrics import f1_score\n",
    "from sklearn.metrics import precision_recall_fscore_support\n",
    "\n",
    "# time execution\n",
    "import time\n",
    "\n",
    "ncores = 32"
   ]
  },
  {
   "cell_type": "markdown",
   "id": "1c32b102-470c-4ae6-98ad-51e9900cb55b",
   "metadata": {},
   "source": [
    "## Human 10x"
   ]
  },
  {
   "cell_type": "markdown",
   "id": "18d8efb6-092f-455f-b447-d264d3869c8b",
   "metadata": {},
   "source": [
    "Read in data"
   ]
  },
  {
   "cell_type": "code",
   "execution_count": 39,
   "id": "fb0266c3-fc7a-4c7a-b667-3c9fca389e9e",
   "metadata": {},
   "outputs": [],
   "source": [
    "exp_human = mmread(\"../data/expression/indiv_human/human10x_SCTdata.mtx\").tocsr().transpose()\n",
    "meta_human = pd.read_csv(\"../data/expression/indiv_human/human10x_metadata_layers.csv\", index_col = 0).iloc[:,4:11]"
   ]
  },
  {
   "cell_type": "markdown",
   "id": "bb3669d5-15f6-461a-8b57-dddcf55e4d63",
   "metadata": {},
   "source": [
    "Split data into train and test fractions"
   ]
  },
  {
   "cell_type": "code",
   "execution_count": 40,
   "id": "d2892d16-fb22-42d2-ab02-eae1ea16c6a0",
   "metadata": {},
   "outputs": [],
   "source": [
    "X_train, X_test, y_train, y_test = train_test_split(exp_human, meta_human.iloc[:,1:], \n",
    "                                                    test_size=0.2, random_state=42, stratify = meta_human[\"layer\"].values)"
   ]
  },
  {
   "cell_type": "markdown",
   "id": "79c303a9-839d-422c-a3ce-73c612c31114",
   "metadata": {},
   "source": [
    "Scale data (based on training data)"
   ]
  },
  {
   "cell_type": "code",
   "execution_count": 41,
   "id": "db2a2582-d818-4432-a2f5-456a04ead1a0",
   "metadata": {},
   "outputs": [],
   "source": [
    "scaler = StandardScaler(with_mean = False)\n",
    "scaler.fit(X_train)\n",
    "\n",
    "# scale\n",
    "X_train_sc = scaler.transform(X_train)\n",
    "X_test_sc = scaler.transform(X_test)"
   ]
  },
  {
   "cell_type": "markdown",
   "id": "586c2f4e-168d-47f4-a649-723db600aa56",
   "metadata": {},
   "source": [
    "Create classifier"
   ]
  },
  {
   "cell_type": "code",
   "execution_count": 5,
   "id": "191e786a-f226-4d19-bd45-7f5288874592",
   "metadata": {},
   "outputs": [],
   "source": [
    "rfc = RandomForestClassifier(random_state = 1, n_estimators = 300, n_jobs = ncores)"
   ]
  },
  {
   "cell_type": "markdown",
   "id": "ddd4e5b5-93ac-4f48-b208-05759083085e",
   "metadata": {},
   "source": [
    "Train classifier"
   ]
  },
  {
   "cell_type": "code",
   "execution_count": 6,
   "id": "3ca6f268-7e43-4023-93e8-d88e7b51dd76",
   "metadata": {},
   "outputs": [
    {
     "name": "stdout",
     "output_type": "stream",
     "text": [
      "RF 1vRest: 3060.78 seconds\n"
     ]
    }
   ],
   "source": [
    "start_time = time.time()\n",
    "cal_rfc = MultiOutputClassifier(CalibratedClassifierCV(rfc, method=\"sigmoid\", cv=5, n_jobs = ncores), n_jobs = ncores)\n",
    "cal_rfc.fit(X_train_sc, y_train)\n",
    "print(\"RF 1vRest: %s seconds\" % (round(time.time() - start_time, 2)))\n",
    "with open(\"../results/cross_sp_predictions/cal_rfc_human_layersMulti_model.pkl\", \"wb\") as f:\n",
    "    pickle.dump(cal_rfc, file=f)"
   ]
  },
  {
   "cell_type": "markdown",
   "id": "5d9070ad-c0ed-4285-b01e-63561a9f2757",
   "metadata": {},
   "source": [
    "Use models to predict the test data"
   ]
  },
  {
   "cell_type": "code",
   "execution_count": 7,
   "id": "577a9d3e-78f3-4632-bb0f-912c2dea99c0",
   "metadata": {},
   "outputs": [
    {
     "name": "stdout",
     "output_type": "stream",
     "text": [
      "RF 1vRest: 93.33 seconds\n"
     ]
    }
   ],
   "source": [
    "start_time = time.time()\n",
    "pred_rfc = cal_rfc.predict(X_test_sc)\n",
    "print(\"RF 1vRest: %s seconds\" % (round(time.time() - start_time, 2)))"
   ]
  },
  {
   "cell_type": "markdown",
   "id": "1a050f92-4af4-45de-b746-9e2baa20ae8b",
   "metadata": {},
   "source": [
    "Get F1 score for predictions"
   ]
  },
  {
   "cell_type": "code",
   "execution_count": 8,
   "id": "0a337416-3cda-41ee-96ed-3ab225f81dbd",
   "metadata": {
    "tags": []
   },
   "outputs": [
    {
     "data": {
      "text/plain": [
       "0.9380289633746748"
      ]
     },
     "execution_count": 8,
     "metadata": {},
     "output_type": "execute_result"
    }
   ],
   "source": [
    "f1_rfc = f1_score(y_test, pred_rfc, average = \"macro\")\n",
    "f1_rfc"
   ]
  },
  {
   "cell_type": "code",
   "execution_count": 9,
   "id": "dab92f0e-aff3-4036-9195-bad6e419a2fd",
   "metadata": {},
   "outputs": [],
   "source": [
    "all_rfc = precision_recall_fscore_support(y_test, pred_rfc, zero_division = 0)"
   ]
  },
  {
   "cell_type": "markdown",
   "id": "09a90d70-ff77-4fdb-a603-4c7de6be671b",
   "metadata": {},
   "source": [
    "Get probabilities"
   ]
  },
  {
   "cell_type": "code",
   "execution_count": 10,
   "id": "39085fbb-402e-4d26-b78e-47edf42f03c9",
   "metadata": {},
   "outputs": [
    {
     "name": "stdout",
     "output_type": "stream",
     "text": [
      "RF 1vRest: 118.39 seconds\n"
     ]
    }
   ],
   "source": [
    "start_time = time.time()\n",
    "proba_rfc = cal_rfc.predict_proba(X_test_sc)\n",
    "print(\"RF 1vRest: %s seconds\" % (round(time.time() - start_time, 2)))"
   ]
  },
  {
   "cell_type": "code",
   "execution_count": null,
   "id": "b296ce7b-832c-4725-a6dd-30bfb9863259",
   "metadata": {},
   "outputs": [],
   "source": []
  },
  {
   "cell_type": "code",
   "execution_count": 3,
   "id": "34bf6d51-5b0d-4b91-83f8-0a099398c3d8",
   "metadata": {},
   "outputs": [],
   "source": [
    "with open(\"../results/cross_sp_predictions/cal_rfc_human_layersMulti_model.pkl\", \"rb\") as f:\n",
    "    cal_rfc = pickle.load(f)"
   ]
  },
  {
   "cell_type": "code",
   "execution_count": 10,
   "id": "5a32b783-8b57-4aec-9fb6-2818cfe559e3",
   "metadata": {},
   "outputs": [],
   "source": [
    "with open(\"../results/cross_sp_predictions/cal_lr_human_model.pkl\", \"rb\") as f:\n",
    "    cal_lr = pickle.load(f)"
   ]
  },
  {
   "cell_type": "code",
   "execution_count": 42,
   "id": "5db2c81b-f94d-41ea-b9e6-cd5e959df5c2",
   "metadata": {},
   "outputs": [],
   "source": [
    "proba_rfc = cal_rfc.predict_proba(X_test_sc)"
   ]
  },
  {
   "cell_type": "code",
   "execution_count": 52,
   "id": "1f66daa3-4539-4298-ae17-0ef6b8290e1a",
   "metadata": {},
   "outputs": [
    {
     "data": {
      "text/plain": [
       "array([9.14055339e-07, 0.00000000e+00, 1.20497052e-06, ...,\n",
       "       3.22673511e-05, 6.87246292e-06, 4.65000386e-05])"
      ]
     },
     "execution_count": 52,
     "metadata": {},
     "output_type": "execute_result"
    }
   ],
   "source": [
    "cal_rfc.estimators_[0].calibrated_classifiers_[0].base_estimator.feature_importances_"
   ]
  },
  {
   "cell_type": "code",
   "execution_count": null,
   "id": "76a41944-53e6-4455-8499-07e6cf0a7400",
   "metadata": {},
   "outputs": [],
   "source": []
  },
  {
   "cell_type": "code",
   "execution_count": null,
   "id": "3ad798e1-a66d-492a-8ad5-c917d84215ad",
   "metadata": {},
   "outputs": [],
   "source": []
  },
  {
   "cell_type": "code",
   "execution_count": null,
   "id": "89102d96-5c43-40de-9b06-9e0c1bad08c9",
   "metadata": {},
   "outputs": [],
   "source": []
  },
  {
   "cell_type": "markdown",
   "id": "5bdaf027-390f-461f-a92c-f39666aac763",
   "metadata": {},
   "source": [
    "## Human SS"
   ]
  },
  {
   "cell_type": "markdown",
   "id": "bb980e9f-6829-460a-bf8c-41d5b3902922",
   "metadata": {},
   "source": [
    "Read in data"
   ]
  },
  {
   "cell_type": "code",
   "execution_count": 13,
   "id": "0229086d-6208-4c95-8799-b3adaed79ad1",
   "metadata": {},
   "outputs": [],
   "source": [
    "exp_human_SS = mmread(\"../data/expression/indiv_human/humanSS_SCTdata.mtx\").tocsr().transpose()\n",
    "meta_human_SS = pd.read_csv(\"../data/expression/indiv_human/humanSS_metadata_layers.csv\", index_col = 0).iloc[:,4:12]"
   ]
  },
  {
   "cell_type": "markdown",
   "id": "3fa22002-996d-4eea-b4b5-22f0f09cac37",
   "metadata": {},
   "source": [
    "### Using the cell type label"
   ]
  },
  {
   "cell_type": "markdown",
   "id": "6a6aeabd-1645-48c0-9526-52987a2a3f7a",
   "metadata": {},
   "source": [
    "Split data into train and test fractions"
   ]
  },
  {
   "cell_type": "code",
   "execution_count": 26,
   "id": "a9105404-af57-478b-8bea-53a13d2c147f",
   "metadata": {},
   "outputs": [],
   "source": [
    "XSS_train, XSS_test, ySS_train, ySS_test = train_test_split(exp_human_SS, meta_human_SS.iloc[:,1:7], \n",
    "                                                            test_size=0.2, random_state=42, stratify = meta_human_SS[\"layer\"].values)"
   ]
  },
  {
   "cell_type": "markdown",
   "id": "ea5ff808-f5c7-46c0-b0e3-59c6e27fbb22",
   "metadata": {},
   "source": [
    "Scale data (based on training data)"
   ]
  },
  {
   "cell_type": "code",
   "execution_count": 27,
   "id": "b1b360bc-0690-4307-9d6e-807d8b327d42",
   "metadata": {},
   "outputs": [],
   "source": [
    "scalerSS = StandardScaler(with_mean = False)\n",
    "scalerSS.fit(XSS_train)\n",
    "\n",
    "# scale\n",
    "XSS_train_sc = scalerSS.transform(XSS_train)\n",
    "XSS_test_sc = scalerSS.transform(XSS_test)"
   ]
  },
  {
   "cell_type": "markdown",
   "id": "d422f637-9feb-44a2-91c5-22632464615a",
   "metadata": {},
   "source": [
    "Create classifier"
   ]
  },
  {
   "cell_type": "code",
   "execution_count": 28,
   "id": "3c329e94-c8e5-497b-bdca-8ea5f4e2c39b",
   "metadata": {},
   "outputs": [],
   "source": [
    "rfc = RandomForestClassifier(random_state = 1, n_estimators = 300, n_jobs = ncores)"
   ]
  },
  {
   "cell_type": "markdown",
   "id": "f479394b-a694-4461-9c8e-7955c26ba750",
   "metadata": {},
   "source": [
    "Train classifier"
   ]
  },
  {
   "cell_type": "code",
   "execution_count": 29,
   "id": "58616a77-de3f-4d78-a552-b8a5e93c3c86",
   "metadata": {},
   "outputs": [
    {
     "name": "stdout",
     "output_type": "stream",
     "text": [
      "RF 1vRest: 2030.81 seconds\n"
     ]
    }
   ],
   "source": [
    "start_time = time.time()\n",
    "cal_rfc_SS = MultiOutputClassifier(CalibratedClassifierCV(rfc, method=\"sigmoid\", cv=5, n_jobs = ncores), n_jobs = ncores)\n",
    "cal_rfc_SS.fit(XSS_train_sc, ySS_train)\n",
    "print(\"RF 1vRest: %s seconds\" % (round(time.time() - start_time, 2)))\n",
    "with open(\"../results/cross_sp_predictions/cal_rfc_humanSS_layersMulti_model.pkl\", \"wb\") as f:\n",
    "    pickle.dump(cal_rfc_SS, file=f)"
   ]
  },
  {
   "cell_type": "markdown",
   "id": "15365f92-09d2-4619-92f2-f044a439dd8e",
   "metadata": {},
   "source": [
    "Use models to predict the test data"
   ]
  },
  {
   "cell_type": "code",
   "execution_count": 30,
   "id": "919ec6cd-e03d-45e5-a92c-1ca83d27b16d",
   "metadata": {},
   "outputs": [
    {
     "name": "stdout",
     "output_type": "stream",
     "text": [
      "RF 1vRest: 89.71 seconds\n"
     ]
    }
   ],
   "source": [
    "start_time = time.time()\n",
    "pred_rfc_SS = cal_rfc_SS.predict(XSS_test_sc)\n",
    "print(\"RF 1vRest: %s seconds\" % (round(time.time() - start_time, 2)))"
   ]
  },
  {
   "cell_type": "markdown",
   "id": "a08efcd6-2766-45b5-946f-b98e57cba480",
   "metadata": {},
   "source": [
    "Get F1 score for predictions"
   ]
  },
  {
   "cell_type": "code",
   "execution_count": 31,
   "id": "057d39d2-7945-43a8-b133-9dcbb3a95fd2",
   "metadata": {
    "tags": []
   },
   "outputs": [
    {
     "data": {
      "text/plain": [
       "0.9311425767045359"
      ]
     },
     "execution_count": 31,
     "metadata": {},
     "output_type": "execute_result"
    }
   ],
   "source": [
    "f1_rfc = f1_score(ySS_test, pred_rfc_SS, average = \"macro\")\n",
    "f1_rfc"
   ]
  },
  {
   "cell_type": "code",
   "execution_count": 32,
   "id": "715d30c2-3f98-49a8-a74b-069ca8ac7b5a",
   "metadata": {},
   "outputs": [],
   "source": [
    "all_rfc_SS = precision_recall_fscore_support(ySS_test, pred_rfc_SS, zero_division = 0)"
   ]
  },
  {
   "cell_type": "code",
   "execution_count": 36,
   "id": "2b88a9c0-08ca-4318-b554-1c510457486b",
   "metadata": {},
   "outputs": [
    {
     "data": {
      "text/plain": [
       "array([0.89266797, 0.91185682, 0.9462516 , 0.9339308 , 0.94365871,\n",
       "       0.95848956])"
      ]
     },
     "execution_count": 36,
     "metadata": {},
     "output_type": "execute_result"
    }
   ],
   "source": [
    "all_rfc_SS[2]"
   ]
  },
  {
   "cell_type": "markdown",
   "id": "f38f39a4-63bd-4f81-9c68-169d21faa66e",
   "metadata": {},
   "source": [
    "Get probabilities"
   ]
  },
  {
   "cell_type": "code",
   "execution_count": 34,
   "id": "364ca7e1-dd1c-4352-9cf6-51e35ac19d27",
   "metadata": {},
   "outputs": [
    {
     "name": "stdout",
     "output_type": "stream",
     "text": [
      "RF 1vRest: 114.79 seconds\n"
     ]
    }
   ],
   "source": [
    "start_time = time.time()\n",
    "proba_rfc_SS = cal_rfc_SS.predict_proba(XSS_test_sc)\n",
    "print(\"RF 1vRest: %s seconds\" % (round(time.time() - start_time, 2)))"
   ]
  },
  {
   "cell_type": "code",
   "execution_count": 44,
   "id": "17adce41-cc5f-4230-bb8a-637ce466ea21",
   "metadata": {},
   "outputs": [
    {
     "data": {
      "text/plain": [
       "310"
      ]
     },
     "execution_count": 44,
     "metadata": {},
     "output_type": "execute_result"
    }
   ],
   "source": []
  },
  {
   "cell_type": "markdown",
   "id": "d68e70de-3f9c-441e-b024-20b6770ac841",
   "metadata": {},
   "source": [
    "### Using section labels"
   ]
  },
  {
   "cell_type": "markdown",
   "id": "744f3cd3-6b1b-4c1f-beb2-9573a297b95e",
   "metadata": {},
   "source": [
    "Subset data to remove WM"
   ]
  },
  {
   "cell_type": "code",
   "execution_count": 35,
   "id": "7867bb23-42ba-4fde-98e3-83dc22dae22b",
   "metadata": {},
   "outputs": [],
   "source": [
    "cond = meta_human_SS[\"layer2\"]!=\"WM\""
   ]
  },
  {
   "cell_type": "markdown",
   "id": "da6f872b-dbda-4438-852e-6f7e1b4b0c25",
   "metadata": {},
   "source": [
    "Simplify layers"
   ]
  },
  {
   "cell_type": "code",
   "execution_count": 66,
   "id": "c7fbd93c-db57-4368-8915-543f91d5a019",
   "metadata": {},
   "outputs": [],
   "source": [
    "meta_human_SS[\"layerS\"] = [x[0:2] for x in meta_human_SS[\"layer2\"]]"
   ]
  },
  {
   "cell_type": "markdown",
   "id": "cb751ce6-f357-4b4b-bd29-583e20ba739b",
   "metadata": {},
   "source": [
    "Split data into train and test fractions"
   ]
  },
  {
   "cell_type": "code",
   "execution_count": 67,
   "id": "749312af-3f2d-4773-b594-bfa7803e5eca",
   "metadata": {},
   "outputs": [],
   "source": [
    "XSSl2_train, XSSl2_test, ySSl2_train, ySSl2_test = train_test_split(exp_human_SS[cond.values,:], meta_human_SS.iloc[cond.values,:][\"layerS\"].values, \n",
    "                                                            test_size=0.2, random_state=42, stratify = meta_human_SS.iloc[cond.values,:][\"layerS\"].values)"
   ]
  },
  {
   "cell_type": "markdown",
   "id": "6d367ef5-afa0-4f59-96be-a19a8574ec04",
   "metadata": {},
   "source": [
    "Scale data (based on training data)"
   ]
  },
  {
   "cell_type": "code",
   "execution_count": 68,
   "id": "1e73e1d8-0d7f-456e-83b2-86112470465d",
   "metadata": {},
   "outputs": [],
   "source": [
    "scalerSSl2 = StandardScaler(with_mean = False)\n",
    "scalerSSl2.fit(XSSl2_train)\n",
    "\n",
    "# scale\n",
    "XSSl2_train_sc = scalerSSl2.transform(XSSl2_train)\n",
    "XSSl2_test_sc = scalerSSl2.transform(XSSl2_test)"
   ]
  },
  {
   "cell_type": "markdown",
   "id": "57d12602-a043-4f63-8528-622f0ee51230",
   "metadata": {},
   "source": [
    "Create classifier"
   ]
  },
  {
   "cell_type": "code",
   "execution_count": 69,
   "id": "4988a8a7-b7ad-40ec-9a09-2e9a0cef80f9",
   "metadata": {},
   "outputs": [],
   "source": [
    "rfc = RandomForestClassifier(random_state = 1, n_estimators = 300, n_jobs = ncores)"
   ]
  },
  {
   "cell_type": "markdown",
   "id": "e5a0c608-2c02-4ac0-964e-9052ecbfd563",
   "metadata": {},
   "source": [
    "Train classifier"
   ]
  },
  {
   "cell_type": "code",
   "execution_count": 70,
   "id": "f0907ede-b191-4970-823b-a4d82a420868",
   "metadata": {},
   "outputs": [
    {
     "name": "stdout",
     "output_type": "stream",
     "text": [
      "RF 1vRest: 297.92 seconds\n"
     ]
    }
   ],
   "source": [
    "start_time = time.time()\n",
    "cal_rfc_SSl2 = CalibratedClassifierCV(rfc, method=\"sigmoid\", cv=5, n_jobs = ncores)\n",
    "cal_rfc_SSl2.fit(XSSl2_train_sc, ySSl2_train)\n",
    "print(\"RF 1vRest: %s seconds\" % (round(time.time() - start_time, 2)))\n",
    "with open(\"../results/cross_sp_predictions/cal_rfc_humanSSl2_layersMulti_model.pkl\", \"wb\") as f:\n",
    "    pickle.dump(cal_rfc_SSl2, file=f)"
   ]
  },
  {
   "cell_type": "markdown",
   "id": "7499f323-9ed7-416d-a6e6-33ec77621699",
   "metadata": {},
   "source": [
    "Use models to predict the test data"
   ]
  },
  {
   "cell_type": "code",
   "execution_count": 71,
   "id": "f5a34e9f-8d8b-49fc-9d24-352cda83c59a",
   "metadata": {},
   "outputs": [
    {
     "name": "stdout",
     "output_type": "stream",
     "text": [
      "RF 1vRest: 18.22 seconds\n"
     ]
    }
   ],
   "source": [
    "start_time = time.time()\n",
    "pred_rfc_SSl2 = cal_rfc_SSl2.predict(XSSl2_test_sc)\n",
    "print(\"RF 1vRest: %s seconds\" % (round(time.time() - start_time, 2)))"
   ]
  },
  {
   "cell_type": "markdown",
   "id": "b9d0a704-676e-4b6d-b6f1-20af8ba78fce",
   "metadata": {},
   "source": [
    "Get F1 score for predictions"
   ]
  },
  {
   "cell_type": "code",
   "execution_count": 72,
   "id": "6f2c6c81-2627-41b6-a137-0a00575929cb",
   "metadata": {
    "tags": []
   },
   "outputs": [
    {
     "data": {
      "text/plain": [
       "0.5739986800741198"
      ]
     },
     "execution_count": 72,
     "metadata": {},
     "output_type": "execute_result"
    }
   ],
   "source": [
    "f1_rfc = f1_score(ySSl2_test, pred_rfc_SSl2, average = \"macro\")\n",
    "f1_rfc"
   ]
  },
  {
   "cell_type": "code",
   "execution_count": 73,
   "id": "f5555b1c-ef64-4f6d-98e5-7dd05659c88a",
   "metadata": {},
   "outputs": [],
   "source": [
    "all_rfc_SSl2 = precision_recall_fscore_support(ySSl2_test, pred_rfc_SSl2, zero_division = 0)"
   ]
  },
  {
   "cell_type": "code",
   "execution_count": 74,
   "id": "b688e9ca-0e6d-4a95-93c8-107f934ab991",
   "metadata": {},
   "outputs": [
    {
     "data": {
      "text/plain": [
       "array([0.56826057, 0.52329975, 0.55238095, 0.59970194, 0.48379761,\n",
       "       0.71655126])"
      ]
     },
     "execution_count": 74,
     "metadata": {},
     "output_type": "execute_result"
    }
   ],
   "source": [
    "all_rfc_SSl2[2]"
   ]
  },
  {
   "cell_type": "markdown",
   "id": "6f635104-aa2a-42b1-8192-3f2798f67d6c",
   "metadata": {},
   "source": [
    "Get probabilities"
   ]
  },
  {
   "cell_type": "code",
   "execution_count": 75,
   "id": "3d13217c-a574-4f53-a17a-01d0335e612f",
   "metadata": {},
   "outputs": [
    {
     "name": "stdout",
     "output_type": "stream",
     "text": [
      "RF 1vRest: 16.75 seconds\n"
     ]
    }
   ],
   "source": [
    "start_time = time.time()\n",
    "proba_rfc_SSl2 = cal_rfc_SSl2.predict_proba(XSSl2_test_sc)\n",
    "print(\"RF 1vRest: %s seconds\" % (round(time.time() - start_time, 2)))"
   ]
  },
  {
   "cell_type": "code",
   "execution_count": null,
   "id": "23a32799-bf4a-4112-abd2-0fe3637956d3",
   "metadata": {},
   "outputs": [],
   "source": []
  },
  {
   "cell_type": "code",
   "execution_count": null,
   "id": "4608e265-32f7-4902-9b35-d2f723abb02d",
   "metadata": {},
   "outputs": [],
   "source": []
  },
  {
   "cell_type": "code",
   "execution_count": null,
   "id": "ce734225-e73e-4aa1-97a4-01aa59297da6",
   "metadata": {},
   "outputs": [],
   "source": []
  },
  {
   "cell_type": "code",
   "execution_count": null,
   "id": "d6606024-92b6-4307-9975-62e69d870f56",
   "metadata": {},
   "outputs": [],
   "source": []
  },
  {
   "cell_type": "code",
   "execution_count": null,
   "id": "33623081-0c40-47e3-a010-1a44936c0fd9",
   "metadata": {},
   "outputs": [],
   "source": []
  },
  {
   "cell_type": "code",
   "execution_count": null,
   "id": "1eba92ff-cd7b-4234-b442-3b3730d18ec6",
   "metadata": {},
   "outputs": [],
   "source": []
  },
  {
   "cell_type": "code",
   "execution_count": null,
   "id": "ad87060f-6f56-43fd-95bc-a1996b5cb2d5",
   "metadata": {},
   "outputs": [],
   "source": []
  },
  {
   "cell_type": "markdown",
   "id": "36248999-cec7-4cf5-ad2e-0dcefae3b8f2",
   "metadata": {},
   "source": [
    "## Try chained models"
   ]
  },
  {
   "cell_type": "markdown",
   "id": "31d96995-12a6-4e1b-9b8c-119acb61a353",
   "metadata": {},
   "source": [
    "Setup base model"
   ]
  },
  {
   "cell_type": "code",
   "execution_count": 43,
   "id": "7d93ce51-9699-4ff7-9e8b-57455756e8c2",
   "metadata": {},
   "outputs": [],
   "source": [
    "cal_rfc_chain = CalibratedClassifierCV(rfc, method=\"sigmoid\", cv=5, n_jobs = ncores)"
   ]
  },
  {
   "cell_type": "markdown",
   "id": "756c2da6-ca1f-44fb-9a00-7705f8c7a2e3",
   "metadata": {},
   "source": [
    "Try random chains"
   ]
  },
  {
   "cell_type": "code",
   "execution_count": 45,
   "id": "a9208634-e9b1-45e6-a514-1e5f73040f9a",
   "metadata": {},
   "outputs": [
    {
     "name": "stdout",
     "output_type": "stream",
     "text": [
      "a\n",
      "a\n",
      "a\n",
      "a\n",
      "a\n"
     ]
    },
    {
     "name": "stderr",
     "output_type": "stream",
     "text": [
      "/home/tpires/bin/miniconda3/envs/scgen-env/lib/python3.9/site-packages/joblib/externals/loky/process_executor.py:688: UserWarning: A worker stopped while some jobs were given to the executor. This can be caused by a too short worker timeout or by a memory leak.\n",
      "  warnings.warn(\n",
      "/home/tpires/bin/miniconda3/envs/scgen-env/lib/python3.9/site-packages/joblib/externals/loky/process_executor.py:688: UserWarning: A worker stopped while some jobs were given to the executor. This can be caused by a too short worker timeout or by a memory leak.\n",
      "  warnings.warn(\n"
     ]
    },
    {
     "name": "stdout",
     "output_type": "stream",
     "text": [
      "a\n"
     ]
    },
    {
     "name": "stderr",
     "output_type": "stream",
     "text": [
      "/home/tpires/bin/miniconda3/envs/scgen-env/lib/python3.9/site-packages/joblib/externals/loky/process_executor.py:688: UserWarning: A worker stopped while some jobs were given to the executor. This can be caused by a too short worker timeout or by a memory leak.\n",
      "  warnings.warn(\n",
      "/home/tpires/bin/miniconda3/envs/scgen-env/lib/python3.9/site-packages/joblib/externals/loky/process_executor.py:688: UserWarning: A worker stopped while some jobs were given to the executor. This can be caused by a too short worker timeout or by a memory leak.\n",
      "  warnings.warn(\n"
     ]
    },
    {
     "name": "stdout",
     "output_type": "stream",
     "text": [
      "a\n",
      "a\n",
      "a\n"
     ]
    },
    {
     "name": "stderr",
     "output_type": "stream",
     "text": [
      "/home/tpires/bin/miniconda3/envs/scgen-env/lib/python3.9/site-packages/joblib/externals/loky/process_executor.py:688: UserWarning: A worker stopped while some jobs were given to the executor. This can be caused by a too short worker timeout or by a memory leak.\n",
      "  warnings.warn(\n"
     ]
    },
    {
     "name": "stdout",
     "output_type": "stream",
     "text": [
      "a\n",
      "10 random chains: 13189.93 seconds\n"
     ]
    }
   ],
   "source": [
    "start_time = time.time()\n",
    "chains = [ClassifierChain(cal_rfc_chain, order='random', random_state=i)\n",
    "          for i in range(10)]\n",
    "for chain in chains:\n",
    "    chain.fit(X_train_sc, y_train)\n",
    "print(\"10 random chains: %s seconds\" % (round(time.time() - start_time, 2)))"
   ]
  },
  {
   "cell_type": "markdown",
   "id": "3d7fe8d2-5f9a-4b28-86fa-2de2483c0441",
   "metadata": {},
   "source": [
    "Try two more chains: L1-L6 and L6-L1"
   ]
  },
  {
   "cell_type": "code",
   "execution_count": 46,
   "id": "2a5e505b-00aa-41c3-94c5-a20ca0e7bc7f",
   "metadata": {},
   "outputs": [
    {
     "name": "stdout",
     "output_type": "stream",
     "text": [
      "a\n"
     ]
    },
    {
     "name": "stderr",
     "output_type": "stream",
     "text": [
      "/home/tpires/bin/miniconda3/envs/scgen-env/lib/python3.9/site-packages/joblib/externals/loky/process_executor.py:688: UserWarning: A worker stopped while some jobs were given to the executor. This can be caused by a too short worker timeout or by a memory leak.\n",
      "  warnings.warn(\n"
     ]
    },
    {
     "name": "stdout",
     "output_type": "stream",
     "text": [
      "a\n"
     ]
    },
    {
     "name": "stderr",
     "output_type": "stream",
     "text": [
      "/home/tpires/bin/miniconda3/envs/scgen-env/lib/python3.9/site-packages/joblib/externals/loky/process_executor.py:688: UserWarning: A worker stopped while some jobs were given to the executor. This can be caused by a too short worker timeout or by a memory leak.\n",
      "  warnings.warn(\n"
     ]
    },
    {
     "name": "stdout",
     "output_type": "stream",
     "text": [
      "2 ordered chains: 2925.81 seconds\n"
     ]
    }
   ],
   "source": [
    "start_time = time.time()\n",
    "chains_ord = [ClassifierChain(cal_rfc_chain, order=[0,1,2,3,4,5], random_state=1),\n",
    "              ClassifierChain(cal_rfc_chain, order=[5,4,3,2,1,0], random_state=1)]\n",
    "for chain in chains_ord:\n",
    "    chain.fit(X_train_sc, y_train)\n",
    "print(\"2 ordered chains: %s seconds\" % (round(time.time() - start_time, 2)))"
   ]
  },
  {
   "cell_type": "markdown",
   "id": "e24870ac-c75c-4671-b999-d7eb6d03088c",
   "metadata": {},
   "source": [
    "Join both lists"
   ]
  },
  {
   "cell_type": "code",
   "execution_count": 51,
   "id": "d1287de4-8352-43e3-9d31-c5f3ded2f11b",
   "metadata": {},
   "outputs": [],
   "source": [
    "chains.extend(chains_ord)"
   ]
  },
  {
   "cell_type": "markdown",
   "id": "c1b4fe23-aafb-42e1-978d-b03459d1f8b5",
   "metadata": {},
   "source": [
    "Test models"
   ]
  },
  {
   "cell_type": "code",
   "execution_count": 53,
   "id": "07655261-0307-4514-8b89-9a43d4225557",
   "metadata": {},
   "outputs": [],
   "source": [
    "preds_l = []\n",
    "proba_l = []\n",
    "for chain in chains:\n",
    "    preds_l.append(chain.predict(X_test_sc))\n",
    "    proba_l.append(chain.predict(X_test_sc))"
   ]
  },
  {
   "cell_type": "code",
   "execution_count": 54,
   "id": "5653f048-e4e3-4bb1-a858-b20f2d15bc15",
   "metadata": {},
   "outputs": [
    {
     "name": "stdout",
     "output_type": "stream",
     "text": [
      "[0.9380191579836086, 0.9382388595291444, 0.9386338428719577, 0.939394041261254, 0.9386636148561704, 0.9381346289955567, 0.9387063271736391, 0.93889462868579, 0.9378003619419877, 0.9387150989096473, 0.9388738623455158, 0.9386688545346414]\n"
     ]
    }
   ],
   "source": [
    "f1_list = []\n",
    "for preds in preds_l:\n",
    "    f1_list.append(f1_score(y_test, preds, average = \"macro\"))\n",
    "print(f1_list)"
   ]
  },
  {
   "cell_type": "code",
   "execution_count": 62,
   "id": "32b3a58e-0010-4cd5-81d4-3153113e2120",
   "metadata": {},
   "outputs": [
    {
     "data": {
      "text/plain": [
       "0.9387704469691833"
      ]
     },
     "execution_count": 62,
     "metadata": {},
     "output_type": "execute_result"
    }
   ],
   "source": [
    "y_pred_chains = np.array(preds_l)\n",
    "y_pred_ensemble = y_pred_chains.mean(axis=0) >= .5\n",
    "f1_score(y_test, y_pred_ensemble, average = \"macro\")"
   ]
  },
  {
   "cell_type": "code",
   "execution_count": 67,
   "id": "48971a31-94c1-4754-9659-b63a20cdb775",
   "metadata": {},
   "outputs": [
    {
     "name": "stdout",
     "output_type": "stream",
     "text": [
      "[0.93457509 0.94713807 0.94131171 0.90797141 0.95870881 0.93840985]\n",
      "[0.93553642 0.94777854 0.94245912 0.90670171 0.95686064 0.94009674]\n",
      "[0.93566434 0.94752685 0.94432639 0.90584737 0.95629958 0.94213852]\n",
      "[0.93813953 0.94856753 0.94470046 0.90848659 0.957517   0.93895313]\n",
      "[0.93553642 0.94853242 0.94432665 0.90713265 0.95629958 0.94015396]\n",
      "[0.93594223 0.94800847 0.94131171 0.90807617 0.95705934 0.93840985]\n",
      "[0.93671475 0.94877566 0.94486185 0.90543215 0.95629958 0.94015396]\n",
      "[0.9360911  0.94817344 0.943936   0.90848659 0.95772752 0.93895313]\n",
      "[0.93507098 0.94831123 0.94178165 0.90614745 0.95614212 0.93934874]\n",
      "[0.93619003 0.94753403 0.94202372 0.90981082 0.95832213 0.93840985]\n",
      "[0.93507098 0.94771421 0.9427238  0.90861044 0.95828287 0.94084088]\n",
      "[0.93777674 0.94905326 0.94377802 0.90633911 0.95665614 0.93840985]\n",
      "[0.93633829 0.94867595 0.94371142 0.90733633 0.95706511 0.93949559]\n"
     ]
    }
   ],
   "source": [
    "for preds in preds_l:\n",
    "    print(precision_recall_fscore_support(y_test, preds, zero_division = 0)[2])\n",
    "print(precision_recall_fscore_support(y_test, y_pred_ensemble, zero_division = 0)[2])"
   ]
  },
  {
   "cell_type": "code",
   "execution_count": null,
   "id": "01c7e7d6-7158-4bce-a7f2-f1f2240fb433",
   "metadata": {},
   "outputs": [],
   "source": []
  },
  {
   "cell_type": "code",
   "execution_count": null,
   "id": "75728a23-4d44-474a-9a98-5f08c26256c8",
   "metadata": {},
   "outputs": [],
   "source": []
  }
 ],
 "metadata": {
  "kernelspec": {
   "display_name": "Python 3",
   "language": "python",
   "name": "python3"
  },
  "language_info": {
   "codemirror_mode": {
    "name": "ipython",
    "version": 3
   },
   "file_extension": ".py",
   "mimetype": "text/x-python",
   "name": "python",
   "nbconvert_exporter": "python",
   "pygments_lexer": "ipython3",
   "version": "3.9.2"
  }
 },
 "nbformat": 4,
 "nbformat_minor": 5
}
