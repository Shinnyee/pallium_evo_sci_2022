{
 "cells": [
  {
   "cell_type": "markdown",
   "id": "9277e677-2f93-4058-a0bb-a5a64f2651d9",
   "metadata": {},
   "source": [
    "# Cross-species predictions"
   ]
  },
  {
   "cell_type": "markdown",
   "id": "9c5774be-88c6-4636-b1f5-51d2713fb7b5",
   "metadata": {},
   "source": [
    "Training models for predictions across species, based on available annotations. Data comes already with matched orthologs, obtained before saving it in R."
   ]
  },
  {
   "cell_type": "markdown",
   "id": "76252a79-364a-4008-9ce7-6154a521d2db",
   "metadata": {},
   "source": [
    "## Load necessary packages"
   ]
  },
  {
   "cell_type": "code",
   "execution_count": 1,
   "id": "f27307d4-1757-4872-9a33-92c270f9b23b",
   "metadata": {},
   "outputs": [],
   "source": [
    "# data management\n",
    "import pandas as pd\n",
    "from scipy.io import mmread\n",
    "import scanpy as sc\n",
    "import pickle\n",
    "import numpy as np\n",
    "\n",
    "# scaler\n",
    "from sklearn.preprocessing import StandardScaler\n",
    "\n",
    "# models\n",
    "from sklearn.linear_model import LogisticRegression\n",
    "\n",
    "# addition to models\n",
    "from sklearn.calibration import CalibratedClassifierCV\n",
    "\n",
    "# data splitting\n",
    "from sklearn.model_selection import train_test_split\n",
    "\n",
    "# scoring\n",
    "from sklearn.metrics import f1_score\n",
    "from sklearn.metrics import precision_recall_fscore_support\n",
    "\n",
    "# time execution\n",
    "import time\n",
    "\n",
    "ncores = 50"
   ]
  },
  {
   "cell_type": "markdown",
   "id": "592710a6-26e9-4276-abf6-e553f7af5728",
   "metadata": {},
   "source": [
    "## Load and prepare the data"
   ]
  },
  {
   "cell_type": "markdown",
   "id": "d0c69467-af6c-400c-95ca-f8d18a5a72a2",
   "metadata": {},
   "source": [
    "Read in data"
   ]
  },
  {
   "cell_type": "code",
   "execution_count": null,
   "id": "3cea1383-16e3-44d0-a4e2-4a2c750488b2",
   "metadata": {},
   "outputs": [],
   "source": [
    "species = [\"zebrafish\", \"axolotl\", \"paintedturtle\", \"lizard\", \"bengalesefinch\", \"zebrafinch\", \"mouse\", \"human\"]\n",
    "sourcedir = \"/local1/USERS/tomasgomes/tmp/tmptables/\"\n",
    "speciesexpr = {sp: mmread(sourcedir + sp + \".mtx\").tocsr().transpose() for sp in species}\n",
    "speciesmeta = {sp: pd.read_csv(sourcedir + sp + \"_meta.csv\", index_col = 0) for sp in species}"
   ]
  },
  {
   "cell_type": "code",
   "execution_count": null,
   "id": "063dfd87-7072-49cf-ba3c-a95f6d59904a",
   "metadata": {},
   "outputs": [],
   "source": []
  },
  {
   "cell_type": "code",
   "execution_count": null,
   "id": "085fd513-4b3d-4e38-baa5-258e328012b6",
   "metadata": {},
   "outputs": [],
   "source": [
    "ccl_train_dic = {}\n",
    "ccl_test_dic = {}\n",
    "scl_train_dic = {}\n",
    "scl_test_dic = {}\n",
    "for sp in species:\n",
    "    print(sp)\n",
    "    X_train, X_test, y_train, y_test = train_test_split(speciesexpr[sp], speciesmeta[sp][\"cellclusters\"], \n",
    "                                                        test_size=0.2, random_state=42, \n",
    "                                                        stratify = speciesmeta[sp][\"cellclusters\"].values)\n",
    "    ccl_train_dic[sp] = {\"X\": X_train, \"y\" = y_train}\n",
    "    ccl_test_dic[sp] = {\"X\": X_test, \"y\" = y_test}\n",
    "    \n",
    "    X_train, X_test, y_train, y_test = train_test_split(speciesexpr[sp], speciesmeta[sp][\"subclasses\"], \n",
    "                                                        test_size=0.2, random_state=42, \n",
    "                                                        stratify = speciesmeta[sp][\"subclasses\"].values)\n",
    "    scl_train_dic[sp] = {\"X\": X_train, \"y\" = y_train}\n",
    "    scl_test_dic[sp] = {\"X\": X_test, \"y\" = y_test}"
   ]
  },
  {
   "cell_type": "markdown",
   "id": "d3fa1e44-b077-4662-9a27-3dfe6a6a78eb",
   "metadata": {},
   "source": [
    "Make scalers for data"
   ]
  },
  {
   "cell_type": "code",
   "execution_count": null,
   "id": "538cc261-0e5a-4421-b8ac-8df9db156b2f",
   "metadata": {},
   "outputs": [],
   "source": [
    "ccl_scaler_dic = {}\n",
    "scl_scaler_dic = {}\n",
    "for sp in species:\n",
    "    ccl_scaler_dic[sp] = StandardScaler(with_mean = False)\n",
    "    ccl_scaler_dic[sp].fit(ccl_train_dic[sp][\"X\"])\n",
    "    \n",
    "    scl_scaler_dic[sp] = StandardScaler(with_mean = False)\n",
    "    scl_scaler_dic[sp].fit(scl_train_dic[sp][\"X\"])"
   ]
  },
  {
   "cell_type": "code",
   "execution_count": null,
   "id": "d1ac32b6-88e9-413b-bfbf-d9d28238d578",
   "metadata": {},
   "outputs": [],
   "source": []
  },
  {
   "cell_type": "code",
   "execution_count": null,
   "id": "81beac86-e0ef-406a-8f81-c4784b39d954",
   "metadata": {},
   "outputs": [],
   "source": [
    "lr = LogisticRegression(random_state = 1, max_iter = 1000, n_jobs = ncores)\n",
    "ccl_model_dic = {}\n",
    "scl_model_dic = {}\n",
    "for sp in species:\n",
    "    ccl_model_dic[sp] = CalibratedClassifierCV(lr, method=\"isotonic\", cv=5, n_jobs = ncores)\n",
    "    ccl_model_dic[sp].fit(ccl_scaler_dic[sp].transform(ccl_train_dic[sp][\"X\"]), ccl_train_dic[sp][\"y\"])\n",
    "    \n",
    "    scl_model_dic[sp] = CalibratedClassifierCV(lr, method=\"isotonic\", cv=5, n_jobs = ncores)\n",
    "    scl_model_dic[sp].fit(scl_scaler_dic[sp].transform(scl_train_dic[sp][\"X\"]), scl_train_dic[sp][\"y\"])"
   ]
  },
  {
   "cell_type": "code",
   "execution_count": null,
   "id": "997c2a29-cdf0-472b-ae9e-a84b87549a00",
   "metadata": {},
   "outputs": [],
   "source": []
  },
  {
   "cell_type": "code",
   "execution_count": null,
   "id": "60ec4e3d-195a-45ae-a275-ba49a5be6c99",
   "metadata": {},
   "outputs": [],
   "source": [
    "pred_lr = cal_lr.predict(X_test_sc)\n",
    "f1_lr = f1_score(y_test, pred_lr, average = \"macro\")\n",
    "all_lr = precision_recall_fscore_support(y_test, pred_lr, zero_division = 0)\n",
    "proba_lr = cal_lr.predict_proba(X_test_sc)\n",
    "probs_df = pd.DataFrame(proba_lr, index=y_test.index.values, columns=cal_lr.classes_)\n",
    "pd.concat([pd.DataFrame({\"y_test\": y_test, \"pred_lr\": pred_lr}), probs_df], axis = 1).to_csv(\"../results/multiome/preds_lr_allax.csv\")"
   ]
  },
  {
   "cell_type": "code",
   "execution_count": null,
   "id": "763a7404-2042-4af8-9034-fe1fb1102b81",
   "metadata": {},
   "outputs": [],
   "source": []
  },
  {
   "cell_type": "code",
   "execution_count": null,
   "id": "3f9c6ae6-be2c-4831-a4c1-24cfb715b2db",
   "metadata": {},
   "outputs": [],
   "source": []
  },
  {
   "cell_type": "code",
   "execution_count": null,
   "id": "f261b74a-e2e6-4db2-94b9-16565c761015",
   "metadata": {},
   "outputs": [],
   "source": []
  },
  {
   "cell_type": "code",
   "execution_count": null,
   "id": "a0f6021b-0fae-44c5-9611-c517ff6de7c3",
   "metadata": {},
   "outputs": [],
   "source": []
  },
  {
   "cell_type": "code",
   "execution_count": 2,
   "id": "5f305878-16cf-4d55-9658-f6d7188e011b",
   "metadata": {},
   "outputs": [],
   "source": [
    "exp_ax = mmread(\"../data/processed/ax_regions_data.mtx\").tocsr().transpose()\n",
    "meta_ax = pd.read_csv(\"../data/processed/ax_regions_meta.csv\", index_col = 0)"
   ]
  },
  {
   "cell_type": "markdown",
   "id": "06af3d96-c6e0-447e-82bd-8ba13fbe1264",
   "metadata": {},
   "source": [
    "Split whole pallium vs regionalised data"
   ]
  },
  {
   "cell_type": "code",
   "execution_count": 3,
   "id": "b058039a-4675-43db-a60c-c20b94470070",
   "metadata": {},
   "outputs": [
    {
     "name": "stderr",
     "output_type": "stream",
     "text": [
      "<ipython-input-3-9bd861fb29a0>:9: SettingWithCopyWarning: \n",
      "A value is trying to be set on a copy of a slice from a DataFrame.\n",
      "Try using .loc[row_indexer,col_indexer] = value instead\n",
      "\n",
      "See the caveats in the documentation: https://pandas.pydata.org/pandas-docs/stable/user_guide/indexing.html#returning-a-view-versus-a-copy\n",
      "  meta_reg[\"cc_reg\"] = meta_reg.cellclusters+\"..\"+meta_reg.regions\n"
     ]
    }
   ],
   "source": [
    "meta_reg = meta_ax.loc[meta_ax.regions!=\"whole pallium\",:]\n",
    "exp_reg = exp_ax[:,meta_ax.regions!=\"whole pallium\"]\n",
    "# make genes uniform\n",
    "g_use = np.asarray(exp_reg.sum(axis = 1)>0)[:,0]\n",
    "exp_reg = exp_reg[g_use,:].transpose()\n",
    "exp_wp = exp_ax[:,meta_ax.regions==\"whole pallium\"]\n",
    "exp_wp = exp_wp[g_use,:].transpose()\n",
    "# variable for startification\n",
    "meta_reg[\"cc_reg\"] = meta_reg.cellclusters+\"..\"+meta_reg.regions"
   ]
  },
  {
   "cell_type": "markdown",
   "id": "96170eba-112f-4ee0-95d1-adc07fd6bcf9",
   "metadata": {},
   "source": [
    "For cc_reg with fewer than 5 occurences, will default to the region (regardless of cell type)"
   ]
  },
  {
   "cell_type": "code",
   "execution_count": 4,
   "id": "10f081fe-9ab6-4665-90d8-052db0b2609a",
   "metadata": {},
   "outputs": [
    {
     "name": "stderr",
     "output_type": "stream",
     "text": [
      "/home/tpires/bin/miniconda3/envs/scgen-env/lib/python3.9/site-packages/pandas/core/indexing.py:1676: SettingWithCopyWarning: \n",
      "A value is trying to be set on a copy of a slice from a DataFrame.\n",
      "Try using .loc[row_indexer,col_indexer] = value instead\n",
      "\n",
      "See the caveats in the documentation: https://pandas.pydata.org/pandas-docs/stable/user_guide/indexing.html#returning-a-view-versus-a-copy\n",
      "  self._setitem_single_column(ilocs[0], value, pi)\n"
     ]
    }
   ],
   "source": [
    "ct_regs = [x.split(\"..\")[0] for x in meta_reg[\"cc_reg\"].value_counts().index.values[meta_reg[\"cc_reg\"].value_counts()<5]]\n",
    "meta_reg.loc[[x in ct_regs for x in meta_reg.cellclusters],\"cc_reg\"] = meta_reg.loc[[x in ct_regs for x in meta_reg.cellclusters],\"regions\"].values"
   ]
  },
  {
   "cell_type": "markdown",
   "id": "18201aeb-5433-4faa-8c1f-21bcb4f028f2",
   "metadata": {},
   "source": [
    "## Train model for all cells"
   ]
  },
  {
   "cell_type": "markdown",
   "id": "108483bb-ad6c-4418-881c-975f9137e658",
   "metadata": {},
   "source": [
    "Split data into train and test fractions"
   ]
  },
  {
   "cell_type": "code",
   "execution_count": 5,
   "id": "1efb856d-f696-4a9f-bd26-0ab0de077974",
   "metadata": {},
   "outputs": [],
   "source": [
    "X_train, X_test, y_train, y_test = train_test_split(exp_reg, meta_reg[\"regions\"], test_size=0.2, \n",
    "                                                    random_state=42, stratify = meta_reg[\"cc_reg\"].values)"
   ]
  },
  {
   "cell_type": "markdown",
   "id": "bb4ea1df-0eab-4ff3-869f-04983c20c9e7",
   "metadata": {},
   "source": [
    "Scale data (based on training data)"
   ]
  },
  {
   "cell_type": "code",
   "execution_count": 6,
   "id": "a7068315-b9c5-4ef7-a558-f8de717961cd",
   "metadata": {},
   "outputs": [],
   "source": [
    "scaler = StandardScaler(with_mean = False)\n",
    "scaler.fit(X_train)\n",
    "\n",
    "# scale\n",
    "X_train_sc = scaler.transform(X_train)\n",
    "X_test_sc = scaler.transform(X_test)\n",
    "\n",
    "# save scaler\n",
    "with open(\"../results/multiome/scaler_axolotlRegions_all.pkl\", \"wb\") as f:\n",
    "    pickle.dump(scaler, file=f)"
   ]
  },
  {
   "cell_type": "markdown",
   "id": "32f25b5d-1f7c-4658-a9d4-6696604468bb",
   "metadata": {},
   "source": [
    "Create classifiers"
   ]
  },
  {
   "cell_type": "code",
   "execution_count": 7,
   "id": "00428af3-99ab-4fc2-975d-4de6b4dc8d46",
   "metadata": {},
   "outputs": [],
   "source": [
    "lr = LogisticRegression(random_state = 1, max_iter = 1000, n_jobs = ncores)"
   ]
  },
  {
   "cell_type": "markdown",
   "id": "a1611a11-61de-4f20-9013-843bf1471a67",
   "metadata": {},
   "source": [
    "Train classifiers"
   ]
  },
  {
   "cell_type": "code",
   "execution_count": 8,
   "id": "c754eea4-96d4-4425-b102-f41bf0fcabe6",
   "metadata": {},
   "outputs": [
    {
     "name": "stdout",
     "output_type": "stream",
     "text": [
      "RF 1vRest: 108.86 seconds\n",
      "LR 1vRest: 263.83 seconds\n"
     ]
    }
   ],
   "source": [
    "start_time = time.time()\n",
    "cal_rfc = CalibratedClassifierCV(rfc, method=\"sigmoid\", cv=5, n_jobs = ncores)\n",
    "cal_rfc.fit(X_train_sc, y_train)\n",
    "print(\"RF 1vRest: %s seconds\" % (round(time.time() - start_time, 2)))\n",
    "with open(\"../results/multiome/cal_rfc_axolotlRegions_all_model.pkl\", \"wb\") as f:\n",
    "    pickle.dump(cal_rfc, file=f)\n",
    "    \n",
    "start_time = time.time()\n",
    "cal_lr = CalibratedClassifierCV(lr, method=\"isotonic\", cv=5, n_jobs = ncores)\n",
    "cal_lr.fit(X_train_sc, y_train)\n",
    "print(\"LR 1vRest: %s seconds\" % (round(time.time() - start_time, 2)))\n",
    "with open(\"../results/multiome/cal_lr_axolotlRegions_all_model.pkl\", \"wb\") as f:\n",
    "    pickle.dump(cal_lr, file=f)"
   ]
  },
  {
   "cell_type": "markdown",
   "id": "17639232-74ce-4928-b579-bd2689186df7",
   "metadata": {},
   "source": [
    "Use models to predict the test data"
   ]
  },
  {
   "cell_type": "code",
   "execution_count": 9,
   "id": "8deca077-092c-4843-b143-a4cf15298396",
   "metadata": {},
   "outputs": [
    {
     "name": "stdout",
     "output_type": "stream",
     "text": [
      "RF 1vRest: 9.7 seconds\n",
      "LR 1vRest: 0.64 seconds\n"
     ]
    }
   ],
   "source": [
    "start_time = time.time()\n",
    "pred_rfc = cal_rfc.predict(X_test_sc)\n",
    "print(\"RF 1vRest: %s seconds\" % (round(time.time() - start_time, 2)))\n",
    "\n",
    "start_time = time.time()\n",
    "pred_lr = cal_lr.predict(X_test_sc)\n",
    "print(\"LR 1vRest: %s seconds\" % (round(time.time() - start_time, 2)))"
   ]
  },
  {
   "cell_type": "markdown",
   "id": "6a72f7c4-885c-440d-ab9f-ecf3d3597bf2",
   "metadata": {},
   "source": [
    "Get F1 score for predictions"
   ]
  },
  {
   "cell_type": "code",
   "execution_count": 10,
   "id": "aec3c616-ce28-4b85-b3c5-595fe1be8ce3",
   "metadata": {
    "tags": []
   },
   "outputs": [
    {
     "name": "stdout",
     "output_type": "stream",
     "text": [
      "0.9692502376813734\n",
      "0.99564678359155\n"
     ]
    }
   ],
   "source": [
    "f1_rfc = f1_score(y_test, pred_rfc, average = \"macro\")\n",
    "print(f1_rfc)\n",
    "\n",
    "f1_lr = f1_score(y_test, pred_lr, average = \"macro\")\n",
    "print(f1_lr)"
   ]
  },
  {
   "cell_type": "code",
   "execution_count": 11,
   "id": "d428d71b-2f2b-465a-b9cb-acd49e4a3177",
   "metadata": {},
   "outputs": [],
   "source": [
    "all_rfc = precision_recall_fscore_support(y_test, pred_rfc, zero_division = 0)\n",
    "with open(\"../results/multiome/PRFSup_rfc_allax.pkl\", \"wb\") as f:\n",
    "    pickle.dump(all_rfc, file=f)\n",
    "\n",
    "all_lr = precision_recall_fscore_support(y_test, pred_lr, zero_division = 0)\n",
    "with open(\"../results/multiome/PRFSup_lr_allax.pkl\", \"wb\") as f:\n",
    "    pickle.dump(all_lr, file=f)"
   ]
  },
  {
   "cell_type": "markdown",
   "id": "549e2671-8ad1-4454-8e6e-652802fa0069",
   "metadata": {},
   "source": [
    "Get probabilities"
   ]
  },
  {
   "cell_type": "code",
   "execution_count": 12,
   "id": "1c04cdef-aaa2-4531-8565-751cbecd3712",
   "metadata": {},
   "outputs": [
    {
     "name": "stdout",
     "output_type": "stream",
     "text": [
      "RF 1vRest: 9.81 seconds\n",
      "LR 1vRest: 0.67 seconds\n"
     ]
    }
   ],
   "source": [
    "start_time = time.time()\n",
    "proba_rfc = cal_rfc.predict_proba(X_test_sc)\n",
    "print(\"RF 1vRest: %s seconds\" % (round(time.time() - start_time, 2)))\n",
    "probs_df = pd.DataFrame(proba_rfc, index=y_test.index.values, columns=cal_rfc.classes_)\n",
    "pd.concat([pd.DataFrame({\"y_test\": y_test, \"pred_rfc\": pred_rfc}), probs_df], axis = 1).to_csv(\"../results/multiome/preds_rfc_allax.csv\")\n",
    "\n",
    "start_time = time.time()\n",
    "proba_lr = cal_lr.predict_proba(X_test_sc)\n",
    "print(\"LR 1vRest: %s seconds\" % (round(time.time() - start_time, 2)))\n",
    "probs_df = pd.DataFrame(proba_lr, index=y_test.index.values, columns=cal_lr.classes_)\n",
    "pd.concat([pd.DataFrame({\"y_test\": y_test, \"pred_lr\": pred_lr}), probs_df], axis = 1).to_csv(\"../results/multiome/preds_lr_allax.csv\")\n"
   ]
  },
  {
   "cell_type": "code",
   "execution_count": null,
   "id": "f5b64828-cb29-41b4-817f-4193133a7624",
   "metadata": {},
   "outputs": [],
   "source": []
  }
 ],
 "metadata": {
  "kernelspec": {
   "display_name": "Python 3",
   "language": "python",
   "name": "python3"
  },
  "language_info": {
   "codemirror_mode": {
    "name": "ipython",
    "version": 3
   },
   "file_extension": ".py",
   "mimetype": "text/x-python",
   "name": "python",
   "nbconvert_exporter": "python",
   "pygments_lexer": "ipython3",
   "version": "3.9.2"
  }
 },
 "nbformat": 4,
 "nbformat_minor": 5
}
